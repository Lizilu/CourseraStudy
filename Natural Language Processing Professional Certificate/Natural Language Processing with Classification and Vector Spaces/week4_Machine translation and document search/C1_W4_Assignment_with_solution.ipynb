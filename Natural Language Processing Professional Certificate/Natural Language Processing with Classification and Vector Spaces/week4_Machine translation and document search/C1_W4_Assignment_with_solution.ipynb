{
 "cells": [
  {
   "cell_type": "markdown",
   "metadata": {},
   "source": [
    "# Assignment 4 - Naive Machine Translation and LSH\n",
    "\n",
    "You will now implement your first machine translation system and then you\n",
    "will see how locality sensitive hashing works. Let's get started by importing\n",
    "the required functions!\n",
    "\n",
    "If you are running this notebook in your local computer, don't forget to\n",
    "download the twitter samples and stopwords from nltk.\n",
    "\n",
    "```\n",
    "nltk.download('stopwords')\n",
    "nltk.download('twitter_samples')\n",
    "```"
   ]
  },
  {
   "cell_type": "markdown",
   "metadata": {},
   "source": [
    "**NOTE**: The `Exercise xx` numbers in this assignment **_are inconsistent_** with the `UNQ_Cx` numbers."
   ]
  },
  {
   "cell_type": "markdown",
   "metadata": {},
   "source": [
    "### This assignment covers the folowing topics:\n",
    "\n",
    "- [1. The word embeddings data for English and French words](#1)\n",
    "  - [1.1 Generate embedding and transform matrices](#1-1)\n",
    "      - [Exercise 1](#ex-01)\n",
    "- [2. Translations](#2)\n",
    "  - [2.1 Translation as linear transformation of embeddings](#2-1)\n",
    "      - [Exercise 2](#ex-02)  \n",
    "      - [Exercise 3](#ex-03)  \n",
    "      - [Exercise 4](#ex-04)        \n",
    "  - [2.2 Testing the translation](#2-2)\n",
    "      - [Exercise 5](#ex-05)\n",
    "      - [Exercise 6](#ex-06)      \n",
    "- [3. LSH and document search](#3)\n",
    "  - [3.1 Getting the document embeddings](#3-1)\n",
    "      - [Exercise 7](#ex-07)\n",
    "      - [Exercise 8](#ex-08)      \n",
    "  - [3.2 Looking up the tweets](#3-2)\n",
    "  - [3.3 Finding the most similar tweets with LSH](#3-3)\n",
    "  - [3.4 Getting the hash number for a vector](#3-4)\n",
    "      - [Exercise 9](#ex-09)  \n",
    "  - [3.5 Creating a hash table](#3-5)\n",
    "      - [Exercise 10](#ex-10)  \n",
    "  - [3.6 Creating all hash tables](#3-6)\n",
    "      - [Exercise 11](#ex-11)  "
   ]
  },
  {
   "cell_type": "code",
   "execution_count": 8,
   "metadata": {},
   "outputs": [],
   "source": [
    "import pdb\n",
    "import pickle\n",
    "import string\n",
    "\n",
    "import time\n",
    "\n",
    "import gensim\n",
    "import matplotlib.pyplot as plt\n",
    "import nltk\n",
    "import numpy as np\n",
    "import scipy\n",
    "import sklearn\n",
    "from gensim.models import KeyedVectors\n",
    "from nltk.corpus import stopwords, twitter_samples\n",
    "from nltk.tokenize import TweetTokenizer\n",
    "\n",
    "from utils import (cosine_similarity, get_dict,\n",
    "                   process_tweet)\n",
    "from os import getcwd"
   ]
  },
  {
   "cell_type": "code",
   "execution_count": 9,
   "metadata": {},
   "outputs": [],
   "source": [
    "# add folder, tmp2, from our local workspace containing pre-downloaded corpora files to nltk's data path\n",
    "filePath = f\"{getcwd()}/../tmp2/\"\n",
    "nltk.data.path.append(filePath)"
   ]
  },
  {
   "cell_type": "markdown",
   "metadata": {},
   "source": [
    "<a name=\"1\"></a>\n",
    "\n",
    "# 1. The word embeddings data for English and French words\n",
    "\n",
    "Write a program that translates English to French.\n",
    "\n",
    "## The data\n",
    "\n",
    "The full dataset for English embeddings is about 3.64 gigabytes, and the French\n",
    "embeddings are about 629 megabytes. To prevent the Coursera workspace from\n",
    "crashing, we've extracted a subset of the embeddings for the words that you'll\n",
    "use in this assignment.\n",
    "\n",
    "If you want to run this on your local computer and use the full dataset,\n",
    "you can download the\n",
    "* English embeddings from Google code archive word2vec\n",
    "[look for GoogleNews-vectors-negative300.bin.gz](https://code.google.com/archive/p/word2vec/)\n",
    "    * You'll need to unzip the file first.\n",
    "* and the French embeddings from\n",
    "[cross_lingual_text_classification](https://github.com/vjstark/crosslingual_text_classification).\n",
    "    * in the terminal, type (in one line)\n",
    "    `curl -o ./wiki.multi.fr.vec https://dl.fbaipublicfiles.com/arrival/vectors/wiki.multi.fr.vec`\n",
    "\n",
    "Then copy-paste the code below and run it."
   ]
  },
  {
   "cell_type": "markdown",
   "metadata": {},
   "source": [
    "```python\n",
    "# Use this code to download and process the full dataset on your local computer\n",
    "\n",
    "from gensim.models import KeyedVectors\n",
    "\n",
    "en_embeddings = KeyedVectors.load_word2vec_format('./GoogleNews-vectors-negative300.bin', binary = True)\n",
    "fr_embeddings = KeyedVectors.load_word2vec_format('./wiki.multi.fr.vec')\n",
    "\n",
    "\n",
    "# loading the english to french dictionaries\n",
    "en_fr_train = get_dict('en-fr.train.txt')\n",
    "print('The length of the english to french training dictionary is', len(en_fr_train))\n",
    "en_fr_test = get_dict('en-fr.test.txt')\n",
    "print('The length of the english to french test dictionary is', len(en_fr_train))\n",
    "\n",
    "english_set = set(en_embeddings.vocab)\n",
    "french_set = set(fr_embeddings.vocab)\n",
    "en_embeddings_subset = {}\n",
    "fr_embeddings_subset = {}\n",
    "french_words = set(en_fr_train.values())\n",
    "\n",
    "for en_word in en_fr_train.keys():\n",
    "    fr_word = en_fr_train[en_word]\n",
    "    if fr_word in french_set and en_word in english_set:\n",
    "        en_embeddings_subset[en_word] = en_embeddings[en_word]\n",
    "        fr_embeddings_subset[fr_word] = fr_embeddings[fr_word]\n",
    "\n",
    "\n",
    "for en_word in en_fr_test.keys():\n",
    "    fr_word = en_fr_test[en_word]\n",
    "    if fr_word in french_set and en_word in english_set:\n",
    "        en_embeddings_subset[en_word] = en_embeddings[en_word]\n",
    "        fr_embeddings_subset[fr_word] = fr_embeddings[fr_word]\n",
    "\n",
    "\n",
    "pickle.dump( en_embeddings_subset, open( \"en_embeddings.p\", \"wb\" ) )\n",
    "pickle.dump( fr_embeddings_subset, open( \"fr_embeddings.p\", \"wb\" ) )\n",
    "```"
   ]
  },
  {
   "cell_type": "markdown",
   "metadata": {},
   "source": [
    "#### The subset of data\n",
    "\n",
    "To do the assignment on the Coursera workspace, we'll use the subset of word embeddings."
   ]
  },
  {
   "cell_type": "code",
   "execution_count": 10,
   "metadata": {},
   "outputs": [],
   "source": [
    "en_embeddings_subset = pickle.load(open(\"en_embeddings.p\", \"rb\"))\n",
    "fr_embeddings_subset = pickle.load(open(\"fr_embeddings.p\", \"rb\"))"
   ]
  },
  {
   "cell_type": "markdown",
   "metadata": {},
   "source": [
    "#### Look at the data\n",
    "\n",
    "* en_embeddings_subset: the key is an English word, and the vaule is a\n",
    "300 dimensional array, which is the embedding for that word.\n",
    "```\n",
    "'the': array([ 0.08007812,  0.10498047,  0.04980469,  0.0534668 , -0.06738281, ....\n",
    "```\n",
    "\n",
    "* fr_embeddings_subset: the key is an French word, and the vaule is a 300\n",
    "dimensional array, which is the embedding for that word.\n",
    "```\n",
    "'la': array([-6.18250e-03, -9.43867e-04, -8.82648e-03,  3.24623e-02,...\n",
    "```"
   ]
  },
  {
   "cell_type": "markdown",
   "metadata": {},
   "source": [
    "#### Load two dictionaries mapping the English to French words\n",
    "* A training dictionary\n",
    "* and a testing dictionary."
   ]
  },
  {
   "cell_type": "code",
   "execution_count": 11,
   "metadata": {},
   "outputs": [
    {
     "name": "stdout",
     "output_type": "stream",
     "text": [
      "The length of the English to French training dictionary is 5000\n",
      "The length of the English to French test dictionary is 5000\n"
     ]
    }
   ],
   "source": [
    "# loading the english to french dictionaries\n",
    "en_fr_train = get_dict('en-fr.train.txt')\n",
    "print('The length of the English to French training dictionary is', len(en_fr_train))\n",
    "en_fr_test = get_dict('en-fr.test.txt')\n",
    "print('The length of the English to French test dictionary is', len(en_fr_train))"
   ]
  },
  {
   "cell_type": "code",
   "execution_count": 12,
   "metadata": {},
   "outputs": [
    {
     "data": {
      "text/plain": [
       "dict_items([('the', 'la'), ('and', 'et'), ('was', 'était'), ('for', 'pour'), ('that', 'cela'), ('with', 'avec'), ('from', 'depuis'), ('this', 'ce'), ('utc', 'tuc'), ('his', 'son'), ('not', 'pas'), ('are', 'sont'), ('talk', 'parlez'), ('which', 'lequel'), ('also', 'egalement'), ('were', 'étaient'), ('but', 'mais'), ('have', 'ont'), ('one', 'one'), ('new', 'nouveautés'), ('first', 'premiers'), ('page', 'page'), ('you', 'you'), ('they', 'eux'), ('had', 'avais'), ('article', 'article'), ('who', 'who'), ('all', 'all'), ('their', 'leurs'), ('there', 'là'), ('made', 'fabriqué'), ('its', 'son'), ('people', 'personnes'), ('may', 'peut'), ('after', 'aprés'), ('other', 'autres'), ('should', 'devrais'), ('two', 'deux'), ('score', 'partition'), ('her', 'her'), ('can', 'peut'), ('would', 'ferait'), ('more', 'plus'), ('she', 'elle'), ('when', 'quand'), ('time', 'heure'), ('team', 'equipe'), ('american', 'américains'), ('such', 'telles'), ('discussion', 'débat'), ('links', 'liens'), ('only', 'seule'), ('some', 'quelques'), ('see', 'vois'), ('united', 'unies'), ('years', 'ans'), ('school', 'école'), ('world', 'mondiale'), ('university', 'universitaire'), ('during', 'lors'), ('out', 'out'), ('state', 'état'), ('states', 'états'), ('national', 'nationales'), ('wikipedia', 'wikipedia'), ('year', 'année'), ('most', 'most'), ('city', 'villes'), ('used', 'utilisée'), ('then', 'puis'), ('county', 'comté'), ('external', 'externes'), ('where', 'où'), ('will', 'sera'), ('what', 'quelle'), ('delete', 'effacer'), ('these', 'ces'), ('january', 'janvier'), ('march', 'mars'), ('august', 'août'), ('july', 'juillet'), ('being', 'être'), ('film', 'film'), ('him', 'lui'), ('many', 'plusieurs'), ('south', 'sud'), ('september', 'septembre'), ('like', 'aimez'), ('between', 'entre'), ('october', 'octobre'), ('three', 'three'), ('june', 'juin'), ('well', 'bah'), ('use', 'utilisez'), ('war', 'war'), ('under', 'under'), ('them', 'eux'), ('april', 'avril'), ('born', 'born'), ('december', 'decembre'), ('link', 'lien'), ('later', 'ultérieur'), ('part', 'partie'), ('november', 'novembre'), ('players', 'joueurs'), ('list', 'listes'), ('please', 'svp'), ('following', 'suivant'), ('february', 'février'), ('known', 'connu'), ('second', 'seconde'), ('name', 'noms'), ('group', 'groupe'), ('history', 'historique'), ('series', 'séries'), ('just', 'juste'), ('north', 'nord'), ('work', 'travailler'), ('before', 'avant'), ('since', 'puisque'), ('season', 'saisons'), ('both', 'both'), ('high', 'élevé'), ('through', 'via'), ('district', 'district'), ('now', 'maintenant'), ('comments', 'observations'), ('because', 'parceque'), ('football', 'football'), ('music', 'musique'), ('however', 'cependant'), ('diff', 'diff'), ('century', 'century'), ('league', 'ligue'), ('edits', 'modifications'), ('debate', 'débat'), ('title', 'titre'), ('articles', 'articles'), ('john', 'john'), ('same', 'même'), ('including', 'comprenant'), ('could', 'pourraient'), ('english', 'anglais'), ('album', 'album'), ('number', 'numéro'), ('against', 'against'), ('family', 'familles'), ('user', 'usager'), ('based', 'basé'), ('area', 'domaine'), ('became', 'devint'), ('york', 'york'), ('life', 'vie'), ('british', 'britannique'), ('international', 'internationale'), ('game', 'jeu'), ('club', 'club'), ('your', 'vos'), ('early', 'tôt'), ('best', 'meilleurs'), ('west', 'west'), ('house', 'maison'), ('company', 'société'), ('general', 'général'), ('left', 'gauche'), ('very', 'trés'), ('here', 'voici'), ('don', 'don'), ('living', 'vivre'), ('day', 'journee'), ('several', 'plusieurs'), ('place', 'lieu'), ('party', 'fête'), ('college', 'université'), ('result', 'résultat'), ('keep', 'conserver'), ('appropriate', 'appropriée'), ('four', 'quatre'), ('even', 'même'), ('class', 'classe'), ('government', 'gouvernements'), ('how', 'comment'), ('called', 'appelés'), ('did', 'did'), ('each', 'chacun'), ('found', 'trouvés'), ('center', 'centre'), ('per', 'per'), ('style', 'style'), ('com', 'com'), ('long', 'long'), ('country', 'pays'), ('back', 'revenir'), ('way', 'way'), ('www', 'www'), ('modify', 'modifier'), ('end', 'fin'), ('make', 'faire'), ('public', 'publique'), ('played', 'joué'), ('won', 'gagnés'), ('another', 'another'), ('released', 'libéré'), ('added', 'ajoutée'), ('support', 'appui'), ('games', 'jeux'), ('former', 'ancienne'), ('those', 'ceux'), ('films', 'films'), ('church', 'eglise'), ('east', 'orient'), ('line', 'line'), ('major', 'majeur'), ('members', 'adhérents'), ('good', 'bonnes'), ('much', 'beaucoup'), ('image', 'image'), ('show', 'spectacle'), ('still', 'toujours'), ('think', 'réfléchir'), ('below', 'dessous'), ('town', 'ville'), ('last', 'dernières'), ('system', 'système'), ('right', 'droit'), ('song', 'chanson'), ('notable', 'remarquables'), ('section', 'section'), ('single', 'célibataires'), ('included', 'compris'), ('align', 'alignement'), ('home', 'accueil'), ('women', 'femme'), ('television', 'télé'), ('seed', 'semence'), ('member', 'membre'), ('goals', 'objectifs'), ('sources', 'sources'), ('book', 'réserver'), ('station', 'gare'), ('order', 'commander'), ('old', 'vieille'), ('information', 'information'), ('set', 'définir'), ('own', 'posséder'), ('text', 'texte'), ('band', 'bande'), ('point', 'point'), ('local', 'locaux'), ('around', 'alentour'), ('river', 'rivière'), ('top', 'haut'), ('main', 'principaux'), ('language', 'langues'), ('french', 'françaises'), ('https', 'https'), ('named', 'nommés'), ('off', 'hors'), ('note', 'notez'), ('career', 'carrière'), ('original', 'originaux'), ('age', 'âges'), ('service', 'service'), ('established', 'établis'), ('located', 'situé'), ('said', 'disait'), ('website', 'site'), ('population', 'population'), ('air', 'air'), ('german', 'allemande'), ('law', 'droit'), ('military', 'militaires'), ('great', 'grand'), ('clubs', 'clubs'), ('published', 'publié'), ('president', 'président'), ('park', 'parc'), ('official', 'officiel'), ('case', 'affaire'), ('london', 'londres'), ('times', 'fois'), ('although', 'quoique'), ('small', 'petite'), ('third', 'troisièmement'), ('different', 'différent'), ('due', 'dû'), ('get', 'obtenir'), ('village', 'village'), ('closed', 'clos'), ('art', 'artistique'), ('player', 'lecteur'), ('final', 'définitive'), ('community', 'collectivité'), ('held', 'tenu'), ('again', 'encore'), ('began', 'commencé'), ('army', 'armée'), ('award', 'récompense'), ('without', 'sans'), ('death', 'mort'), ('built', 'construits'), ('men', 'homme'), ('large', 'grand'), ('site', 'site'), ('using', 'utilisant'), ('deletion', 'suppression'), ('white', 'blanc'), ('five', 'cinq'), ('central', 'centrale'), ('road', 'chemin'), ('children', 'enfant'), ('free', 'libre'), ('took', 'prit'), ('england', 'angleterre'), ('include', 'inclut'), ('association', 'association'), ('down', 'descendre'), ('given', 'donnés'), ('source', 'sources'), ('california', 'californienne'), ('man', 'homme'), ('version', 'version'), ('written', 'écrits'), ('created', 'créés'), ('media', 'médias'), ('black', 'noirs'), ('php', 'php'), ('report', 'rapport'), ('building', 'bâtiment'), ('take', 'prends'), ('division', 'circonscription'), ('comment', 'commenter'), ('having', 'avoir'), ('king', 'king'), ('edit', 'éditer'), ('stadium', 'stadium'), ('died', 'mort'), ('ship', 'vaisseau'), ('research', 'recherche'), ('record', 'enregistrer'), ('archive', 'archives'), ('places', 'lieux'), ('undo', 'défaire'), ('cup', 'coupe'), ('records', 'records'), ('often', 'souvent'), ('few', 'peu'), ('received', 'reçue'), ('side', 'latéral'), ('power', 'pouvoir'), ('education', 'éducation'), ('know', 'savoir'), ('category', 'catégories'), ('water', 'eau'), ('species', 'espèce'), ('field', 'domaine'), ('near', 'près'), ('australia', 'australie'), ('video', 'video'), ('need', 'besoin'), ('island', 'île'), ('form', 'formulaire'), ('find', 'trouvez'), ('served', 'desservis'), ('play', 'jouez'), ('project', 'projet'), ('radio', 'radio'), ('works', 'oeuvres'), ('proposed', 'proposés'), ('every', 'chaque'), ('development', 'développement'), ('example', 'exemple'), ('live', 'vivre'), ('union', 'syndicat'), ('india', 'indes'), ('next', 'next'), ('special', 'spéciale'), ('court', 'cour'), ('region', 'région'), ('little', 'petite'), ('short', 'courtes'), ('william', 'william'), ('province', 'province'), ('western', 'western'), ('son', 'fiston'), ('france', 'france'), ('council', 'conseil'), ('others', 'autres'), ('royal', 'royaux'), ('current', 'actuelle'), ('street', 'rue'), ('full', 'complet'), ('red', 'rouge'), ('too', 'too'), ('department', 'département'), ('san', 'san'), ('help', 'aide'), ('among', 'parmi'), ('preserved', 'préservées'), ('james', 'james'), ('open', 'ouvrir'), ('force', 'forcer'), ('position', 'position'), ('head', 'têtes'), ('director', 'réalisateur'), ('father', 'père'), ('track', 'morceau'), ('http', 'http'), ('canada', 'canada'), ('never', 'never'), ('australian', 'australie'), ('george', 'george'), ('jpg', 'jpg'), ('level', 'niveau'), ('late', 'tard'), ('summer', 'été'), ('society', 'société'), ('moved', 'déplacée'), ('office', 'bureau'), ('period', 'période'), ('championship', 'championnat'), ('round', 'ronds'), ('story', 'récit'), ('songs', 'chansons'), ('various', 'diverses'), ('file', 'fichier'), ('days', 'journées'), ('land', 'terres'), ('business', 'entreprises'), ('reason', 'raison'), ('america', 'amérique'), ('million', 'millions'), ('european', 'européen'), ('term', 'terme'), ('six', 'six'), ('post', 'publication'), ('why', 'why'), ('produced', 'produites'), ('subject', 'sujet'), ('young', 'jeune'), ('total', 'totaux'), ('david', 'david'), ('science', 'sciences'), ('related', 'liés'), ('rock', 'rock'), ('archived', 'archivés'), ('railway', 'ferroviaire'), ('become', 'devenir'), ('led', 'led'), ('students', 'élèves'), ('started', 'commencée'), ('news', 'actualités'), ('described', 'décrite'), ('role', 'rôle'), ('election', 'élections'), ('albums', 'albums'), ('present', 'présenter'), ('indian', 'indien'), ('kingdom', 'royaume'), ('books', 'livres'), ('important', 'importants'), ('northern', 'nord'), ('love', 'love'), ('run', 'exécuter'), ('canadian', 'canadien'), ('press', 'presse'), ('rather', 'plutôt'), ('type', 'tapez'), ('act', 'act'), ('editor', 'editeur'), ('came', 'vint'), ('schools', 'écoles'), ('program', 'programme'), ('once', 'once'), ('social', 'social'), ('germany', 'allemagne'), ('production', 'production'), ('male', 'homme'), ('might', 'pourrait'), ('awards', 'récompenses'), ('points', 'points'), ('similar', 'semblable'), ('professional', 'professionnelles'), ('say', 'dis'), ('background', 'contexte'), ('enough', 'assez'), ('lead', 'plomb'), ('either', 'soit'), ('common', 'commun'), ('overlap', 'chevauchements'), ('data', 'données'), ('color', 'couleurs'), ('better', 'meilleur'), ('person', 'personne'), ('services', 'services'), ('bgcolor', 'bgcolor'), ('museum', 'musée'), ('battle', 'combat'), ('went', 'allé'), ('sports', 'sports'), ('already', 'dejà'), ('currently', 'présentement'), ('hall', 'hall'), ('buildings', 'édifices'), ('historic', 'historiques'), ('date', 'date'), ('deleted', 'supprimées'), ('considered', 'considérés'), ('change', 'changement'), ('location', 'lieu'), ('seems', 'semble'), ('must', 'devez'), ('yes', 'yes'), ('our', 'nos'), ('southern', 'méridionale'), ('lost', 'perdus'), ('something', 'quelquechose'), ('review', 'révision'), ('together', 'together'), ('robert', 'thierry'), ('less', 'moins'), ('japanese', 'japonaises'), ('groups', 'groupes'), ('content', 'contenus'), ('involved', 'impliquée'), ('isbn', 'isbn'), ('board', 'planche'), ('japan', 'japon'), ('control', 'contrôle'), ('policy', 'politique'), ('modern', 'modernes'), ('human', 'humain'), ('half', 'demi'), ('design', 'conception'), ('event', 'evénement'), ('events', 'événements'), ('available', 'disponibles'), ('done', 'faite'), ('washington', 'washington'), ('real', 'vraie'), ('start', 'début'), ('personal', 'personnels'), ('action', 'action'), ('space', 'espace'), ('areas', 'zones'), ('star', 'étoiles'), ('really', 'réellement'), ('china', 'chine'), ('possible', 'possibles'), ('paul', 'paul'), ('working', 'travailler'), ('taken', 'prise'), ('far', 'loin'), ('going', 'aller'), ('minister', 'ministre'), ('lake', 'lac'), ('reported', 'signalée'), ('popular', 'populaire'), ('married', 'marié'), ('founded', 'fondée'), ('europe', 'europe'), ('author', 'auteur'), ('away', 'loin'), ('independent', 'indépendants'), ('process', 'procédé'), ('teams', 'equipes'), ('character', 'personnage'), ('low', 'bas'), ('michael', 'michel'), ('pages', 'pages'), ('light', 'léger'), ('big', 'grand'), ('seen', 'vus'), ('release', 'libèrent'), ('want', 'voulez'), ('episode', 'episode'), ('wrote', 'écrit'), ('republic', 'république'), ('thomas', 'thomas'), ('companies', 'sociétés'), ('via', 'via'), ('russian', 'russe'), ('thanks', 'remerciements'), ('put', 'mettre'), ('race', 'race'), ('worked', 'travaillé'), ('route', 'parcours'), ('recorded', 'enregistré'), ('someone', 'someone'), ('civil', 'civiles'), ('police', 'policier'), ('charles', 'charles'), ('listed', 'répertoriés'), ('users', 'utilisateurs'), ('template', 'modèle'), ('eastern', 'oriental'), ('body', 'corps'), ('question', 'question'), ('italian', 'italiens'), ('featured', 'vedettes'), ('week', 'semaines'), ('editors', 'éditeurs'), ('texas', 'texas'), ('chief', 'chef'), ('close', 'proche'), ('match', 'match'), ('roman', 'romains'), ('come', 'venir'), ('opened', 'ouvert'), ('tour', 'tournée'), ('sea', 'mer'), ('cross', 'croisé'), ('playing', 'jouant'), ('health', 'santé'), ('institute', 'institut'), ('caps', 'bouchons'), ('forces', 'forces'), ('green', 'vertes'), ('rights', 'droits'), ('evidence', 'preuves'), ('originally', 'initialement'), ('aircraft', 'avions'), ('arts', 'arts'), ('range', 'portée'), ('probably', 'sûrement'), ('consensus', 'consensus'), ('bar', 'barre'), ('problem', 'problématique'), ('look', 'regardes'), ('issues', 'problèmes'), ('alumni', 'anciens'), ('average', 'moyenne'), ('network', 'réseau'), ('win', 'gagnant'), ('shows', 'spectacles'), ('wife', 'femme'), ('returned', 'retournée'), ('night', 'soir'), ('magazine', 'magasine'), ('centre', 'centre'), ('joined', 'rejoint'), ('usually', 'généralement'), ('middle', 'milieu'), ('completed', 'terminé'), ('elected', 'élus'), ('significant', 'significatifs'), ('african', 'africaines'), ('able', 'capable'), ('google', 'google'), ('stage', 'scène'), ('addition', 'ajout'), ('ireland', 'irlande'), ('today', 'aujourdhui'), ('academy', 'academy'), ('saint', 'saint'), ('self', 'self'), ('itself', 'soi'), ('continued', 'continué'), ('stations', 'stations'), ('mother', 'maman'), ('appeared', 'semblait'), ('africa', 'afrique'), ('culture', 'culture'), ('spanish', 'espagnols'), ('grand', 'grand'), ('committee', 'comité'), ('things', 'choses'), ('fire', 'incendies'), ('changed', 'changée'), ('gold', 'gold'), ('female', 'femme'), ('course', 'cours'), ('directed', 'orienté'), ('months', 'mois'), ('chinese', 'chinoise'), ('previous', 'précédents'), ('developed', 'développé'), ('size', 'tailles'), ('mentioned', 'mentionnés'), ('add', 'ajoutez'), ('festival', 'fête'), ('peter', 'pierre'), ('basketball', 'basketball'), ('move', 'déplacer'), ('performance', 'rendement'), ('standard', 'standard'), ('means', 'signifie'), ('give', 'donnez'), ('training', 'entraînement'), ('artist', 'artistes'), ('word', 'mot'), ('blue', 'bleues'), ('primary', 'primaires'), ('announced', 'annoncée'), ('value', 'valeur'), ('christian', 'chrétien'), ('private', 'privés'), ('catholic', 'catholiques'), ('artists', 'artistes'), ('includes', 'comprend'), ('view', 'visualiser'), ('thus', 'ainsi'), ('almost', 'quasiment'), ('baseball', 'baseball'), ('seven', 'sept'), ('appears', 'apparait'), ('ever', 'ever'), ('provide', 'fournissent'), ('technology', 'technologie'), ('olympics', 'olympiques'), ('future', 'avenir'), ('formed', 'formée'), ('census', 'recensement'), ('images', 'images'), ('los', 'los'), ('results', 'résultats'), ('return', 'revenir'), ('quality', 'qualité'), ('construction', 'construction'), ('zealand', 'zélande'), ('front', 'devant'), ('cover', 'housse'), ('model', 'maquette'), ('despite', 'malgré'), ('read', 'lis'), ('material', 'matériau'), ('strong', 'fort'), ('coach', 'entraîneur'), ('henry', 'henry'), ('footballers', 'footballeurs'), ('mark', 'mark'), ('rev', 'rev'), ('organization', 'organisation'), ('studies', 'études'), ('federal', 'fédérales'), ('richard', 'richard'), ('html', 'html'), ('virginia', 'virginia'), ('car', 'voiture'), ('attack', 'attaquer'), ('conference', 'conférence'), ('outside', 'exterieur'), ('study', 'étude'), ('brother', 'frere'), ('names', 'noms'), ('writer', 'scénariste'), ('characters', 'caractères'), ('musical', 'musical'), ('nothing', 'rien'), ('border', 'bordure'), ('medical', 'médical'), ('countries', 'pays'), ('past', 'passés'), ('writing', 'écrire'), ('makes', 'rend'), ('interest', 'intérêt'), ('provided', 'fournis'), ('killed', 'tués'), ('medal', 'médailles'), ('signed', 'signés'), ('label', 'étiquettes'), ('fair', 'équitables'), ('search', 'recherchez'), ('bay', 'bay'), ('reference', 'référence'), ('especially', 'spécialement'), ('removed', 'supprimé'), ('library', 'librairie'), ('eventually', 'finalement'), ('management', 'gestion'), ('references', 'références'), ('features', 'fonctionnalités'), ('navy', 'marine'), ('guitar', 'guitares'), ('hill', 'colline'), ('sure', 'sûr'), ('historical', 'historiques'), ('lower', 'inférieure'), ('daughter', 'fille'), ('appointed', 'nommés'), ('reading', 'lire'), ('yet', 'pourtant'), ('systems', 'systèmes'), ('debut', 'débuts'), ('movement', 'mouvement'), ('specific', 'spécifique'), ('always', 'toujours'), ('actor', 'acteur'), ('natural', 'naturelle'), ('clear', 'effacer'), ('coast', 'côte'), ('let', 'let'), ('got', 'got'), ('chicago', 'chicago'), ('championships', 'championnats'), ('pennsylvania', 'pennsylvanie'), ('ten', 'ten'), ('performed', 'effectué'), ('individual', 'individuel'), ('designed', 'conçus'), ('rule', 'règle'), ('etc', 'etc'), ('lists', 'listes'), ('paris', 'paris'), ('thought', 'pensée'), ('brown', 'brune'), ('hand', 'hand'), ('needs', 'besoins'), ('reliable', 'fiables'), ('smith', 'forgeron'), ('generally', 'généralement'), ('base', 'base'), ('sometimes', 'parfois'), ('florida', 'floride'), ('capital', 'capital'), ('valley', 'vallée'), ('bank', 'banque'), ('ground', 'moulu'), ('reached', 'atteint'), ('italy', 'italie'), ('energy', 'energie'), ('believe', 'crois'), ('leader', 'leader'), ('active', 'actifs'), ('online', 'online'), ('block', 'blocage'), ('bridge', 'passerelle'), ('families', 'familles'), ('changes', 'changements'), ('followed', 'suivies'), ('industry', 'industrie'), ('collection', 'collecte'), ('request', 'demandez'), ('soon', 'bientot'), ('olympic', 'olympiques'), ('sold', 'vendu'), ('writers', 'écrivains'), ('professor', 'professeure'), ('studio', 'studio'), ('mexico', 'mexique'), ('competition', 'concours'), ('campaign', 'campagne'), ('org', 'org'), ('theatre', 'théâtres'), ('particular', 'particulier'), ('empire', 'empire'), ('length', 'longueurs'), ('islands', 'iles'), ('singer', 'chanteuse'), ('create', 'créent'), ('redirect', 'réorienter'), ('additional', 'additionnel'), ('soviet', 'soviétiques'), ('market', 'marché'), ('words', 'mots'), ('producer', 'producteurs'), ('notes', 'notes'), ('hockey', 'hockey'), ('code', 'code'), ('referee', 'arbitre'), ('fourth', 'quatrièmement'), ('sport', 'sport'), ('van', 'van'), ('mary', 'myriam'), ('airport', 'aéroport'), ('sound', 'son'), ('status', 'statut'), ('irish', 'irlandais'), ('placed', 'placé'), ('child', 'enfant'), ('idea', 'idée'), ('foreign', 'étrangères'), ('municipality', 'municipalité'), ('register', 'registre'), ('eight', 'eight'), ('problems', 'problèmes'), ('native', 'autochtone'), ('coverage', 'couverture'), ('channel', 'channel'), ('parliament', 'parlement'), ('username', 'pseudo'), ('edition', 'édition'), ('minor', 'mineur'), ('says', 'dit'), ('foundation', 'fondations'), ('units', 'unités'), ('movie', 'film'), ('ice', 'glace'), ('simply', 'simplement'), ('limited', 'limités'), ('unit', 'unit'), ('student', 'etudiant'), ('previously', 'précédemment'), ('stated', 'déclaré'), ('governor', 'gouverneur'), ('complete', 'complet'), ('test', 'tester'), ('nominated', 'désignés'), ('bill', 'facturer'), ('parts', 'parties'), ('vocals', 'voix'), ('theory', 'théorie'), ('regional', 'régional'), ('account', 'compte'), ('vote', 'voter'), ('computer', 'ordinateur'), ('none', 'aucune'), ('carolina', 'carolina'), ('tournament', 'tournoi'), ('poland', 'pologne'), ('behind', 'derrière'), ('wales', 'galles'), ('winning', 'gagnant'), ('lot', 'lot'), ('hospital', 'hôpitaux'), ('mid', 'mid'), ('taking', 'prenant'), ('mountain', 'montagnes'), ('higher', 'supérieur'), ('cases', 'cas'), ('angeles', 'angeles'), ('editing', 'édition'), ('replaced', 'remplacés'), ('food', 'alimentation'), ('multiple', 'plusieurs'), ('likely', 'probablement'), ('terms', 'termes'), ('sir', 'monsieur'), ('thing', 'chose'), ('square', 'carrées'), ('try', 'essaye'), ('topic', 'sujet'), ('woman', 'femme'), ('officer', 'officier'), ('categories', 'catégories'), ('greek', 'grec'), ('recent', 'récente'), ('sent', 'envoyé'), ('copyright', 'copyright'), ('speed', 'vitesse'), ('templates', 'gabarits'), ('money', 'argent'), ('saw', 'scie'), ('senior', 'senior'), ('selected', 'sélectionné'), ('introduced', 'introduites'), ('politician', 'politicien'), ('true', 'véritable'), ('required', 'requis'), ('regular', 'régulier'), ('awarded', 'décernés'), ('commercial', 'commerciale'), ('cities', 'villes'), ('contains', 'contient'), ('trade', 'échanges'), ('degree', 'degré'), ('anti', 'anti'), ('birth', 'naissance'), ('sun', 'soleil'), ('finished', 'terminé'), ('rugby', 'rugby'), ('earth', 'terre'), ('access', 'accéder'), ('prior', 'prieur'), ('seasons', 'saisons'), ('journal', 'journal'), ('beginning', 'début'), ('software', 'logiciels'), ('famous', 'célèbres'), ('religious', 'religieuse'), ('appear', 'apparaissent'), ('martin', 'martin'), ('god', 'dieu'), ('bit', 'bits'), ('hours', 'heures'), ('running', 'courir'), ('brought', 'amenés'), ('missing', 'disparu'), ('economic', 'economique'), ('structure', 'structure'), ('rural', 'rural'), ('remained', 'restait'), ('decision', 'décision'), ('certain', 'certaines'), ('hit', 'frapper'), ('minutes', 'minutes'), ('spain', 'espagne'), ('plays', 'joue'), ('whole', 'entier'), ('joseph', 'joseph'), ('lord', 'seigneur'), ('web', 'enchaînement'), ('decided', 'décidé'), ('operations', 'opérations'), ('function', 'fonction'), ('louis', 'louis'), ('assembly', 'assemblage'), ('queen', 'queen'), ('security', 'sécurité'), ('uses', 'utilisations'), ('ohio', 'ohio'), ('owned', 'possédés'), ('jan', 'yann'), ('operation', 'opération'), ('call', 'appelle'), ('successful', 'réussie'), ('legal', 'légale'), ('russia', 'russie'), ('prince', 'prince'), ('jewish', 'juive'), ('staff', 'personnel'), ('establishments', 'établissements'), ('goal', 'but'), ('towards', 'vers'), ('agree', 'acceptez'), ('bad', 'mauvais'), ('attendance', 'participation'), ('populated', 'peuplées'), ('nature', 'nature'), ('allowed', 'autorisées'), ('captain', 'capitaine'), ('mount', 'monture'), ('calculated', 'calculée'), ('structures', 'structures'), ('hard', 'dure'), ('saying', 'dicton'), ('manager', 'gérant'), ('elections', 'elections'), ('meet', 'rencontrer'), ('box', 'boite'), ('lines', 'lignes'), ('democratic', 'démocratiques'), ('success', 'réussite'), ('associated', 'associées'), ('singles', 'célibataires'), ('traditional', 'traditionnels'), ('rest', 'repose'), ('highway', 'autoroutes'), ('particularly', 'particulièrement'), ('wide', 'vaste'), ('month', 'mois'), ('care', 'soin'), ('admin', 'administrateur'), ('cultural', 'culturel'), ('commission', 'commission'), ('plan', 'plan'), ('practice', 'pratiques'), ('command', 'commande'), ('nomination', 'nomination'), ('jersey', 'jersey'), ('parties', 'parties'), ('michigan', 'michigan'), ('anyone', 'quiconque'), ('overlaps', 'chevauchements'), ('approximately', 'environ'), ('master', 'maître'), ('noted', 'noté'), ('usa', 'usa'), ('stop', 'arrêtez'), ('feature', 'caractéristique'), ('engine', 'moteur'), ('response', 'réaction'), ('needed', 'requis'), ('illinois', 'illinois'), ('afd', 'afd'), ('experience', 'expérience'), ('engineering', 'génie'), ('silver', 'argenté'), ('separate', 'séparer'), ('takes', 'prend'), ('secretary', 'secrétaire'), ('dutch', 'hollandais'), ('lee', 'lee'), ('recording', 'enregistrement'), ('prime', 'prime'), ('rules', 'regles'), ('uploaded', 'téléchargée'), ('trying', 'essayer'), ('youth', 'jeunes'), ('scotland', 'ecosse'), ('iii', 'iii'), ('houses', 'maisons'), ('heart', 'coeur'), ('room', 'chambres'), ('stone', 'pierres'), ('shown', 'montré'), ('deal', 'aubaine'), ('drama', 'dramatique'), ('scores', 'scores'), ('dead', 'mort'), ('key', 'clés'), ('shot', 'abattu'), ('turn', 'tournez'), ('occupation', 'occupation'), ('scottish', 'écossais'), ('executive', 'exécutif'), ('plant', 'plante'), ('promoted', 'promues'), ('villages', 'villages'), ('languages', 'langues'), ('internet', 'internet'), ('leave', 'congé'), ('feel', 'ressentir'), ('covered', 'couverts'), ('merge', 'fusion'), ('mostly', 'surtout'), ('numerous', 'nombreuses'), ('ancient', 'ancienne'), ('attempt', 'tentative'), ('property', 'propriété'), ('programs', 'programmes'), ('picture', 'image'), ('finally', 'finalement'), ('ships', 'vaisseaux'), ('fiction', 'fiction'), ('looking', 'regardant'), ('secondary', 'secondaire'), ('nations', 'nations'), ('majority', 'majoritaires'), ('edward', 'édouard'), ('annual', 'annuel'), ('digital', 'digital'), ('mission', 'mission'), ('lived', 'vécu'), ('claim', 'revendiquer'), ('seat', 'seat'), ('bbc', 'bbc'), ('profile', 'profils'), ('dance', 'danser'), ('doing', 'faire'), ('georgia', 'georgie'), ('port', 'port'), ('pacific', 'pacifique'), ('castle', 'chateau'), ('pass', 'pass'), ('transport', 'transport'), ('organizations', 'organisations'), ('ratio', 'ratio'), ('recently', 'récemment'), ('fall', 'fall'), ('global', 'mondiaux'), ('era', 'époque'), ('wing', 'ailes'), ('opinion', 'avis'), ('commander', 'commandant'), ('fort', 'fort'), ('effect', 'effet'), ('opening', 'ouverture'), ('fine', 'amende'), ('purpose', 'objectif'), ('winter', 'hivers'), ('genus', 'genre'), ('congress', 'congrès'), ('overall', 'globalement'), ('activities', 'activités'), ('met', 'rencontrés'), ('income', 'revenus'), ('massachusetts', 'massachusetts'), ('comes', 'vient'), ('older', 'aîné'), ('peak', 'crête'), ('lack', 'manque'), ('bass', 'bass'), ('super', 'super'), ('complex', 'complexes'), ('academic', 'académique'), ('stars', 'étoiles'), ('accounts', 'comptes'), ('appearance', 'aspect'), ('asian', 'asiatique'), ('asked', 'demandé'), ('friends', 'amis'), ('kind', 'aimable'), ('financial', 'financier'), ('entry', 'entrée'), ('asia', 'asiatique'), ('sense', 'sens'), ('meaning', 'signifiant'), ('actress', 'actrice'), ('map', 'carte'), ('intended', 'destiné'), ('bishop', 'bishop'), ('boston', 'boston'), ('rate', 'tarif'), ('literature', 'littérature'), ('forest', 'foret'), ('voice', 'voix'), ('jack', 'jack'), ('pre', 'pré'), ('justice', 'justice'), ('champion', 'champion'), ('double', 'doubles'), ('polish', 'polonais'), ('numbers', 'nombres'), ('columbia', 'columbia'), ('temple', 'tempe'), ('defeated', 'vaincue'), ('administration', 'administration'), ('claims', 'revendications'), ('jones', 'jones'), ('parish', 'paroisse'), ('israel', 'israel'), ('actors', 'comédiens'), ('sister', 'sœur'), ('nine', 'nine'), ('scored', 'marqué'), ('table', 'tableau'), ('attended', 'participé'), ('pop', 'pop'), ('newspaper', 'journal'), ('friend', 'amis'), ('unknown', 'inconnues'), ('winner', 'lauréat'), ('chart', 'diagramme'), ('initially', 'initialement'), ('loss', 'pertes'), ('sites', 'sites'), ('starting', 'démarrage'), ('architecture', 'architecture'), ('relations', 'relations'), ('upper', 'supérieur'), ('supported', 'supporté'), ('tracks', 'pistes'), ('contract', 'contrat'), ('face', 'face'), ('directly', 'directement'), ('spent', 'dépensés'), ('girl', 'fillette'), ('clearly', 'clairement'), ('junior', 'junior'), ('francisco', 'francisco'), ('politics', 'politique'), ('presented', 'présenté'), ('mar', 'mar'), ('cause', 'cause'), ('volume', 'volume'), ('caused', 'causées'), ('tom', 'tom'), ('flight', 'vol'), ('candidate', 'candidat'), ('matches', 'allumettes'), ('claimed', 'revendiqué'), ('except', 'excepté'), ('oil', 'pétrole'), ('assistant', 'assistante'), ('surface', 'surface'), ('victory', 'victoires'), ('regiment', 'régiment'), ('stories', 'histoires'), ('represented', 'représentés'), ('gets', 'obtient'), ('speedy', 'speedy'), ('weeks', 'semaines'), ('allow', 'permettre'), ('branch', 'embranchement'), ('retired', 'retraité'), ('communities', 'collectivités'), ('train', 'train'), ('paper', 'papiers'), ('adding', 'ajoutant'), ('provides', 'fournit'), ('remains', 'demeure'), ('victoria', 'victoria'), ('metal', 'métalliques'), ('wrong', 'erroné'), ('direct', 'directs'), ('frank', 'frank'), ('miles', 'miles'), ('blocked', 'bloqués'), ('launched', 'lancés'), ('mass', 'messe'), ('chairman', 'président'), ('comedy', 'comique'), ('relationship', 'relation'), ('knowledge', 'connaissance'), ('format', 'format'), ('creek', 'creek'), ('meeting', 'réunion'), ('failed', 'échoué'), ('officers', 'officiers'), ('draft', 'brouillon'), ('goes', 'goes'), ('fight', 'bagarre'), ('figure', 'figure'), ('faculty', 'faculté'), ('camp', 'camps'), ('ran', 'couru'), ('variety', 'variété'), ('owner', 'propriétaire'), ('statistics', 'statistique'), ('raised', 'soulevées'), ('heavy', 'lourds'), ('alexander', 'alexander'), ('alone', 'seule'), ('understand', 'comprends'), ('episodes', 'épisodes'), ('educational', 'éducatif'), ('daily', 'quotidienne'), ('williams', 'williams'), ('latin', 'latines'), ('completely', 'completement'), ('products', 'produits'), ('dark', 'sombre'), ('attention', 'attention'), ('religion', 'religieux'), ('von', 'von'), ('mind', 'mind'), ('oppose', 'opposer'), ('corps', 'corps'), ('administrative', 'administratifs'), ('cut', 'coupe'), ('scott', 'scott'), ('becoming', 'devenir'), ('footballer', 'footballeur'), ('jean', 'jean'), ('mayor', 'maires'), ('pro', 'pro'), ('beach', 'plages'), ('descent', 'descente'), ('nearly', 'presque'), ('leaving', 'quittant'), ('highly', 'hautement'), ('cast', 'plâtre'), ('territory', 'territoire'), ('write', 'rédiger'), ('towns', 'bourgs'), ('forms', 'formulaires'), ('joe', 'joe'), ('inside', 'intérieur'), ('wanted', 'voulait'), ('solid', 'solide'), ('individuals', 'individuels'), ('authority', 'autorité'), ('mention', 'mentionner'), ('projects', 'projets'), ('del', 'del'), ('continue', 'poursuivre'), ('cost', 'coûts'), ('vice', 'vice'), ('drive', 'conduire'), ('notice', 'avis'), ('johnson', 'johnson'), ('forced', 'forcée'), ('basis', 'fondement'), ('looks', 'looks'), ('reasons', 'raisons'), ('photo', 'photo'), ('hope', 'espérance'), ('log', 'bûche'), ('parents', 'parents'), ('entered', 'entrés'), ('mike', 'mike'), ('basic', 'basic'), ('scientific', 'scientifique'), ('amount', 'montant'), ('spring', 'ressort'), ('oxford', 'oxford'), ('kong', 'kong'), ('opera', 'opéra'), ('tried', 'tenté'), ('critical', 'critiques'), ('simple', 'simples'), ('founder', 'fondatrice'), ('hong', 'hong'), ('told', 'raconté'), ('husband', 'mari'), ('useful', 'utiles'), ('technical', 'techniques'), ('necessary', 'nécessaire'), ('believed', 'croyait'), ('operated', 'opéré'), ('mountains', 'montagne'), ('importance', 'importance'), ('musicians', 'musiciens'), ('hotel', 'hôtel'), ('girls', 'filles'), ('crew', 'équipages'), ('feb', 'février'), ('boy', 'boy'), ('ontario', 'ontario'), ('nation', 'nation'), ('defense', 'défense'), ('wiki', 'wiki'), ('champions', 'champions'), ('golden', 'doré'), ('districts', 'quartiers'), ('faith', 'foi'), ('racing', 'courses'), ('mainly', 'essentiellement'), ('auto', 'automatique'), ('lives', 'vies'), ('swedish', 'suédois'), ('hot', 'sexy'), ('entertainment', 'divertissement'), ('turned', 'tournés'), ('net', 'filet'), ('soccer', 'soccer'), ('creation', 'création'), ('product', 'produits'), ('tower', 'tower'), ('increased', 'augmentée'), ('votes', 'voix'), ('squadron', 'escadrons'), ('contemporary', 'contemporaine'), ('focus', 'concentrer'), ('marriage', 'mariage'), ('questions', 'questions'), ('naval', 'navales'), ('details', 'détail'), ('forward', 'forward'), ('memorial', 'mémorial'), ('peace', 'paix'), ('kept', 'gardé'), ('iran', 'iran'), ('korea', 'coréenne'), ('analysis', 'analyse'), ('winners', 'vainqueurs'), ('poor', 'pauvres'), ('grade', 'grade'), ('cricket', 'criquet'), ('judge', 'juge'), ('electric', 'electrique'), ('exist', 'exister'), ('corporation', 'corporation'), ('hold', 'tenez'), ('campus', 'campus'), ('brazil', 'brésil'), ('chris', 'christophe'), ('beyond', 'beyond'), ('fifth', 'cinquième'), ('increase', 'accroissement'), ('summary', 'résumé'), ('remaining', 'restants'), ('statement', 'déclaration'), ('broadcast', 'diffuser'), ('getting', 'obtenir'), ('piano', 'piano'), ('novels', 'romans'), ('serving', 'servir'), ('hour', 'heure'), ('moving', 'déménager'), ('resolution', 'résolution'), ('concept', 'concept'), ('alternative', 'alternatif'), ('brothers', 'brothers'), ('attacks', 'attentats'), ('encyclopedia', 'encyclopédie'), ('republican', 'républicains'), ('representatives', 'représentants'), ('politicians', 'politiciens'), ('difficult', 'difficile'), ('ability', 'aptitude'), ('studied', 'étudiés'), ('host', 'hôte'), ('wall', 'mur'), ('immediately', 'aussitôt'), ('urban', 'urbains'), ('pakistan', 'pakistan'), ('becomes', 'devient'), ('marine', 'marine'), ('physical', 'physiques'), ('dec', 'déc'), ('troops', 'troupes'), ('interview', 'interview'), ('coming', 'venir'), ('semi', 'semi'), ('suggest', 'suggérer'), ('emperor', 'empereurs'), ('letter', 'lettre'), ('couple', 'couple'), ('duke', 'duc'), ('gallery', 'galeries'), ('follow', 'suivi'), ('windows', 'fenêtres'), ('tree', 'arbres'), ('hits', 'hits'), ('jazz', 'jazz'), ('protection', 'protection'), ('relevant', 'pertinents'), ('count', 'comte'), ('situation', 'situation'), ('reviews', 'critiques'), ('containing', 'contenant'), ('classical', 'classiques'), ('offered', 'offert'), ('lady', 'dame'), ('netherlands', 'hollande'), ('reports', 'reportages'), ('influence', 'influencer'), ('address', 'adresse'), ('linear', 'linéaire'), ('consider', 'considérons'), ('machine', 'machine'), ('domain', 'domaine'), ('elements', 'eléments'), ('minnesota', 'minnesota'), ('types', 'types'), ('nov', 'nov'), ('serve', 'servez'), ('sydney', 'sydney'), ('ministry', 'ministère'), ('blood', 'blood'), ('distance', 'distances'), ('bottom', 'fond'), ('giving', 'donnant'), ('boys', 'garçons'), ('potential', 'potentiel'), ('toronto', 'montréal'), ('edited', 'édité'), ('infantry', 'infanterie'), ('jun', 'jun'), ('formerly', 'autrefois'), ('oct', 'oct'), ('conflict', 'conflit'), ('workers', 'travailleurs'), ('steve', 'steve'), ('philadelphia', 'philadelphia'), ('helped', 'aidés'), ('der', 'der'), ('nationality', 'nationalités'), ('dispute', 'dispute'), ('scene', 'scène'), ('method', 'méthode'), ('titles', 'titres'), ('berlin', 'berlin'), ('conditions', 'conditions'), ('arms', 'armes'), ('races', 'courses'), ('discovered', 'découvertes'), ('iron', 'fer'), ('extended', 'étendue'), ('churches', 'eglises'), ('otherwise', 'sinon'), ('positive', 'positifs'), ('santa', 'santa'), ('imperial', 'imperial'), ('composed', 'composé'), ('ball', 'ballon'), ('width', 'largeurs'), ('quickly', 'vite'), ('correct', 'correcte'), ('responsible', 'responsables'), ('possibly', 'possiblement'), ('indiana', 'indiana'), ('soldiers', 'soldats'), ('examples', 'exemples'), ('korean', 'coréenne'), ('genre', 'genres'), ('fish', 'poisson'), ('senate', 'sénat'), ('effects', 'effets'), ('gun', 'revolver'), ('check', 'vérifier'), ('appearances', 'apparences'), ('plans', 'plans'), ('renamed', 'renommée'), ('sign', 'signez'), ('reporting', 'signaler'), ('sweden', 'suède'), ('consists', 'consiste'), ('heritage', 'patrimoine'), ('tag', 'balise'), ('primarily', 'principalement'), ('doctor', 'docteur'), ('leaders', 'dirigeants'), ('lies', 'mensonges'), ('inc', 'inc'), ('rivers', 'rivières'), ('crime', 'crime'), ('liberal', 'libérales'), ('stand', 'stand'), ('bob', 'bob'), ('existing', 'existants'), ('publishing', 'publication'), ('industrial', 'industriel'), ('answer', 'reponse'), ('split', 'scission'), ('apr', 'avr'), ('sex', 'sexe'), ('mixed', 'mixte'), ('acting', 'agir'), ('personnel', 'personnel'), ('rail', 'rail'), ('die', 'meurs'), ('premier', 'premier'), ('approach', 'démarche'), ('wisconsin', 'wisconsin'), ('sentence', 'peine'), ('root', 'racine'), ('standards', 'normes'), ('comics', 'bd'), ('earned', 'gagnées'), ('miss', 'mlle'), ('specifically', 'spécialement'), ('horse', 'jument'), ('actual', 'réelle'), ('contributions', 'cotisations'), ('lieutenant', 'lieutenant'), ('wood', 'bois'), ('plants', 'végétaux'), ('initial', 'initiales'), ('origin', 'origines'), ('environment', 'environnement'), ('pretty', 'jolies'), ('rank', 'classer'), ('bus', 'autobus'), ('gas', 'gaz'), ('direction', 'direction'), ('guide', 'guide'), ('resources', 'ressources'), ('accepted', 'accepté'), ('animals', 'animaux'), ('nor', 'nor'), ('activity', 'activité'), ('levels', 'niveaux'), ('laws', 'lois'), ('jim', 'jim'), ('creating', 'créer'), ('cambridge', 'cambridge'), ('composer', 'compositrice'), ('remove', 'supprimez'), ('agency', 'agence'), ('reserve', 'réserver'), ('atlantic', 'atlantique'), ('supreme', 'suprêmes'), ('weight', 'poids'), ('ask', 'demande'), ('fighting', 'bagarre'), ('jackson', 'jackson'), ('widely', 'largement'), ('rose', 'rosé'), ('treatment', 'traitement'), ('linked', 'liés'), ('andrew', 'andré'), ('trial', 'procès'), ('expanded', 'agrandi'), ('daniel', 'daniel'), ('certainly', 'certainement'), ('info', 'infos'), ('sciences', 'sciences'), ('fame', 'fame'), ('everything', 'tout'), ('avenue', 'avenue'), ('travel', 'voyages'), ('scale', 'échelle'), ('break', 'briser'), ('oregon', 'oregon'), ('produce', 'produisent'), ('capacity', 'capacités'), ('#efefef', '#efefef'), ('fictional', 'fictif'), ('exchange', 'échanger'), ('actions', 'actions'), ('cited', 'citée'), ('typically', 'généralement'), ('agreement', 'accord'), ('translation', 'traductions'), ('males', 'hommes'), ('kansas', 'kansas'), ('managed', 'géré'), ('bring', 'apporter'), ('charge', 'charge'), ('fails', 'échoue'), ('dedicated', 'dévouée'), ('nearby', 'proche'), ('residents', 'résidents'), ('piece', 'morceau'), ('growth', 'croissance'), ('trust', 'confiance'), ('applied', 'appliqué'), ('drums', 'fûts'), ('issued', 'délivré'), ('murder', 'meurtres'), ('normal', 'normal'), ('twenty', 'vingt'), ('avoid', 'évitez'), ('tony', 'tony'), ('norwegian', 'norvégienne'), ('criteria', 'critères'), ('context', 'contexte'), ('suggested', 'proposé'), ('revolution', 'révolution'), ('fully', 'totalement'), ('wars', 'guerres'), ('aug', 'aug'), ('leaves', 'feuilles'), ('advanced', 'avancée'), ('distribution', 'distribution'), ('medicine', 'médicament'), ('garden', 'jardin'), ('reach', 'atteindre'), ('turkey', 'dinde'), ('females', 'femelles'), ('publications', 'publications'), ('impact', 'incidence'), ('households', 'ménages'), ('survey', 'sondage'), ('height', 'hauteur'), ('morning', 'matinale'), ('honor', 'honorer'), ('deep', 'profonde'), ('argument', 'arguments'), ('publication', 'publication'), ('arthur', 'arthur'), ('elizabeth', 'élisabeth'), ('disambiguation', 'homonymie'), ('worth', 'worth'), ('colorado', 'colorado'), ('median', 'médian'), ('maryland', 'maryland'), ('falls', 'falls'), ('zone', 'zone'), ('solo', 'soliste'), ('learning', 'apprentissage'), ('pay', 'paie'), ('resolves', 'résout'), ('choice', 'choix'), ('flag', 'drapeaux'), ('engineer', 'ingénieur'), ('cars', 'voitures'), ('farm', 'fermes'), ('wilson', 'wilson'), ('principal', 'principal'), ('acquired', 'acquis'), ('constructed', 'construits'), ('secret', 'secrète'), ('poet', 'poètes'), ('build', 'construire'), ('remain', 'rester'), ('orchestra', 'orchestre'), ('versions', 'versions'), ('follows', 'suit'), ('fixed', 'réparé'), ('efforts', 'efforts'), ('documentary', 'documentaires'), ('equipment', 'equipement'), ('ray', 'ray'), ('yellow', 'jaune'), ('guard', 'gardien'), ('pressure', 'pressions'), ('grant', 'grant'), ('prison', 'prison'), ('freedom', 'liberté'), ('norway', 'norvège'), ('store', 'magasin'), ('taylor', 'taylor'), ('quarter', 'trimestre'), ('designated', 'désignées'), ('independence', 'indépendance'), ('platform', 'plateformes'), ('rome', 'rome'), ('teacher', 'institutrice'), ('copy', 'copie'), ('effort', 'effort'), ('nuclear', 'nucléaire'), ('pictures', 'photos'), ('models', 'modèles'), ('sep', 'sep'), ('easily', 'aisément'), ('thank', 'remercier'), ('description', 'description'), ('agreed', 'convenu'), ('institutions', 'institutions'), ('covers', 'housses'), ('facilities', 'installations'), ('target', 'cibler'), ('stack', 'stack'), ('rationale', 'justification'), ('stat', 'stat'), ('combined', 'combinés'), ('bronze', 'bronze'), ('sort', 'trier'), ('hosted', 'hébergés'), ('programming', 'programmation'), ('sri', 'sri'), ('railroad', 'ferroviaire'), ('unique', 'unique'), ('defined', 'défini'), ('ocean', 'océan'), ('cell', 'cellule'), ('missouri', 'missouri'), ('concert', 'concert'), ('improve', 'améliorer'), ('biography', 'biographiques'), ('loan', 'prêt'), ('contact', 'contacte'), ('holy', 'saint'), ('tennessee', 'tennessee'), ('sub', 'sub'), ('safety', 'securite'), ('stephen', 'étienne'), ('policies', 'politiques'), ('painting', 'peintures'), ('price', 'tarif'), ('entirely', 'entièrement'), ('mexican', 'mexicain'), ('leadership', 'leadership'), ('flying', 'voler'), ('message', 'message'), ('municipal', 'municipaux'), ('serious', 'sérieuse'), ('headquarters', 'siège'), ('officially', 'officiellement'), ('cemetery', 'cimetière'), ('memory', 'mémoire'), ('fields', 'champs'), ('generation', 'générations'), ('join', 'rejoindre'), ('copies', 'copie'), ('finals', 'finales'), ('fox', 'renards'), ('continues', 'continue'), ('representative', 'représentante'), ('destroyed', 'détruites'), ('feet', 'pieds'), ('guy', 'gars'), ('philippines', 'philippins'), ('revealed', 'révélée'), ('organized', 'organisées'), ('serves', 'sert'), ('conservative', 'conservateurs'), ('share', 'partagez'), ('maria', 'maria'), ('disease', 'maladies'), ('sections', 'sections'), ('philosophy', 'philosophie'), ('ways', 'façons'), ('arrived', 'arrivé'), ('divided', 'divisés'), ('floor', 'plancher'), ('logo', 'logos'), ('cancer', 'cancer'), ('offer', 'offre'), ('tax', 'impôt'), ('expected', 'attendu'), ('traffic', 'circulation'), ('concerns', 'préoccupations'), ('graduated', 'diplômé'), ('guest', 'invités'), ('jews', 'juifs'), ('meant', 'signifiait'), ('economy', 'economie'), ('storm', 'storm'), ('tells', 'raconte'), ('mile', 'mile'), ('protected', 'protégé'), ('bowl', 'bol'), ('letters', 'lettres'), ('providing', 'fournissant'), ('begins', 'commence'), ('classic', 'classiques'), ('damage', 'dommage'), ('harry', 'harry'), ('offers', 'offre'), ('davis', 'davis'), ('challenge', 'défi'), ('views', 'vues'), ('marked', 'marqués'), ('allows', 'permet'), ('density', 'densité'), ('literary', 'littéraires'), ('htm', 'htm'), ('ben', 'ben'), ('transportation', 'transport'), ('kentucky', 'kentucky'), ('sales', 'vente'), ('fleet', 'flotte'), ('supporting', 'soutenir'), ('captured', 'capturés'), ('extra', 'extra'), ('recognized', 'reconnus'), ('arizona', 'arizona'), ('compared', 'comparé'), ('theme', 'thème'), ('francis', 'françois'), ('moscow', 'moscou'), ('interested', 'intéressé'), ('heard', 'entendus'), ('behavior', 'comportement'), ('transferred', 'transféré'), ('environmental', 'environnemental'), ('blank', 'blanc'), ('musician', 'musicien'), ('assigned', 'assigné'), ('seats', 'sièges'), ('tennis', 'tennis'), ('percent', 'pourcentage'), ('logs', 'grumes'), ('display', 'affiche'), ('convention', 'convention'), ('ring', 'anneau'), ('joint', 'joint'), ('brian', 'brian'), ('deputy', 'adjointe'), ('planned', 'prévue'), ('universities', 'universités'), ('yards', 'yards'), ('communist', 'communiste'), ('agent', 'agent'), ('difference', 'différence'), ('animal', 'animal'), ('czech', 'tchèques'), ('positions', 'positions'), ('exactly', 'exactement'), ('stay', 'rester'), ('titled', 'titré'), ('combat', 'combat'), ('palace', 'palace'), ('ordered', 'ordonnée'), ('opposition', 'opposition'), ('attempts', 'tentatives'), ('understanding', 'compréhensive'), ('wrestling', 'lutter'), ('critics', 'critiques'), ('growing', 'croissante'), ('establish', 'établir'), ('hands', 'mains'), ('participated', 'participé'), ('poetry', 'poésie'), ('materials', 'materiaux'), ('turkish', 'turcs'), ('paid', 'payés'), ('promotion', 'promotion'), ('apparently', 'apparement'), ('battalion', 'bataillon'), ('mobile', 'portable'), ('additions', 'additions'), ('row', 'rangée'), ('merged', 'fusionné'), ('metropolitan', 'metropolitan'), ('figures', 'chiffres'), ('existence', 'existence'), ('eye', 'œil'), ('louisiana', 'louisiane'), ('lewis', 'lewis'), ('melbourne', 'melbourne'), ('austria', 'autriche'), ('brigade', 'brigade'), ('screen', 'écran'), ('risk', 'risque'), ('conducted', 'mené'), ('lats', 'lats'), ('ban', 'interdire'), ('legislative', 'législatif'), ('definition', 'définitions'), ('indeed', 'effectivement'), ('draw', 'dessiner'), ('application', 'candidature'), ('steel', 'acier'), ('presence', 'présence'), ('expansion', 'expansion'), ('earl', 'comte'), ('max', 'maximum'), ('wild', 'sauvages'), ('planning', 'planification'), ('comic', 'comique'), ('adopted', 'adoptés'), ('easy', 'facilité'), ('plus', 'plus'), ('happy', 'joyeuse'), ('acts', 'actes'), ('classes', 'classes'), ('iowa', 'iowa'), ('save', 'sauver'), ('wins', 'victoires'), ('theater', 'théâtre'), ('exists', 'existe'), ('roles', 'rôles'), ('chance', 'chance'), ('prevent', 'prévenir'), ('linecolor', 'linecolor'), ('candidates', 'candidats'), ('object', 'objet'), ('felt', 'ressenti'), ('powers', 'powers'), ('birds', 'oiseaux'), ('spread', 'répandre'), ('defeat', 'vaincre'), ('cape', 'cap'), ('identified', 'identifiés'), ('regions', 'régions'), ('mine', 'mien'), ('sides', 'côtés'), ('jul', 'jul'), ('showing', 'montrant'), ('teaching', 'enseignement'), ('guidelines', 'directives'), ('simon', 'simon'), ('depth', 'profondeurs'), ('lyrics', 'lyrique'), ('christmas', 'noel'), ('declined', 'refusé'), ('greece', 'grèce'), ('express', 'expresse'), ('federation', 'fédération'), ('journalist', 'journaliste'), ('intelligence', 'intelligence'), ('connection', 'connexion'), ('displayed', 'affichés'), ('portuguese', 'portugais'), ('declared', 'déclarés'), ('constitution', 'constitution'), ('presidential', 'présidentiel'), ('standing', 'standing'), ('sons', 'sons'), ('plot', 'parcelle'), ('dates', 'dates'), ('ends', 'extrémités'), ('pilot', 'pilotes'), ('relatively', 'relativement'), ('receive', 'recevoir'), ('educated', 'éduqué'), ('opposed', 'opposés'), ('manchester', 'manchester'), ('queensland', 'queensland'), ('americans', 'américains'), ('introduction', 'introduction'), ('directors', 'directeurs'), ('vehicle', 'véhicule'), ('stock', 'stock'), ('vehicles', 'véhicules'), ('israeli', 'israéliennes'), ('frequently', 'fréquemment'), ('hills', 'collines'), ('performing', 'exécutant'), ('northwest', 'northwest'), ('drug', 'médicament'), ('visit', 'visiter'), ('portion', 'portion'), ('residence', 'résidence'), ('walter', 'walter'), ('pov', 'pov'), ('interesting', 'intéressants'), ('moon', 'moon'), ('limit', 'limiter'), ('minute', 'minute'), ('bell', 'bell'), ('athletics', 'athlétisme'), ('reduced', 'réduites'), ('wind', 'vents'), ('oklahoma', 'oklahoma'), ('architect', 'architectes'), ('ideas', 'idées'), ('electronic', 'électronique'), ('crown', 'couronne'), ('anderson', 'anderson'), ('step', 'étape'), ('weapons', 'armement'), ('unable', 'incapable'), ('neutral', 'neutralité'), ('connected', 'connecté'), ('switzerland', 'suisse'), ('expatriate', 'expatriés'), ('armed', 'armé'), ('weekly', 'hebdomadaires'), ('rating', 'cote'), ('programme', 'programme'), ('squad', 'brigade'), ('multi', 'multi'), ('dynasty', 'dynastie'), ('cold', 'froids'), ('granted', 'accordée'), ('socorro', 'socorro'), ('alliance', 'alliances'), ('methods', 'méthodes'), ('sam', 'sam'), ('alabama', 'alabama'), ('albert', 'albert'), ('tropical', 'tropicales'), ('vietnam', 'viêtnam'), ('dvd', 'dvd'), ('heat', 'chauffer'), ('fans', 'adeptes'), ('surrounding', 'entourant'), ('credit', 'crédit'), ('commons', 'commons'), ('boat', 'canot'), ('boxes', 'coffrets'), ('ethnic', 'ethniques'), ('speaking', 'parlant'), ('fell', 'tomba'), ('arena', 'arène'), ('roads', 'chemins'), ('core', 'noyau'), ('dog', 'chienne'), ('kill', 'tue'), ('athletic', 'athlétisme'), ('oldest', 'aîné'), ('negative', 'négatifs'), ('confirmed', 'confirmée'), ('sixth', 'sixième'), ('edge', 'edge'), ('jesus', 'jesus'), ('tools', 'outils'), ('colonel', 'colonel'), ('weak', 'faibles'), ('chosen', 'choisie'), ('brand', 'marque'), ('resulting', 'résultant'), ('nfl', 'nfl'), ('rise', 'rise'), ('supply', 'approvisionnement'), ('tradition', 'traditions'), ('elementary', 'élémentaires'), ('household', 'ménage'), ('spirit', 'spirit'), ('task', 'tâche'), ('slightly', 'légèrement'), ('howard', 'howard'), ('incident', 'incidents'), ('develop', 'développer'), ('sunday', 'dimanche'), ('discuss', 'discutez'), ('stats', 'statistiques'), ('climate', 'climat'), ('topics', 'thèmes'), ('purchased', 'achetés'), ('communications', 'communications'), ('chapter', 'chapitre'), ('broken', 'cassée'), ('singapore', 'singapour'), ('situated', 'situé'), ('license', 'licence'), ('haven', 'haven'), ('deaths', 'décès'), ('passing', 'passant'), ('citizens', 'citoyens'), ('guns', 'canons'), ('trees', 'arbres'), ('gone', 'gone'), ('improved', 'amélioré'), ('visual', 'visuelles'), ('pope', 'papes'), ('officials', 'officiels'), ('sat', 'sat'), ('glass', 'verres'), ('miller', 'meunier'), ('posted', 'publié'), ('estimated', 'estimation'), ('contain', 'contenir'), ('brazilian', 'brésiliennes'), ('sexual', 'sexuelle'), ('defence', 'défense'), ('respectively', 'respectivement'), ('concerning', 'concernant'), ('rich', 'riche'), ('fast', 'rapides'), ('properties', 'propriétés'), ('taught', 'appris'), ('extensive', 'extensive'), ('exhibition', 'exposition'), ('speech', 'allocution'), ('proposal', 'proposition'), ('straight', 'hétéro'), ('internal', 'interne'), ('effective', 'efficaces'), ('solution', 'solution'), ('fashion', 'mode'), ('foot', 'pieds'), ('orange', 'oranges'), ('argentina', 'argentine'), ('brief', 'brève'), ('performances', 'représentations'), ('adult', 'adultes'), ('newly', 'nouvellement'), ('identity', 'identité'), ('singers', 'chanteuses'), ('inspired', 'inspirée'), ('discussed', 'discuté'), ('require', 'requièrent'), ('facility', 'facilité'), ('transfer', 'transfert'), ('egypt', 'egypte'), ('cells', 'cellules'), ('patrick', 'patrick'), ('quebec', 'quebec'), ('connecticut', 'connecticut'), ('scoring', 'notation'), ('anthony', 'antoine'), ('permanent', 'permanents'), ('phase', 'phase'), ('audience', 'auditoire'), ('motion', 'mouvement'), ('blues', 'bleues'), ('hungarian', 'hongrois'), ('arab', 'arabes'), ('trains', 'trains'), ('sets', 'ensembles'), ('ranked', 'classé'), ('unlike', 'contrairement'), ('begin', 'commencer'), ('setting', 'réglage'), ('eyes', 'yeux'), ('studios', 'studios'), ('gmina', 'gmina'), ('criminal', 'criminelle'), ('commonwealth', 'commonwealth'), ('finish', 'termine'), ('communication', 'communication'), ('scope', 'portée'), ('accused', 'accusée'), ('divisions', 'divisions'), ('accept', 'acceptez'), ('warning', 'avertissements'), ('alan', 'alan'), ('objects', 'objets'), ('diego', 'diego'), ('contest', 'concours'), ('fighter', 'boxeur'), ('finds', 'trouvailles'), ('coaches', 'coachs'), ('beat', 'battement'), ('extremely', 'extrêmement'), ('ford', 'ford'), ('swiss', 'suisse'), ('sorry', 'pardon'), ('houston', 'houston'), ('worldwide', 'mondial'), ('showed', 'montré'), ('holds', 'cales'), ('cathedral', 'cathédrales'), ('losing', 'perdre'), ('advance', 'avance'), ('reality', 'réalités'), ('broadcasting', 'diffusion'), ('adam', 'adam'), ('vandalism', 'vandalisme'), ('enemy', 'ennemi'), ('youtube', 'youtube'), ('assessed', 'évalués'), ('billion', 'milliards'), ('buried', 'enterrée'), ('belgium', 'belgique'), ('respect', 'respecte'), ('rare', 'rares'), ('detroit', 'detroit'), ('graduate', 'diplômé'), ('colleges', 'collèges'), ('explain', 'explique'), ('authorities', 'autorités'), ('killing', 'tuer'), ('maximum', 'maximum'), ('neither', 'ni'), ('fan', 'adepte'), ('notify', 'notifier'), ('painter', 'peintre'), ('hamilton', 'hamilton'), ('returning', 'revenant'), ('attempted', 'tentative'), ('universe', 'univers'), ('passes', 'passes'), ('obvious', 'évidente'), ('suffered', 'souffert'), ('pieces', 'morceaux'), ('apply', 'appliquez'), ('actresses', 'actrices'), ('competitions', 'compétitions'), ('aid', 'aide'), ('driver', 'conducteur'), ('folk', 'folk'), ('dan', 'dan'), ('khan', 'khan'), ('baby', 'baby'), ('denmark', 'danemark'), ('tokyo', 'tokyo'), ('billboard', 'panneau'), ('calling', 'appelant'), ('anne', 'anne'), ('danish', 'danoise'), ('wants', 'veut'), ('formula', 'formules'), ('interior', 'intérieurs'), ('kevin', 'kevin'), ('weather', 'intempéries'), ('powerful', 'puissantes'), ('muslim', 'musulman'), ('registered', 'inscrit'), ('publisher', 'editeur'), ('preceding', 'précédant'), ('sounds', 'bruits'), ('eric', 'eric'), ('approved', 'agréé'), ('achieved', 'atteint'), ('douglas', 'douglas'), ('provincial', 'provinciale'), ('fund', 'fonds'), ('portugal', 'portugal'), ('athletes', 'sportifs'), ('bird', 'bird'), ('bands', 'groupes'), ('audio', 'audio'), ('cat', 'cat'), ('centuries', 'siècles'), ('valid', 'valides'), ('chemical', 'chimiques'), ('lane', 'lane'), ('holding', 'holding'), ('counties', 'comtés'), ('update', 'actualiser'), ('ncaa', 'ncaa'), ('speak', 'parle'), ('finding', 'trouver'), ('domestic', 'domestique'), ('ali', 'ali'), ('false', 'fausses'), ('equivalent', 'équivalent'), ('caught', 'capturés'), ('christ', 'christ'), ('ending', 'finissant'), ('puerto', 'puerto'), ('perform', 'effectuer'), ('partner', 'partenaires'), ('romania', 'roumanie'), ('aviation', 'aéronautique'), ('failure', 'défaillance'), ('ward', 'pupille'), ('strength', 'force'), ('knight', 'chevaliers'), ('nominations', 'candidatures'), ('hungary', 'hongrie'), ('concern', 'inquiétude'), ('recordings', 'enregistrements'), ('juan', 'juan'), ('functions', 'fonctions'), ('mississippi', 'mississippi'), ('calls', 'appels'), ('criticism', 'critiques'), ('involving', 'impliquant'), ('magic', 'magique'), ('gordon', 'gordon'), ('treaty', 'traité'), ('antonio', 'antonio'), ('selection', 'sélection'), ('rear', 'arrières'), ('colonial', 'coloniale'), ('motor', 'moteur'), ('obtained', 'obtenu'), ('circuit', 'circuit'), ('wish', 'souhaiter'), ('compilation', 'recueil'), ('harvard', 'harvard'), ('islamic', 'islamique'), ('determined', 'déterminé'), ('geography', 'géographie'), ('arkansas', 'arkansas'), ('fuel', 'carburant'), ('artillery', 'artillerie'), ('medieval', 'médiévaux'), ('locations', 'lieux'), ('inclusion', 'inclusion'), ('recognition', 'reconnaissance'), ('moment', 'instant'), ('grounds', 'motifs'), ('succeeded', 'réussi'), ('historian', 'historien'), ('condition', 'condition'), ('physics', 'physique'), ('newspapers', 'quotidiens'), ('represent', 'représentent'), ('allen', 'allen'), ('watch', 'regarde'), ('kitt', 'kitt'), ('protect', 'protègent'), ('grey', 'grise'), ('launch', 'lancez'), ('dave', 'dave'), ('philip', 'philip'), ('iraq', 'iraq'), ('changing', 'changer'), ('ukraine', 'ukraine'), ('municipalities', 'municipalités'), ('mix', 'mixage'), ('tamil', 'tamouls'), ('shift', 'maj'), ('shared', 'partagé'), ('austrian', 'autrichienne'), ('door', 'porte'), ('investigation', 'enquête'), ('institution', 'institution'), ('princess', 'princesses'), ('trail', 'piste'), ('parks', 'parcs'), ('applications', 'demandes'), ('hundred', 'cent'), ('requirements', 'prescriptions'), ('talking', 'parlant'), ('kim', 'kim'), ('ltd', 'ltd'), ('metres', 'mètres'), ('gray', 'grise'), ('sector', 'sectoriel'), ('dean', 'doyenne'), ('agricultural', 'agricoles'), ('incorporated', 'incorporée'), ('escape', 'escape'), ('orders', 'ordres'), ('corner', 'coin'), ('commissioned', 'commandées'), ('founding', 'fondatrice'), ('mill', 'laminoir'), ('mrs', 'mrs'), ('subjects', 'sujets'), ('temperature', 'températures'), ('settled', 'réglé'), ('spacewatch', 'spacewatch'), ('remember', 'souviens'), ('miami', 'miami'), ('promote', 'promouvoir'), ('values', 'valeurs'), ('spot', 'spot'), ('progress', 'avancement'), ('learn', 'apprends'), ('planet', 'planète'), ('occupied', 'occupée'), ('usage', 'usage'), ('refused', 'refusée'), ('borough', 'borough'), ('truth', 'vérité'), ('clark', 'clark'), ('sufficient', 'suffisante'), ('equal', 'égale'), ('administrator', 'administrateur'), ('persons', 'personnes'), ('factory', 'usine'), ('fought', 'combattu'), ('derived', 'dérivées'), ('outstanding', 'remarquable'), ('magazines', 'magazines'), ('flow', 'écoulement'), ('peer', 'pairs'), ('attacked', 'attaquée'), ('generate', 'générer'), ('shape', 'forme'), ('creator', 'créateur'), ('requires', 'nécessite'), ('option', 'option'), ('lincoln', 'lincoln'), ('starts', 'commence'), ('stands', 'gradins'), ('establishment', 'établissement'), ('selling', 'vendre'), ('causes', 'causes'), ('budget', 'budget'), ('battles', 'batailles'), ('sky', 'ciel'), ('legend', 'légende'), ('arrested', 'arrêtée'), ('forum', 'forum'), ('metro', 'metro'), ('broke', 'cassée'), ('strike', 'frapper'), ('injury', 'blessures'), ('ryan', 'ryan'), ('zero', 'zéro'), ('converted', 'converti'), ('violence', 'violence'), ('significantly', 'sensiblement'), ('statements', 'déclarations'), ('controlled', 'contrôlé'), ('welsh', 'welsh'), ('dropped', 'chuté'), ('roger', 'roger'), ('pdf', 'pdf'), ('distinguished', 'distingué'), ('samuel', 'samuel'), ('translated', 'traduit'), ('papers', 'papiers'), ('detail', 'détail'), ('chapel', 'chapel'), ('frederick', 'frederick'), ('thousands', 'milliers'), ('banks', 'banques'), ('offensive', 'offensant'), ('kings', 'kings'), ('factor', 'factor'), ('rename', 'renommer'), ('replace', 'remplace'), ('museums', 'musées'), ('resistance', 'résistances'), ('junction', 'jonction'), ('tim', 'tim'), ('engines', 'moteurs'), ('contributed', 'contribué'), ('medium', 'milieu'), ('device', 'périphérique'), ('profit', 'bénéfices'), ('dream', 'rêve'), ('enter', 'saisissez'), ('twelve', 'douze'), ('universal', 'universel'), ('typical', 'typique'), ('skills', 'compétences'), ('bought', 'acheté'), ('passenger', 'voyageur'), ('cleveland', 'cleveland'), ('funding', 'financement'), ('agriculture', 'agriculture'), ('parent', 'parent'), ('decades', 'décennies'), ('receiving', 'recevoir'), ('signal', 'signal'), ('reform', 'réformes'), ('organisation', 'organisation'), ('column', 'colonnes'), ('defunct', 'défunt'), ('utah', 'utah'), ('managers', 'dirigeants'), ('qualified', 'qualifié'), ('indicate', 'indiquer'), ('ukrainian', 'ukrainiens'), ('gay', 'homosexuel'), ('amateur', 'amateur'), ('obviously', 'évidemment'), ('flora', 'flore'), ('gene', 'gene'), ('soul', 'âme'), ('alt', 'alat'), ('discussions', 'discussions'), ('montreal', 'montreal'), ('turns', 'virages'), ('walker', 'rôdeur'), ('entrance', 'entrée'), ('path', 'sillon'), ('nice', 'nice'), ('string', 'cordes'), ('influenced', 'influencés'), ('occur', 'survenir'), ('developing', 'développer'), ('abandoned', 'abandonnée'), ('humans', 'humains'), ('pair', 'paires'), ('flat', 'plat'), ('sample', 'échantillons'), ('contained', 'contenaient'), ('banned', 'bannie'), ('moore', 'moore'), ('strongly', 'fortement'), ('visited', 'visité'), ('increasing', 'croissante'), ('attorney', 'avocate'), ('arm', 'arm'), ('mathematics', 'mathématiques'), ('canal', 'canal'), ('charts', 'diagrammes'), ('thinking', 'penser'), ('dublin', 'dublin'), ('suggests', 'suggère'), ('surname', 'patronyme'), ('brain', 'cervelle'), ('pittsburgh', 'pittsburgh'), ('blog', 'blogue'), ('economics', 'economie'), ('seventh', 'seventh'), ('alex', 'alex'), ('heavily', 'lourdement'), ('authors', 'auteurs'), ('paintings', 'tableaux'), ('concerned', 'concernés'), ('recipients', 'récipiendaires'), ('controversial', 'controversé'), ('controversy', 'controverses'), ('expressed', 'exprimés'), ('josé', 'josé'), ('bodies', 'carrosseries'), ('conservation', 'conservation'), ('maps', 'cartes'), ('marie', 'marie'), ('arguments', 'arguments'), ('chain', 'chaine'), ('focused', 'concentrée'), ('readers', 'lecteurs'), ('carl', 'carl'), ('violation', 'infraction'), ('offices', 'bureaux'), ('wave', 'onde'), ('circle', 'cercle'), ('invasion', 'invasions'), ('jimmy', 'jimmy'), ('opportunity', 'opportunité'), ('determine', 'détermine'), ('colspan', 'colspan'), ('orthodox', 'orthodoxes'), ('voted', 'voté'), ('formal', 'formelle'), ('describes', 'décrit'), ('seconds', 'seconds'), ('cycle', 'cycle'), ('doubt', 'doutez'), ('golf', 'golf'), ('walls', 'murs'), ('productions', 'productions'), ('constituency', 'circonscription'), ('closely', 'étroitement'), ('occurs', 'survient'), ('huge', 'enorme'), ('andy', 'andy'), ('representing', 'représentant'), ('indonesia', 'indonésie'), ('sell', 'vendre'), ('mon', 'lun'), ('drawn', 'dessiné'), ('diocese', 'diocèse'), ('tank', 'cuve'), ('advice', 'conseils'), ('senator', 'sénatrice'), ('generated', 'généré'), ('malaysia', 'malaisie'), ('asking', 'demandant'), ('finland', 'finlande'), ('causing', 'causant'), ('leads', 'prospects'), ('lawyer', 'avocate'), ('seattle', 'seattle'), ('gain', 'gain'), ('index', 'indice'), ('saints', 'saints'), ('runner', 'coureur'), ('crisis', 'crise'), ('cinema', 'ciné'), ('matt', 'mat'), ('hollywood', 'hollywood'), ('reaction', 'réaction'), ('medals', 'médailles'), ('documents', 'documents'), ('reader', 'lecteur'), ('lawrence', 'lawrence'), ('pattern', 'schéma'), ('archives', 'archives'), ('atlanta', 'atlanta'), ('voting', 'votants'), ('reviewed', 'examiné'), ('bear', 'bear'), ('perfect', 'parfaite'), ('restored', 'restauré'), ('bruce', 'bruce'), ('baltimore', 'baltimore'), ('baron', 'baron'), ('pan', 'casserole'), ('commune', 'commune'), ('fantasy', 'fantaisie'), ('duty', 'devoir'), ('chair', 'fauteuil'), ('scenes', 'scènes'), ('broad', 'large'), ('opposite', 'opposés'), ('stuff', 'trucs'), ('aged', 'vieilli'), ('streets', 'rues'), ('nick', 'nick'), ('anna', 'anna'), ('billy', 'billy'), ('extension', 'vulgarisation'), ('kent', 'kent'), ('parliamentary', 'parlementaire'), ('kelly', 'kelly'), ('shooting', 'tirer'), ('ready', 'prêts'), ('pick', 'pick'), ('songwriter', 'compositrice'), ('aware', 'conscients'), ('jordan', 'jordan'), ('dictionary', 'dictionnaires'), ('composition', 'composition'), ('salt', 'sel'), ('bangladesh', 'bangladesh'), ('bot', 'bot'), ('benefit', 'prestation'), ('lands', 'terres'), ('interests', 'intérêts'), ('scheduled', 'programmé'), ('teachers', 'enseignant'), ('closing', 'fermeture'), ('advertising', 'publicités'), ('contribution', 'cotisation'), ('maine', 'maine'), ('retirement', 'retraite'), ('scientists', 'scientifiques'), ('dam', 'digue'), ('blocks', 'blocs'), ('las', 'las'), ('print', 'imprimer'), ('techniques', 'techniques'), ('participate', 'participer'), ('anniversary', 'anniversaire'), ('requested', 'demandés'), ('discovery', 'discovery'), ('explained', 'expliquée'), ('expedition', 'expedition'), ('citation', 'citation'), ('und', 'und'), ('meanwhile', 'entretemps'), ('hampshire', 'hampshire'), ('creative', 'créatif'), ('maintain', 'maintenir'), ('pierre', 'pierre'), ('detailed', 'détaillé'), ('facts', 'faits'), ('frame', 'cadre'), ('finance', 'finance'), ('socialist', 'socialiste'), ('script', 'script'), ('camera', 'caméra'), ('returns', 'retourne'), ('engaged', 'engagé'), ('assistance', 'assistance'), ('experienced', 'expérimentés'), ('underground', 'souterrains'), ('sale', 'vente'), ('beautiful', 'belle'), ('jane', 'jeanne'), ('abc', 'abc'), ('supposed', 'supposé'), ('successor', 'successeurs'), ('classification', 'classification'), ('tool', 'outil'), ('mining', 'minière'), ('cabinet', 'cabinet'), ('bytes', 'octets'), ('ross', 'ross'), ('russell', 'russell'), ('citations', 'citations'), ('maintained', 'maintenue'), ('evening', 'soir'), ('singing', 'chanter'), ('fifa', 'fifa'), ('gender', 'genre'), ('venues', 'lieux'), ('lakes', 'laques'), ('mail', 'mail'), ('jeff', 'jeff'), ('electoral', 'électorale'), ('emergency', 'urgences'), ('mode', 'mode'), ('christopher', 'christophe'), ('heads', 'têtes'), ('proved', 'prouvés'), ('priest', 'curé'), ('funds', 'fonds'), ('investment', 'investissements'), ('romanian', 'roumain'), ('session', 'séance'), ('capture', 'capter'), ('aspects', 'aspects'), ('reduce', 'réduire'), ('trophy', 'trophées'), ('abuse', 'maltraitance'), ('prefecture', 'préfecture'), ('walk', 'marcher'), ('normally', 'normalement'), ('snow', 'snow'), ('shop', 'magasin'), ('dakota', 'dakota'), ('bush', 'buisson'), ('coal', 'charbon'), ('inhabitants', 'habitants'), ('gary', 'gary'), ('employees', 'salariés'), ('error', 'erreurs'), ('invited', 'invitées'), ('cable', 'câble'), ('protein', 'protéine'), ('accident', 'accident'), ('decade', 'décennie'), ('measure', 'mesure'), ('watched', 'regardées'), ('patients', 'patientes'), ('downtown', 'downtown'), ('animated', 'animée'), ('satellite', 'satellite'), ('johnny', 'johnny'), ('combination', 'combinaison'), ('courts', 'juridictions'), ('sequence', 'séquence'), ('hook', 'crochet'), ('clean', 'nettoyer'), ('owners', 'propriétaires'), ('twin', 'jumelles'), ('distributed', 'distribuées'), ('describe', 'décrire'), ('defensive', 'défensif'), ('islam', 'islam'), ('photos', 'photographies'), ('ottoman', 'ottomane'), ('trained', 'formé'), ('affected', 'touché'), ('routes', 'itinéraires'), ('ministers', 'ministres'), ('wine', 'vin'), ('elsewhere', 'ailleurs'), ('lanka', 'lanka'), ('carlos', 'carlos'), ('landing', 'atterrir'), ('collected', 'recueilli'), ('revival', 'renouveau'), ('rio', 'río'), ('communes', 'communes'), ('saturday', 'saturday'), ('mps', 'députés'), ('guess', 'devine'), ('drop', 'drop'), ('sarah', 'sarah'), ('laid', 'pondu'), ('swimming', 'baignade'), ('membership', 'adhésion'), ('edinburgh', 'édimbourg'), ('fit', 'ajuster'), ('harris', 'harris'), ('dallas', 'dallas'), ('degrees', 'degré'), ('bachelor', 'baccalauréat'), ('personally', 'personnellement'), ('briefly', 'brièvement'), ('files', 'dossiers'), ('extreme', 'extreme'), ('courses', 'cours'), ('reaching', 'atteindre'), ('sought', 'recherché'), ('vision', 'vision'), ('demand', 'exiger'), ('vertical', 'verticale'), ('updated', 'actualisé'), ('marketing', 'commercialisation'), ('jason', 'jason'), ('consisted', 'consistait'), ('appeal', 'appel'), ('plane', 'avion'), ('quick', 'rapides'), ('victor', 'victor'), ('dyk', 'dyk'), ('solar', 'solaire'), ('ages', 'âges'), ('neighborhood', 'quartier'), ('fairly', 'équitablement'), ('wings', 'ailes'), ('acid', 'acides'), ('rfc', 'rfc'), ('constant', 'constants'), ('hip', 'hanche'), ('admins', 'administrateurs'), ('nova', 'nova'), ('ceremony', 'cérémonie'), ('chile', 'chili'), ('composers', 'compositeurs'), ('nazi', 'nazis'), ('scholar', 'érudit'), ('liverpool', 'liverpool'), ('hero', 'hero'), ('designer', 'créateur'), ('learned', 'apprises'), ('instruments', 'instruments'), ('welcome', 'bienvenu'), ('hair', 'coiffure'), ('consecutive', 'consécutive'), ('movies', 'ciné'), ('adjacent', 'adjacent'), ('pool', 'pool'), ('tue', 'aut'), ('norman', 'normande'), ('collections', 'collections'), ('belgian', 'belges'), ('austin', 'austin'), ('ensure', 'assurez'), ('driving', 'conduite'), ('phone', 'téléphone'), ('fly', 'mouche'), ('ian', 'ian'), ('window', 'fenêtres'), ('document', 'document'), ('adams', 'adams'), ('collaboration', 'collaboratif'), ('margaret', 'marguerite'), ('kennedy', 'kennedy'), ('leg', 'jambe'), ('videos', 'vidéos'), ('assume', 'supposez'), ('attached', 'attachés'), ('dry', 'sécher'), ('expand', 'élargir'), ('bible', 'bible'), ('matthew', 'matthieu'), ('serbian', 'serbes'), ('instrument', 'instrument'), ('covering', 'couvrant'), ('random', 'aléatoires'), ('represents', 'représente'), ('participants', 'participants'), ('thorough', 'minutieuse'), ('mentions', 'mentions'), ('portrait', 'portrait'), ('drivers', 'conducteur'), ('airlines', 'airlines'), ('franklin', 'franklin'), ('viewers', 'spectateurs'), ('finnish', 'finlandaise'), ('differences', 'différences'), ('venue', 'lieu'), ('vocal', 'vocal'), ('element', 'élément'), ('regularly', 'régulièrement'), ('rejected', 'rejeté'), ('relative', 'parent'), ('illegal', 'illicite'), ('stewart', 'stewart'), ('roof', 'toiture'), ('leagues', 'lieues'), ('colour', 'couleurs'), ('morgan', 'morgan'), ('prisoners', 'détenus'), ('facebook', 'facebook'), ('attend', 'assister'), ('nelson', 'nelson'), ('survived', 'survécu'), ('insurance', 'assurance'), ('expert', 'expert'), ('steam', 'vapeurs'), ('cards', 'cartes'), ('manufacturing', 'fabrication'), ('testing', 'tester'), ('coastal', 'côtière'), ('yorkshire', 'yorkshire'), ('rescue', 'sauveteurs'), ('territories', 'territoires'), ('thu', 'thu'), ('thailand', 'thailande'), ('struck', 'frappé'), ('choose', 'choisis'), ('vienna', 'vienne'), ('journey', 'parcours'), ('storage', 'rangement'), ('costs', 'coûts'), ('singh', 'singh'), ('distinct', 'distincts'), ('notably', 'notamment'), ('soldier', 'soldat'), ('colony', 'colonie'), ('evolution', 'évolution'), ('taiwan', 'taïwan'), ('hurricane', 'ouragan'), ('judges', 'juges'), ('gardens', 'jardins'), ('poems', 'poèmes'), ('driven', 'conduit'), ('responsibility', 'responsabilité'), ('sentences', 'phrases'), ('birmingham', 'birmingham'), ('engineers', 'ingénieurs'), ('visible', 'visibles'), ('substantial', 'substantiel'), ('gulf', 'gulf'), ('installed', 'installée'), ('revolutionary', 'révolutionnaire'), ('trip', 'trip'), ('restaurant', 'gastronomie'), ('graham', 'graham'), ('stores', 'magasins'), ('rice', 'riz'), ('prove', 'prouve'), ('reasonable', 'raisonnables'), ('skin', 'peau'), ('committed', 'engagé'), ('volleyball', 'volleyball'), ('chose', 'choisi'), ('factors', 'facteurs'), ('hundreds', 'centaine'), ('injured', 'lésée'), ('devices', 'périphériques'), ('phrase', 'phrase'), ('stanley', 'stanley'), ('lemmon', 'lemmon'), ('thompson', 'thompson'), ('suicide', 'suicides'), ('advantage', 'avantage'), ('automatically', 'automatiquement'), ('disc', 'disque'), ('minimum', 'minimums'), ('goods', 'biens'), ('charges', 'charges'), ('alfred', 'alfred'), ('operator', 'opérateur'), ('finishing', 'terminer'), ('fred', 'fred'), ('identify', 'identifier'), ('producers', 'producteurs'), ('ann', 'anne'), ('campbell', 'campbell'), ('portland', 'portland'), ('latest', 'dernière'), ('releases', 'rejets'), ('victims', 'victimes'), ('explanation', 'explications'), ('operate', 'opérer'), ('threat', 'menace'), ('crossing', 'traversée'), ('slow', 'lente'), ('poets', 'poètes'), ('stopped', 'stoppé'), ('strategy', 'stratégie'), ('wayne', 'wayne'), ('ranking', 'classement'), ('disney', 'disney'), ('wright', 'wright'), ('residential', 'résidentiels'), ('associate', 'associer'), ('significance', 'importance'), ('ruled', 'statué'), ('excellent', 'excellent'), ('observed', 'observé'), ('threatened', 'menacées'), ('friendly', 'amical'), ('redirects', 'redirections'), ('temporary', 'temporaire'), ('masters', 'maîtres'), ('peninsula', 'péninsule'), ('networks', 'réseaux'), ('passengers', 'passagers'), ('assumed', 'présumé'), ('artistic', 'artistique'), ('safe', 'coffre'), ('festivals', 'fêtes'), ('compete', 'concourir'), ('png', 'png'), ('hunter', 'hunter'), ('alaska', 'alaska'), ('partnership', 'partenariat'), ('maintenance', 'maintenance'), ('monitoring', 'suivi'), ('evil', 'diabolique'), ('relief', 'secours'), ('charlie', 'charlie'), ('poverty', 'pauvreté'), ('hop', 'hop'), ('fri', 'fri'), ('suspected', 'soupçonné'), ('filled', 'rempli'), ('nba', 'nba'), ('decide', 'décidez'), ('breaking', 'briser'), ('argentine', 'argentine'), ('resigned', 'démission'), ('oblast', 'oblast'), ('drew', 'drew'), ('hawaii', 'hawaii'), ('brooklyn', 'brooklyn'), ('historians', 'historiens'), ('speaker', 'conférencier'), ('moth', 'papillon'), ('permission', 'permission'), ('wounded', 'blessés'), ('racial', 'raciale'), ('marshall', 'marshall'), ('gate', 'porte'), ('springs', 'springs'), ('roy', 'roy'), ('photography', 'photographique'), ('helping', 'aider'), ('knights', 'chevaliers'), ('roll', 'rouleau'), ('progressive', 'progressive'), ('contrast', 'contraste'), ('continuing', 'continue'), ('processes', 'procédés'), ('terminal', 'terminaux'), ('executed', 'exécutée'), ('svg', 'svg'), ('spouse', 'épouse'), ('infrastructure', 'infrastructure'), ('principle', 'principe'), ('painters', 'peintres'), ('painted', 'peints'), ('properly', 'correctement'), ('frequency', 'fréquences'), ('shaped', 'façonnée'), ('joining', 'rejoindre'), ('robinson', 'robinson'), ('waters', 'waters'), ('ridge', 'crête'), ('bridges', 'ponts'), ('ceo', 'pdg'), ('monument', 'monument'), ('mental', 'mental'), ('carter', 'carter'), ('karl', 'karl'), ('rowspan', 'rowspan'), ('mac', 'mac'), ('orleans', 'orléans'), ('portal', 'portail'), ('parallel', 'parallèle'), ('thirty', 'thirty'), ('giant', 'géante'), ('qualifying', 'qualifier'), ('murray', 'murray'), ('afghanistan', 'afghanistan'), ('assessment', 'appréciation'), ('counter', 'comptoir'), ('bears', 'oursons'), ('purchase', 'achetez'), ('expression', 'expression'), ('uefa', 'uefa'), ('improvement', 'améliorations'), ('madrid', 'madrid'), ('closure', 'fermeture'), ('wheel', 'roues'), ('ambassador', 'ambassadrice'), ('desert', 'désertique'), ('bringing', 'apportant'), ('iranian', 'iranien'), ('reign', 'régner'), ('uncle', 'oncle'), ('severe', 'sévère'), ('rain', 'pluie'), ('admiral', 'amiral'), ('fishing', 'pêche'), ('existed', 'existaient'), ('raise', 'élever'), ('broadway', 'broadway'), ('principles', 'principes'), ('grow', 'pousser'), ('tests', 'épreuves'), ('roughly', 'grossièrement'), ('tech', 'tech'), ('trouble', 'perturbation'), ('rico', 'rico'), ('paragraph', 'alinéa'), ('bat', 'batte'), ('prepared', 'préparé'), ('measures', 'mesures'), ('robin', 'robin'), ('hired', 'engagé'), ('fear', 'craintes'), ('merit', 'mérite'), ('participation', 'participation'), ('massive', 'massives'), ('designs', 'dessins'), ('agencies', 'agences'), ('technique', 'technique'), ('alberta', 'alberta'), ('egyptian', 'égyptien'), ('clerk', 'commis'), ('knew', 'savaient'), ('narrow', 'étroit'), ('adapted', 'adapté'), ('commissioner', 'commissaire'), ('rapid', 'rapides'), ('credited', 'crédité'), ('dating', 'rencontres'), ('businesses', 'entreprises'), ('bomb', 'bombes'), ('capable', 'capable'), ('poem', 'poème'), ('stages', 'étapes'), ('honorary', 'honorifiques'), ('dragon', 'dragon'), ('charged', 'chargé'), ('propose', 'proposer'), ('modified', 'modifiés'), ('fired', 'virés'), ('mlb', 'mlb'), ('send', 'envoyer'), ('proof', 'preuves'), ('practices', 'pratiques'), ('arabic', 'arabes'), ('attractions', 'attractions'), ('mouth', 'embouchure'), ('fix', 'réparer'), ('licensed', 'agréé'), ('symbol', 'symbole'), ('organ', 'organe'), ('damaged', 'endommagée'), ('warren', 'warren'), ('exception', 'exception'), ('costa', 'costa'), ('unfortunately', 'malheureusement'), ('jerusalem', 'jérusalem'), ('replacement', 'remplaçant'), ('indians', 'indiens'), ('soundtrack', 'soundtrack'), ('virgin', 'puceau'), ('thousand', 'milliers'), ('vancouver', 'vancouver'), ('legislation', 'législations'), ('beauty', 'beauté'), ('credits', 'crédits'), ('buy', 'achetez'), ('organisations', 'organisations'), ('serbia', 'serbie'), ('christianity', 'christianisme'), ('opinions', 'opinions'), ('cavalry', 'cavalerie'), ('tribe', 'tribu'), ('richmond', 'richmond'), ('chess', 'echec'), ('channels', 'canaux'), ('claiming', 'revendiquer'), ('exact', 'exactes'), ('baker', 'baker'), ('allied', 'alliée'), ('involvement', 'implication'), ('anime', 'anime'), ('donald', 'donald'), ('sisters', 'sœurs'), ('requests', 'requêtes'), ('unusual', 'insolite'), ('impossible', 'impossibles'), ('colors', 'couleurs'), ('cook', 'cuisinière'), ('drawing', 'dessiner'), ('wikimedia', 'wikimedia'), ('jonathan', 'jonathan'), ('removal', 'suppression'), ('indicates', 'indique'), ('admitted', 'admises'), ('ownership', 'propriété'), ('shore', 'rivage'), ('monitored', 'surveillé'), ('nebraska', 'nebraska'), ('regulations', 'règlement'), ('crash', 'krach'), ('guitarist', 'guitariste'), ('supports', 'supports'), ('abbey', 'abbaye'), ('deleting', 'suppression'), ('nevada', 'nevada'), ('barry', 'barry'), ('tone', 'tonus'), ('operates', 'opère'), ('indigenous', 'autochtone'), ('personality', 'personnalité'), ('reception', 'réception'), ('transit', 'transit'), ('buffalo', 'bison'), ('flowers', 'fleurs'), ('bond', 'bond'), ('jay', 'jay'), ('adventure', 'aventure'), ('definitely', 'définitivement'), ('guinea', 'guinéenne'), ('horror', 'horreur'), ('rangers', 'rangers'), ('pointed', 'pointu'), ('apple', 'pomme'), ('popularity', 'popularité'), ('occasionally', 'parfois'), ('coalition', 'coalition'), ('franchise', 'franchisés'), ('starred', 'étoilé'), ('critic', 'critique'), ('journals', 'revues'), ('rolling', 'roulement'), ('percentage', 'pourcentage'), ('silent', 'silencieuses'), ('laboratory', 'laboratoires'), ('microsoft', 'microsoft'), ('movements', 'mouvements'), ('charter', 'chartes'), ('suitable', 'convenable'), ('alternate', 'alterner'), ('offering', 'offrande'), ('missions', 'missions'), ('experimental', 'expérimentale'), ('rooms', 'chambres'), ('concluded', 'conclus'), ('reputation', 'réputation'), ('accurate', 'précis'), ('versus', 'versus'), ('websites', 'sites'), ('interpretation', 'interprétation'), ('tagged', 'identifiés'), ('endemic', 'endémiques'), ('chemistry', 'chimie'), ('achieve', 'réaliser'), ('knows', 'connait'), ('manga', 'mangas'), ('journalists', 'journalistes'), ('forests', 'forêt'), ('cbs', 'cbs'), ('symphony', 'symphonie'), ('promotional', 'promotionnels'), ('electrical', 'electrique'), ('tags', 'tags'), ('meters', 'mètres'), ('jerry', 'jerry'), ('tigers', 'tigres'), ('commerce', 'commerce'), ('remix', 'remix'), ('addressed', 'adressée'), ('phil', 'phil'), ('automatic', 'automatique'), ('gang', 'bande'), ('printed', 'imprimés'), ('oak', 'chêne'), ('warner', 'warner'), ('tend', 'tendent'), ('quote', 'cite'), ('separated', 'séparé'), ('bishops', 'évêques'), ('glasgow', 'glasgow'), ('essentially', 'fondamentalement'), ('wait', 'attendez'), ('battery', 'accumulateur'), ('favor', 'faveur'), ('benjamin', 'benjamin'), ('apparent', 'apparente'), ('shopping', 'shopping'), ('patrol', 'patrouille'), ('eagle', 'aigle'), ('angel', 'anges'), ('martial', 'martiaux'), ('restoration', 'restauration'), ('delhi', 'delhi'), ('hans', 'hans'), ('indicated', 'indiqué'), ('morris', 'morris'), ('centers', 'centres'), ('mills', 'broyeurs'), ('helpful', 'utiles'), ('delivered', 'livré'), ('components', 'composantes'), ('victorian', 'victorienne'), ('legislature', 'législature'), ('tourism', 'tourisme'), ('treated', 'traitées'), ('extent', 'étendue'), ('kids', 'enfants'), ('barbara', 'barbara'), ('essay', 'essai'), ('circumstances', 'circonstances'), ('repeated', 'répétées'), ('plain', 'plaine'), ('superior', 'superieur'), ('strategic', 'stratégiques'), ('similarly', 'pareillement'), ('duties', 'devoirs'), ('effectively', 'efficacement'), ('blp', 'blp'), ('considering', 'considérant'), ('arranged', 'arrangés'), ('ken', 'ken'), ('grammar', 'grammaire'), ('amendment', 'modification'), ('alleged', 'prétendu'), ('relation', 'relation'), ('habitat', 'habitat'), ('spoken', 'parlée'), ('shell', 'shell'), ('mounted', 'monté'), ('entries', 'entrées'), ('conflicts', 'conflit'), ('philippine', 'philippines'), ('montana', 'montana'), ('appearing', 'apparaissant'), ('triple', 'triple'), ('caribbean', 'caraïbe'), ('hosts', 'hôtes'), ('signs', 'panneaux'), ('seriously', 'serieux'), ('bristol', 'bristol'), ('warring', 'belligérantes'), ('mitchell', 'mitchell'), ('industries', 'industries'), ('colombia', 'colombie'), ('comparison', 'comparaisons'), ('basin', 'bassin'), ('eleven', 'eleven'), ('ill', 'malades'), ('pradesh', 'pradesh'), ('charity', 'charité'), ('output', 'sortie'), ('dna', 'adn'), ('carbon', 'carbone'), ('boats', 'bateaux'), ('desc', 'desc'), ('architectural', 'architectural'), ('representation', 'représentation'), ('commentary', 'commentaire'), ('rising', 'montante'), ('visitors', 'visiteurs'), ('markets', 'marchés'), ('plate', 'plaque'), ('giants', 'giants'), ('processing', 'traitement'), ('landscape', 'paysages'), ('dick', 'dick'), ('hunt', 'chasse'), ('summit', 'sommet'), ('psychology', 'psychologie'), ('ride', 'balade'), ('greatly', 'grandement'), ('guardian', 'gardien'), ('terminus', 'terminus'), ('losses', 'pertes'), ('balance', 'équilibre'), ('democracy', 'démocratie'), ('nicholas', 'nicholas'), ('usual', 'habituelle'), ('peru', 'pérou'), ('eighth', 'huitième'), ('instrumental', 'instrumentale'), ('hindu', 'hindoue'), ('defender', 'défenseur'), ('riding', 'équitation'), ('arrival', 'arrivées'), ('evans', 'evans'), ('turning', 'tournant'), ('imply', 'insinuer'), ('prose', 'prose'), ('cargo', 'fret'), ('hidden', 'masqués'), ('volunteer', 'bénévoles'), ('bio', 'biographie'), ('holder', 'détenteur'), ('sugar', 'sucres'), ('daughters', 'filles'), ('wildlife', 'faune'), ('fun', 'amusant'), ('integrated', 'intégrés'), ('partners', 'partenaires'), ('rates', 'taux'), ('grace', 'grace'), ('feed', 'fil'), ('childhood', 'enfance'), ('accompanied', 'accompagnés'), ('milan', 'milan'), ('photographs', 'photographies'), ('honour', 'honneur'), ('soil', 'sol'), ('server', 'serveur'), ('manual', 'manuelle'), ('concrete', 'béton'), ('possibility', 'possibilité'), ('ghost', 'fantômes'), ('confused', 'troublé'), ('tunnel', 'tunnel'), ('larry', 'larry'), ('styles', 'styles'), ('elevation', 'élévation'), ('muhammad', 'mahomet'), ('considerable', 'considérables'), ('inter', 'inter'), ('lose', 'perd'), ('phoenix', 'phoenix'), ('sweet', 'sweet'), ('waste', 'déchet'), ('operational', 'opérationnelle'), ('tall', 'tall'), ('qualify', 'qualifier'), ('constitutional', 'constitutionnels'), ('peoples', 'peuples'), ('acceptable', 'acceptable'), ('fruit', 'fruits'), ('decisions', 'décisions'), ('depression', 'dépression'), ('perspective', 'perspective'), ('midfielder', 'milieu'), ('crystal', 'crystal'), ('monastery', 'monastères'), ('resident', 'résidents'), ('cincinnati', 'cincinnati'), ('tied', 'liées'), ('surgery', 'chirurgie'), ('steps', 'étapes'), ('carrier', 'transporteur'), ('stream', 'ruisseau'), ('alice', 'alice'), ('kick', 'botter'), ('strange', 'etrange'), ('predecessor', 'prédécesseur'), ('bernard', 'bernard'), ('nigeria', 'nigéria'), ('pain', 'douleurs'), ('influential', 'influent'), ('punk', 'voyou'), ('suggestion', 'suggestion'), ('interaction', 'interactions'), ('retained', 'retenu'), ('achievement', 'accomplissement'), ('mechanical', 'mécaniques'), ('drugs', 'drogue'), ('missed', 'manqués'), ('trinity', 'trinité'), ('classified', 'classé'), ('minority', 'minoritaire'), ('coat', 'manteau'), ('powered', 'propulsé'), ('alive', 'alive'), ('nbc', 'nbc'), ('nhl', 'lnh'), ('keith', 'keith'), ('bobby', 'bobby'), ('harbor', 'harbor'), ('behaviour', 'comportement'), ('croatian', 'croate'), ('maritime', 'maritime'), ('terry', 'terry'), ('virtual', 'virtuelles'), ('indoor', 'intérieur'), ('periods', 'périodes'), ('spiritual', 'spirituelles'), ('croatia', 'croatie'), ('lions', 'lions'), ('archbishop', 'archevêque'), ('luis', 'luis'), ('merchant', 'négociant'), ('azerbaijan', 'azerbaïdjan'), ('lots', 'lots'), ('contested', 'contestée'), ('editorial', 'rédaction'), ('initiative', 'initiative'), ('charlotte', 'charlotte'), ('pure', 'pure'), ('borders', 'frontières'), ('persian', 'persan'), ('marks', 'marques'), ('armenian', 'arméniens'), ('romantic', 'romantique'), ('replacing', 'remplaçant'), ('talent', 'talent'), ('unlikely', 'improbables'), ('panel', 'panel'), ('jump', 'saut'), ('animation', 'animations'), ('agents', 'mandataires'), ('employment', 'emplois'), ('trading', 'négociation'), ('parker', 'parker'), ('statue', 'statue'), ('dated', 'daté'), ('wonder', 'wonder'), ('filed', 'classé'), ('provinces', 'provinces'), ('friday', 'vendredi'), ('jobs', 'emplois'), ('cuba', 'cuba'), ('são', 'sao'), ('scientist', 'scientifique'), ('schedule', 'calendrier'), ('waiting', 'attendant'), ('familiar', 'familiers'), ('suspect', 'suspectes'), ('disagree', 'désaccord'), ('suggestions', 'suggestions'), ('turner', 'turner'), ('forming', 'formage'), ('formally', 'formellement'), ('locomotives', 'locomotives'), ('barcelona', 'barcelona'), ('consistent', 'cohérent'), ('recommended', 'recommandées'), ('desire', 'désirer'), ('patient', 'patient'), ('bulgaria', 'bulgarie'), ('vincent', 'vincent'), ('hear', 'entendre'), ('texts', 'textes'), ('belief', 'croyance'), ('visitor', 'visiteur'), ('vessels', 'vaisseaux'), ('basically', 'fondamentalement'), ('continental', 'continentaux'), ('hole', 'trou'), ('fail', 'échouer'), ('passage', 'passage'), ('sees', 'voit'), ('wedding', 'mariages'), ('archaeological', 'archéologiques'), ('layer', 'calque'), ('designation', 'appellation'), ('clan', 'clan'), ('revenue', 'recettes'), ('couples', 'couples'), ('suit', 'costume'), ('soft', 'soft'), ('weekend', 'weekend'), ('approval', 'homologation'), ('democrats', 'démocrate'), ('crimes', 'crimes'), ('collins', 'collins'), ('expatriates', 'expatriés'), ('horses', 'cheval'), ('wear', 'usure'), ('supporters', 'soutiens'), ('cash', 'liquidités'), ('dennis', 'denis'), ('resource', 'ressource'), ('sculpture', 'sculptures'), ('practical', 'pratique'), ('harrison', 'harrison'), ('pink', 'rosé'), ('oliver', 'olivier'), ('limits', 'limites'), ('cooper', 'cooper'), ('illustrated', 'illustrés'), ('hell', 'enfer'), ('statistical', 'statistique'), ('referenced', 'référencé'), ('arbcom', 'arbcom'), ('wolf', 'louve'), ('warriors', 'guerriers'), ('incidents', 'incidents'), ('fresh', 'fraîcheur'), ('editions', 'éditions'), ('roots', 'racine'), ('signature', 'signature'), ('clinical', 'cliniques'), ('volumes', 'volumes'), ('worst', 'pires'), ('adults', 'adulte'), ('contribute', 'contribuer'), ('necessarily', 'nécessairement'), ('immediate', 'immédiatement'), ('feeling', 'sentiment'), ('theories', 'théories'), ('essential', 'essentiels'), ('completion', 'achèvement'), ('conclusion', 'conclusion'), ('technologies', 'technologies'), ('strip', 'strip'), ('bound', 'lié'), ('praised', 'loué'), ('stayed', 'séjourné'), ('hull', 'coques'), ('diamond', 'diamants'), ('origins', 'origines'), ('empty', 'vide'), ('eliminated', 'éliminé'), ('valuable', 'précieuse'), ('cite', 'cite'), ('doubles', 'doubles'), ('branches', 'succursales'), ('honors', 'honneurs'), ('brick', 'brique'), ('experiences', 'expériences'), ('beijing', 'beijing'), ('tie', 'cravates'), ('lgbt', 'homosexualité'), ('liberty', 'liberté'), ('siege', 'siège'), ('baptist', 'baptiste'), ('ron', 'ron'), ('hebrew', 'hébraïque'), ('affect', 'affectent'), ('decline', 'baisse'), ('coaching', 'entraîneurs'), ('alpha', 'alpha'), ('equipped', 'équipé'), ('identical', 'identiques'), ('submitted', 'soumis'), ('enterprise', 'entreprise'), ('touch', 'touche'), ('transmission', 'transmissions'), ('platforms', 'plateformes'), ('cave', 'cave'), ('filmed', 'filmée'), ('inch', 'centimètre'), ('cool', 'cool'), ('bulgarian', 'bulgares'), ('liga', 'liga'), ('manhattan', 'manhattan'), ('destruction', 'destruction'), ('activist', 'activiste'), ('weapon', 'arme'), ('clay', 'clay'), ('keyboards', 'claviers'), ('dangerous', 'dangereuses'), ('viewed', 'visionné'), ('email', 'courriel'), ('biology', 'biologie'), ('bold', 'gras'), ('bowling', 'bowling'), ('compare', 'comparaison'), ('treaties', 'traités'), ('affiliated', 'affiliés'), ('sock', 'chaussette'), ('assault', 'agressions'), ('monthly', 'mensuelle'), ('foster', 'foster'), ('cousin', 'cousine'), ('urls', 'url'), ('hispanic', 'hispanique'), ('logic', 'logiques'), ('craig', 'craig'), ('trivial', 'trivial'), ('pioneer', 'pionnière'), ('muslims', 'musulman'), ('lay', 'lay'), ('rated', 'noté'), ('absence', 'absence'), ('amsterdam', 'amsterdam'), ('publishers', 'éditeurs'), ('tribes', 'tribus'), ('percussion', 'percussion'), ('runners', 'coureurs'), ('themes', 'thèmes'), ('#the', '#les'), ('benefits', 'prestations'), ('guards', 'gardiens'), ('flows', 'flux'), ('attributed', 'attribuée'), ('athens', 'athènes'), ('herbert', 'herbert'), ('celebrated', 'fêté'), ('sponsored', 'sponsorisée'), ('raf', 'raf'), ('delaware', 'delaware'), ('neil', 'neil'), ('pole', 'polonais'), ('ref', 'arbitre'), ('historically', 'historiquement'), ('tail', 'tail'), ('tours', 'visites'), ('stable', 'stable'), ('decides', 'décide'), ('vessel', 'vaisseau'), ('identification', 'identification'), ('delta', 'delta'), ('writes', 'écrit'), ('mediterranean', 'méditerranée'), ('volunteers', 'bénévoles'), ('reply', 'reponse'), ('stuart', 'stuart'), ('marvel', 'marvel'), ('luke', 'luc'), ('grave', 'grave'), ('odd', 'odd'), ('hearing', 'entendre'), ('uss', 'uss'), ('mall', 'mall'), ('penalty', 'sanction'), ('solutions', 'solutions'), ('secure', 'sécurisé'), ('hugh', 'hugh'), ('steven', 'steven'), ('sole', 'semelle'), ('architects', 'architectes'), ('characteristics', 'caractéristiques'), ('falling', 'tombant'), ('spin', 'tourne'), ('clinton', 'clinton'), ('villa', 'villa'), ('select', 'sélectionner'), ('metric', 'métriques'), ('criticized', 'critiqués'), ('surviving', 'survivre'), ('roberts', 'roberts'), ('standings', 'classements'), ('biological', 'biologique'), ('lloyd', 'lloyd'), ('munich', 'munich'), ('belongs', 'appartient'), ('adelaide', 'adelaide'), ('belong', 'appartenir'), ('harold', 'harold'), ('norfolk', 'norfolk'), ('butler', 'majordome'), ('coi', 'coi'), ('rival', 'rivaux'), ('acoustic', 'acoustique'), ('posts', 'publications'), ('adaptation', 'adaptation'), ('greg', 'greg'), ('reporter', 'reporter'), ('url', 'url'), ('absolutely', 'absolument'), ('nobody', 'personne'), ('scholarship', 'bourse'), ('vast', 'vaste'), ('exit', 'sortie'), ('inquiry', 'enquête'), ('dual', 'dual'), ('belt', 'belt'), ('noticed', 'remarqué'), ('patent', 'brevet'), ('mathematical', 'mathématiques'), ('rarely', 'rarement'), ('submission', 'soumission'), ('demographics', 'démographie'), ('crowd', 'foule'), ('rick', 'rick'), ('governments', 'gouvernements'), ('bonus', 'bonification'), ('tourist', 'touriste'), ('mystery', 'mystères'), ('click', 'cliquant'), ('walking', 'marcher'), ('nevertheless', 'néanmoins'), ('voters', 'votants'), ('rifle', 'carabine'), ('component', 'composant'), ('civilian', 'civiles'), ('partial', 'partielle'), ('encouraged', 'encouragé'), ('birthday', 'anniversaires'), ('eddie', 'eddy'), ('christians', 'chrétiens'), ('denver', 'denver'), ('petersburg', 'petersbourg'), ('researchers', 'chercheurs'), ('partly', 'partiellement'), ('photographer', 'photographe'), ('runtime', 'exécutable'), ('jon', 'jon'), ('obama', 'obama'), ('seemed', 'semblait'), ('clock', 'horloges'), ('violin', 'violon'), ('highways', 'autoroutes'), ('holiday', 'vacances'), ('distinction', 'distinctions'), ('artwork', 'artwork'), ('makeup', 'maquiller'), ('catherine', 'catherine'), ('font', 'fontes'), ('farmers', 'agriculteurs'), ('occasions', 'occasions'), ('photograph', 'photographier'), ('struggle', 'lutte'), ('timestamp', 'timestamp'), ('yale', 'yale'), ('options', 'options'), ('pen', 'stylos'), ('procedure', 'procédure'), ('jacob', 'jacob'), ('convicted', 'condamnés'), ('touring', 'tournée'), ('transition', 'transition'), ('anglo', 'anglo'), ('legacy', 'legs'), ('denied', 'refusée'), ('relationships', 'relations'), ('ottawa', 'ottawa'), ('derby', 'derby'), ('surrounded', 'entouré'), ('libraries', 'bibliothèques'), ('competing', 'rivaliser'), ('speakers', 'intervenants'), ('grades', 'grades'), ('hudson', 'hudson'), ('administrators', 'administrateurs'), ('sacred', 'sacrés'), ('signing', 'signature'), ('rob', 'braquer'), ('citizen', 'citoyen'), ('dogs', 'chien'), ('argue', 'argumenter'), ('believes', 'croit'), ('annually', 'annuellement'), ('cardinal', 'cardinal'), ('nepal', 'népal'), ('intersection', 'carrefour'), ('reveals', 'révèle'), ('disputes', 'différends'), ('beam', 'faisceau'), ('overseas', 'outremer'), ('perry', 'perry'), ('nickname', 'pseudonyme'), ('syria', 'syrie'), ('wells', 'wells'), ('contributing', 'contribuer'), ('ultimate', 'ultime'), ('ranks', 'rangs'), ('danny', 'dany'), ('retail', 'détail'), ('favorite', 'préférés'), ('vermont', 'vermont'), ('begun', 'commencée'), ('download', 'téléchargement'), ('trusted', 'confiance'), ('appointment', 'nomination'), ('ballet', 'ballet'), ('jefferson', 'jefferson'), ('anywhere', 'partout'), ('sand', 'sable'), ('angle', 'angle'), ('sessions', 'sessions'), ('recreation', 'récréation'), ('wearing', 'portant'), ('kenya', 'kenya'), ('accessible', 'accessibles'), ('ralph', 'ralph'), ('thread', 'fil'), ('disruptive', 'perturbateurs'), ('spend', 'dépenser'), ('ninth', 'neuvième'), ('arrest', 'arrestations'), ('choir', 'choeur'), ('mines', 'mines'), ('injuries', 'lésions'), ('rounds', 'ronds'), ('competitive', 'compétitifs'), ('opportunities', 'opportunités'), ('meetings', 'réunions'), ('commented', 'commentés'), ('wang', 'wang'), ('woods', 'woods'), ('exercise', 'exercice'), ('jacques', 'jacques'), ('objective', 'objectif'), ('demolished', 'démolie'), ('preferred', 'préférés'), ('pedro', 'pedro'), ('robot', 'robotique'), ('venezuela', 'venezuela'), ('segment', 'segment'), ('studying', 'étudier'), ('edwards', 'edwards'), ('aim', 'viser'), ('dancing', 'dansant'), ('eagles', 'aigles'), ('demonstrated', 'montré'), ('tribute', 'hommages'), ('continuous', 'continus'), ('encourage', 'encourager'), ('spider', 'araignée'), ('acted', 'agi'), ('convinced', 'convaincus'), ('heroes', 'heroes'), ('describing', 'décrivant'), ('rocks', 'pierres'), ('bed', 'lit'), ('gap', 'gap'), ('reflect', 'refléter'), ('mars', 'mars'), ('participating', 'participant'), ('cooperation', 'coopérations'), ('obtain', 'obtenir'), ('gothic', 'gothiques'), ('protest', 'manifestation'), ('hunting', 'chasse'), ('rfa', 'rfa'), ('frequent', 'fréquente'), ('conversion', 'reconversion'), ('stress', 'stressé'), ('manufacturers', 'fabricants'), ('checkuser', 'checkuser'), ('voiced', 'exprimé'), ('traditionally', 'traditionnellement'), ('jose', 'josé'), ('adventures', 'aventures'), ('tiger', 'tigre'), ('totally', 'totalement'), ('concentration', 'concentration'), ('sing', 'chante'), ('rocket', 'roquette'), ('electricity', 'électricité'), ('shadow', 'ombres'), ('boxing', 'boxe'), ('senators', 'sénateurs'), ('doc', 'toubib'), ('stanford', 'stanford'), ('machines', 'machines'), ('vegas', 'vegas'), ('saved', 'enregistrés'), ('jury', 'jurys'), ('calendar', 'calendrier'), ('noble', 'noblesse'), ('tommy', 'tommy'), ('guilty', 'coupables'), ('leo', 'leo'), ('handle', 'poignée'), ('extinct', 'éteints'), ('responded', 'répondu'), ('shares', 'partages'), ('scotia', 'scotia'), ('manufacturer', 'fabricant'), ('tales', 'récits'), ('implementation', 'implémentation'), ('truck', 'camion'), ('spelling', 'orthographe'), ('item', 'élément'), ('load', 'charge'), ('customers', 'clientèle'), ('adds', 'ajoute'), ('spaces', 'espaces'), ('cap', 'capuchon'), ('orphaned', 'orphelins'), ('ferry', 'traversiers'), ('prefer', 'préfèrent'), ('push', 'pousse'), ('lie', 'mensonges'), ('berkeley', 'berkeley'), ('lebanon', 'liban'), ('madison', 'madison'), ('throne', 'trône'), ('attracted', 'attirées'), ('lion', 'lionne'), ('retrieved', 'récupérée'), ('manor', 'manor'), ('promoting', 'promouvoir'), ('saudi', 'saoudien'), ('serial', 'série'), ('abroad', 'etranger'), ('rogers', 'rogers'), ('lights', 'luminaires'), ('gauge', 'écartement'), ('concerts', 'concerts'), ('elder', 'aîné'), ('renaissance', 'renaissance'), ('uniform', 'uniformes'), ('chase', 'chase'), ('aka', 'aka'), ('computers', 'ordinateurs'), ('brisbane', 'brisbane'), ('susan', 'sylvie'), ('raymond', 'raymond'), ('flower', 'fleur'), ('col', 'col'), ('thai', 'thaïlandais'), ('disaster', 'catastrophes'), ('survive', 'survivre'), ('clothing', 'vêtement'), ('murphy', 'murphy'), ('sharp', 'sharp'), ('explains', 'explique'), ('yugoslavia', 'yougoslavie'), ('buddhist', 'bouddhistes'), ('publicly', 'publiquement'), ('meat', 'viandes'), ('literally', 'littéralement'), ('spam', 'spams'), ('telephone', 'téléphone'), ('moral', 'moralité'), ('sung', 'chantée'), ('partially', 'partiellement'), ('lawyers', 'juristes'), ('citing', 'citant'), ('interviews', 'interviews'), ('brunswick', 'brunswick'), ('radar', 'radars'), ('spending', 'dépense'), ('grove', 'bosquet'), ('tea', 'thé'), ('elite', 'elite'), ('bright', 'lumineux'), ('improving', 'améliorer'), ('sierra', 'sierra'), ('heaven', 'ciel'), ('athlete', 'athlète'), ('aspect', 'aspect'), ('answers', 'réponses'), ('ted', 'ted'), ('consumer', 'consommateur'), ('funded', 'financés'), ('exclusive', 'exclusif'), ('ibn', 'ibn'), ('manuel', 'manuel'), ('allies', 'alliés'), ('reviewer', 'examinateur'), ('missile', 'missile'), ('mechanism', 'mécanisme'), ('helen', 'helen'), ('withdrawn', 'retiré'), ('intention', 'intention'), ('mini', 'mini'), ('casualties', 'victimes'), ('diseases', 'maladies'), ('rhythm', 'rythme'), ('pat', 'pat'), ('catch', 'attraper'), ('poll', 'scrutin'), ('deck', 'pont'), ('newcastle', 'newcastle'), ('antarctic', 'antarctique'), ('leeds', 'leeds'), ('lasted', 'duré'), ('ranges', 'gammes'), ('ordinary', 'ordinaires'), ('insects', 'insecte'), ('suffering', 'souffrances'), ('flash', 'flashs'), ('worship', 'culte'), ('boundaries', 'limites'), ('blind', 'aveugles'), ('pakistani', 'pakistanais'), ('assuming', 'supposant'), ('interstate', 'interstate'), ('arrangement', 'arrangement'), ('globe', 'globe'), ('honours', 'honneurs'), ('gross', 'brute'), ('gilbert', 'gilbert'), ('applies', 'applique'), ('gradually', 'graduellement'), ('managing', 'gérer'), ('experiment', 'expérimentation'), ('radical', 'radicale'), ('gov', 'gov'), ('legs', 'pattes'), ('opponent', 'adversaire'), ('diameter', 'diamètres'), ('supplies', 'fournitures'), ('pitch', 'pitch'), ('utility', 'utilité'), ('cleanup', 'nettoyage'), ('opponents', 'opposants'), ('regime', 'régime'), ('revised', 'révisé'), ('genera', 'genres'), ('diplomatic', 'diplomatiques'), ('germans', 'allemands'), ('seal', 'phoques'), ('gregory', 'grégory'), ('corresponding', 'correspondant'), ('concepts', 'concepts'), ('sword', 'sabre'), ('purple', 'violet'), ('virus', 'virus'), ('populations', 'populations'), ('bull', 'taureaux'), ('drummer', 'batteur'), ('presents', 'présente'), ('holland', 'hollande'), ('bias', 'préjugé'), ('merger', 'fusion'), ('remote', 'distante'), ('sean', 'sean'), ('messages', 'messages'), ('rebellion', 'rébellion'), ('premiere', 'premiere'), ('physician', 'physicien'), ('victim', 'victime'), ('con', 'con'), ('cloud', 'nuages'), ('angels', 'angels'), ('noise', 'bruit'), ('heading', 'rubrique'), ('duo', 'duo'), ('beer', 'bière'), ('palestinian', 'palestiniens'), ('us$', '$us'), ('copper', 'cuivre'), ('jurisdiction', 'juridiction'), ('improvements', 'améliorations'), ('ski', 'skier'), ('peaked', 'culminé'), ('hms', 'hms'), ('loop', 'boucle'), ('renaming', 'renommer'), ('drum', 'fût'), ('dramatic', 'dramatiques'), ('saskatchewan', 'saskatchewan'), ('talks', 'pourparlers'), ('earthquake', 'séisme'), ('rhode', 'rhode'), ('hat', 'chapeau'), ('requirement', 'exigence'), ('den', 'den'), ('tanks', 'cuves'), ('presidents', 'présidents'), ('min', 'min'), ('defending', 'défendre'), ('alcohol', 'alcool'), ('dominated', 'dominées'), ('sang', 'chantait'), ('eat', 'mange'), ('graphics', 'graphisme'), ('constituencies', 'circonscriptions'), ('asp', 'asp'), ('coffee', 'café'), ('chancellor', 'chancelière'), ('destroy', 'détruire'), ('tons', 'tonnes'), ('cruz', 'cruz'), ('warsaw', 'varsovie'), ('exclusively', 'exclusivement'), ('connections', 'connexions'), ('rush', 'rush'), ('heights', 'hauteurs'), ('playstation', 'playstation'), ('outcome', 'aboutissement'), ('apartment', 'appartement'), ('cardinals', 'cardinaux'), ('fill', 'remplir'), ('recipient', 'bénéficiaire'), ('correctly', 'correctement'), ('traditions', 'traditions'), ('fundamental', 'fondamentaux'), ('thin', 'minces'), ('chan', 'chan'), ('resolved', 'résolue'), ('mario', 'mario'), ('departments', 'départements'), ('dame', 'dame'), ('shield', 'shield'), ('fighters', 'combattants'), ('ivan', 'ivan'), ('writings', 'écrits'), ('bosnia', 'bosnie'), ('sentenced', 'condamnés'), ('violent', 'violente'), ('caption', 'légende'), ('harbour', 'harbour'), ('margin', 'marges'), ('auckland', 'auckland'), ('postal', 'postale'), ('pirates', 'pirates'), ('collective', 'collectif'), ('diesel', 'diesel'), ('liberation', 'libération'), ('confederate', 'confédéré'), ('devil', 'diable'), ('activists', 'activistes'), ('sultan', 'sultan'), ('rider', 'cavalier'), ('amazon', 'amazone'), ('florence', 'florence'), ('marc', 'marc'), ('arnold', 'arnold'), ('shah', 'shah'), ('blogspot', 'blogspot'), ('reduction', 'réduction'), ('contents', 'contenu'), ('genetic', 'génétiques'), ('somerset', 'somerset'), ('locally', 'localement'), ('milk', 'lait'), ('romance', 'romantique'), ('intellectual', 'intellectuels'), ('latino', 'latinos'), ('failing', 'échouer'), ('mason', 'mason'), ('pete', 'pete'), ('advisory', 'consultatif'), ('arbitration', 'arbitrages'), ('interface', 'interface'), ('hitler', 'hitler'), ('default', 'défaut'), ('accessed', 'consulté'), ('sheffield', 'sheffield'), ('departure', 'départs'), ('hindi', 'hindi'), ('anglican', 'anglicane'), ('suggesting', 'suggérant'), ('mistake', 'erreur'), ('residing', 'résidant'), ('embassy', 'ambassades'), ('murdered', 'assassinée'), ('sox', 'sox'), ('sleep', 'dors'), ('suspended', 'suspendus'), ('sum', 'sum'), ('mythology', 'mythologie'), ('bengal', 'bengale'), ('confusion', 'désarroi'), ('oscar', 'oscar'), ('therapy', 'thérapies'), ('occasion', 'occasion'), ('exposed', 'exposé'), ('assisted', 'assisté'), ('possession', 'possession'), ('defend', 'défendez'), ('devoted', 'consacré'), ('graphic', 'graphique'), ('milwaukee', 'milwaukee'), ('informed', 'informés'), ('anonymous', 'anonyme'), ('reverse', 'inversé'), ('soap', 'savons'), ('territorial', 'territorial'), ('lisa', 'lisa'), ('paulo', 'paulo'), ('northwestern', 'northwestern'), ('playoffs', 'éliminatoires'), ('boss', 'patronne'), ('nasa', 'nasa'), ('quoted', 'cotés'), ('byzantine', 'byzantine'), ('idaho', 'idaho'), ('poster', 'affiche'), ('geographic', 'géographiques'), ('rebounds', 'rebonds'), ('congo', 'congo'), ('venture', 'venture'), ('worse', 'pire'), ('hoax', 'canular'), ('restricted', 'restreint'), ('doors', 'portes'), ('naming', 'nommer'), ('situations', 'situations'), ('instructions', 'instructions'), ('sullivan', 'sullivan'), ('tables', 'tableaux'), ('leaf', 'feuilles'), ('shoot', 'tirez'), ('substitute', 'remplaçants'), ('restaurants', 'gastronomie'), ('contributor', 'contributeurs'), ('errors', 'erreurs'), ('enjoyed', 'apprécié'), ('framework', 'cadre'), ('rocky', 'rocky'), ('kerala', 'kerala'), ('shakespeare', 'shakespeare'), ('quantum', 'quantique'), ('immigration', 'immigration'), ('mirror', 'miroirs'), ('certified', 'certifiés'), ('assets', 'actifs'), ('npov', 'npov'), ('potentially', 'potentiellement'), ('presentation', 'présentation'), ('cotton', 'coton'), ('sitting', 'assis'), ('tournaments', 'tournois'), ('syndrome', 'syndrome'), ('checked', 'coché'), ('forty', 'quarante'), ('sourcing', 'approvisionnement'), ('journalism', 'journalistique'), ('unsuccessful', 'infructueuses'), ('towers', 'tours'), ('conductor', 'conducteur'), ('hospitals', 'hôpitaux'), ('bone', 'bone'), ('essex', 'essex'), ('rebuilt', 'reconstruit'), ('wellington', 'wellington'), ('ideal', 'idéal'), ('raw', 'crus'), ('sharing', 'partager'), ('labels', 'libellés'), ('leonard', 'leonard'), ('watson', 'watson'), ('governors', 'gouverneurs'), ('posting', 'poster'), ('harvey', 'harvey'), ('bases', 'fondements'), ('hello', 'bjr'), ('rabbi', 'rabin'), ('hardware', 'matériels'), ('ensemble', 'ensemble'), ('monster', 'monstre'), ('pitcher', 'pichet'), ('emphasis', 'emphase'), ('recovery', 'guérison'), ('respond', 'répondez'), ('aaron', 'aaron'), ('lesser', 'moindre'), ('qualification', 'qualification'), ('organic', 'organique'), ('exposure', 'exposition'), ('palestine', 'palestinien'), ('thoughts', 'pensées'), ('drafted', 'rédigé'), ('maurice', 'maurice'), ('immigrants', 'immigrés'), ('variant', 'variante'), ('lap', 'giron'), ('legitimate', 'légitime'), ('autonomous', 'autonome'), ('wallace', 'wallace'), ('succession', 'succession'), ('throw', 'jeter'), ('monday', 'lundi'), ('reserves', 'réserves'), ('donated', 'donnés'), ('increases', 'augmente'), ('kid', 'gamin'), ('delivery', 'accouchement'), ('joan', 'joan'), ('fifty', 'fifty'), ('slave', 'esclaves'), ('feedback', 'rétroaction'), ('columbus', 'columbus'), ('stones', 'pierres'), ('manage', 'gérer'), ('cgi', 'cgi'), ('initiated', 'initié'), ('favour', 'faveur'), ('printing', 'imprimerie'), ('variable', 'variables'), ('theology', 'théologie'), ('todd', 'todd'), ('parameters', 'paramètres'), ('traveled', 'voyagé'), ('canton', 'canton'), ('han', 'han'), ('reed', 'reed'), ('celtic', 'celtic'), ('characteristic', 'caractéristique'), ('commanded', 'commandée'), ('searching', 'recherchant'), ('inappropriate', 'inadéquat'), ('switch', 'commutateur'), ('ties', 'cravates'), ('tube', 'tube'), ('otto', 'otto'), ('debt', 'dettes'), ('outdoor', 'extérieure'), ('navigation', 'navigation'), ('eligible', 'admissibles'), ('experts', 'experts'), ('expensive', 'chères'), ('tier', 'tier'), ('gospel', 'evangile'), ('newton', 'newton'), ('essays', 'essais'), ('shanghai', 'shanghai'), ('conventional', 'conventionnels'), ('campaigns', 'campagnes'), ('feelings', 'sentiments'), ('bath', 'bath'), ('venice', 'venise'), ('#aaa', '#aaa'), ('cats', 'chats'), ('variations', 'variantes'), ('emerged', 'émergé'), ('socks', 'chaussette'), ('connecting', 'connexion'), ('flood', 'crue'), ('documented', 'documentée'), ('custom', 'coutume'), ('touchdown', 'touché'), ('profession', 'profession'), ('layout', 'agencement'), ('academics', 'universitaires'), ('settlers', 'colons'), ('merging', 'fusionner'), ('sony', 'sony'), ('competitors', 'compétiteurs'), ('phillips', 'phillips'), ('grass', 'herbe'), ('reservoir', 'réservoir'), ('artificial', 'artificielles'), ('novelist', 'romancier'), ('tip', 'astuce'), ('prague', 'prague'), ('abu', 'abou'), ('faces', 'visages'), ('guitars', 'guitares'), ('aspx', 'aspx'), ('laura', 'laure'), ('fellows', 'boursiers'), ('internationally', 'internationalement'), ('attacking', 'attaquer'), ('johann', 'johann'), ('dreams', 'rêves'), ('hughes', 'hugues'), ('suburb', 'banlieue'), ('understood', 'compris'), ('specialized', 'spécialisés'), ('warned', 'averti'), ('pearl', 'perles'), ('chorus', 'chœur'), ('dependent', 'dépendants'), ('restrictions', 'restriction'), ('killer', 'meurtrier'), ('oakland', 'oakland'), ('trio', 'trio'), ('influences', 'influences'), ('blocking', 'blocage'), ('mtv', 'mtv'), ('cattle', 'bétail'), ('gear', 'engins'), ('gabriel', 'gabriel'), ('traded', 'échangé'), ('skating', 'patinage'), ('fifteen', 'quinzaine'), ('palm', 'palmier'), ('wikis', 'wikis'), ('tale', 'conte'), ('demonstrate', 'démontrer'), ('vary', 'varie'), ('liquid', 'liquides'), ('cycling', 'cyclisme'), ('princeton', 'princeton'), ('respective', 'respectifs'), ('voices', 'voix'), ('friedrich', 'frédéric'), ('jet', 'jet'), ('horn', 'horn'), ('erected', 'érigé'), ('burning', 'brûler'), ('worker', 'ouvrier'), ('atmosphere', 'ambiance'), ('characterized', 'caractérisés'), ('syrian', 'syriens'), ('java', 'java'), ('monitor', 'moniteur'), ('graduating', 'diplômé'), ('columns', 'colonnes'), ('repair', 'réparations'), ('bin', 'poubelle'), ('stick', 'bâton'), ('dollars', 'dollars'), ('organised', 'organisées'), ('parameter', 'paramètre'), ('truly', 'véritablement'), ('resolve', 'détermination'), ('buenos', 'buenos'), ('parade', 'parade'), ('backed', 'adossés'), ('awareness', 'notoriété'), ('depends', 'dépendra'), ('define', 'définis'), ('spencer', 'spencer'), ('republicans', 'républicains'), ('conspiracy', 'conspiration'), ('dies', 'meurent'), ('clarke', 'clarke'), ('rough', 'bruts'), ('engage', 'engagez'), ('pine', 'pin'), ('equation', 'équation'), ('feels', 'ressent'), ('democrat', 'démocrate'), ('cutting', 'coupe'), ('button', 'bouton'), ('brands', 'marques'), ('queens', 'queens'), ('abraham', 'abraham'), ('neck', 'encolure'), ('forever', 'forever'), ('drink', 'boissons'), ('sheriff', 'shérif'), ('miguel', 'miguel'), ('aires', 'aires'), ('montgomery', 'montgomery'), ('vanity', 'vanité'), ('gift', 'cadeaux'), ('riders', 'cavaliers'), ('functional', 'fonctionnel'), ('crossed', 'traversé'), ('diverse', 'diverses'), ('numbered', 'numérotés'), ('quotes', 'soumissions'), ('slowly', 'doucement'), ('attitude', 'attitude'), ('mouse', 'souris'), ('justin', 'justin'), ('protests', 'protestations'), ('gods', 'dieux'), ('amounts', 'montants'), ('variation', 'variation'), ('smart', 'futé'), ('prices', 'prix'), ('prayer', 'prier'), ('terrorism', 'terrorisme'), ('beta', 'béta'), ('durham', 'durham'), ('counts', 'comtes'), ('iraqi', 'irakienne'), ('detective', 'détective'), ('josh', 'josh'), ('linking', 'reliant'), ('compositions', 'compositions'), ('oval', 'ovale'), ('filming', 'filmer'), ('perfectly', 'parfaitement'), ('indianapolis', 'indianapolis'), ('funeral', 'enterrement'), ('recovered', 'récupérés'), ('farmer', 'fermier'), ('protestant', 'protestante'), ('cameron', 'cameron'), ('unclear', 'imprécis'), ('indonesian', 'indonésienne'), ('mixing', 'mixage'), ('mumbai', 'mumbai'), ('nashville', 'nashville'), ('danger', 'danger'), ('rally', 'rallye'), ('narrative', 'récit'), ('camps', 'campements'), ('surprise', 'surprises'), ('manufactured', 'fabriqué'), ('deployed', 'déployée'), ('kate', 'kate'), ('molecular', 'moléculaires'), ('unnecessary', 'inutiles'), ('isle', 'isle'), ('theorem', 'théorème'), ('colonies', 'colonies'), ('cyprus', 'chypre'), ('wake', 'sillage'), ('brings', 'apporte'), ('winds', 'vents'), ('magnetic', 'magnétisme'), ('conversation', 'conversation'), ('sussex', 'sussex'), ('gates', 'portes'), ('ram', 'bélier'), ('plastic', 'plastiques'), ('electronics', 'électronique'), ('restore', 'rétablir'), ('stockholm', 'stockholm'), ('inn', 'inn'), ('buses', 'autocars'), ('connect', 'connectez'), ('wmflabs', 'wmflabs'), ('guests', 'hôtes'), ('radiation', 'rayonnements'), ('receives', 'reçoit'), ('lancashire', 'lancashire'), ('playoff', 'éliminatoires'), ('cork', 'cork'), ('generals', 'généraux'), ('intermediate', 'intermédiaires'), ('verifiable', 'vérifiables'), ('cheers', 'acclamations'), ('filipino', 'philippine'), ('oriented', 'orientée'), ('hamburg', 'hamburg'), ('creates', 'crée'), ('orbit', 'orbites'), ('massacre', 'massacres'), ('dialogue', 'dialoguer'), ('illness', 'maladie'), ('dress', 'robe'), ('codes', 'codes'), ('dawn', 'aurore'), ('isolated', 'isolé'), ('nancy', 'nancy'), ('violations', 'violations'), ('perth', 'perth'), ('tenure', 'titularisation'), ('ladies', 'dames'), ('autumn', 'automne'), ('ratings', 'évaluations'), ('incorrect', 'erroné'), ('scout', 'éclaireur'), ('difficulty', 'difficultés'), ('pupils', 'élèves'), ('wealth', 'richesse'), ('hart', 'hart'), ('allegations', 'allégations'), ('regulation', 'règlementation'), ('watching', 'regarder'), ('lodge', 'lodge'), ('eggs', 'oeufs'), ('disputed', 'contestée'), ('citizenship', 'citoyenneté'), ('specialist', 'spécialiste'), ('tasks', 'tâches'), ('intent', 'intentions'), ('instruction', 'instruction'), ('ceased', 'cessé'), ('pride', 'fierté'), ('banner', 'bannière'), ('friendship', 'amitiés'), ('panama', 'panamá'), ('corruption', 'corruption'), ('sunk', 'coulé'), ('harm', 'harm'), ('ernest', 'ernest'), ('pilots', 'pilotes'), ('pursue', 'poursuivre'), ('tape', 'bande'), ('emigrants', 'émigrés'), ('cancelled', 'annulés'), ('revenge', 'venger'), ('revision', 'révision'), ('dominant', 'dominant'), ('fee', 'redevance'), ('computing', 'informatique'), ('examination', 'examen'), ('chen', 'chen'), ('matrix', 'matrix'), ('das', 'das'), ('biographical', 'biographique'), ('kiss', 'bisou'), ('valign', 'valign'), ('nationalist', 'nationalistes'), ('luck', 'chance'), ('crosses', 'croix'), ('heavyweight', 'lourd'), ('bid', 'enchère'), ('appreciate', 'apprécie'), ('enemies', 'ennemis'), ('mercury', 'mercure'), ('interactive', 'interactifs'), ('math', 'mathématiques'), ('preserve', 'préserver'), ('nobel', 'nobel'), ('grande', 'grande'), ('structural', 'structurels'), ('marry', 'épouser'), ('airports', 'aéroports'), ('veterans', 'vétérans'), ('axis', 'axe'), ('execution', 'exécution'), ('cult', 'cultes'), ('reducing', 'réducteurs'), ('colin', 'colin'), ('chester', 'chester'), ('ticket', 'ticket'), ('belonging', 'appartenant'), ('entity', 'entité'), ('judicial', 'judiciaire'), ('explicitly', 'expressément'), ('bombing', 'attentat'), ('recognised', 'reconnus'), ('applicable', 'applicables'), ('founders', 'fondateurs'), ('fitted', 'équipé'), ('wilhelm', 'wilhelm'), ('suddenly', 'soudain'), ('parking', 'parking'), ('absolute', 'absolu'), ('françois', 'françois'), ('locomotive', 'locomotives'), ('preparation', 'préparation'), ('nintendo', 'nintendo'), ('declaration', 'déclaration'), ('presumably', 'vraisemblablement'), ('burial', 'enterrement'), ('governing', 'gouverner'), ('jamaica', 'jamaïque'), ('knowing', 'connaissant'), ('vladimir', 'vladimir'), ('beating', 'battre'), ('avg', 'avg'), ('methodist', 'méthodiste'), ('utf', 'utf'), ('challenges', 'défis'), ('kenneth', 'kenneth'), ('evolved', 'évolué'), ('celebration', 'célébration'), ('discipline', 'discipliné'), ('bearing', 'roulements'), ('belonged', 'appartenu'), ('fauna', 'faune'), ('manuscript', 'manuscrits'), ('experiments', 'expérimentations'), ('chiefs', 'chefs'), ('compound', 'composé'), ('tampa', 'tampa'), ('arabia', 'saoudite'), ('associations', 'associations'), ('targets', 'cibles'), ('alien', 'extraterrestre'), ('depicted', 'représenté'), ('sergeant', 'adjudant'), ('diffs', 'diffs'), ('subsidiary', 'subsidiaires'), ('thirteen', 'thirteen'), ('thick', 'épaisses'), ('extend', 'prolonger'), ('dismissed', 'rejeté'), ('neo', 'néo'), ('wire', 'fil'), ('phd', 'doctorants'), ('measured', 'mesurées'), ('fat', 'graisse'), ('visits', 'visites'), ('linux', 'linux'), ('teach', 'enseigner'), ('flights', 'vols'), ('verse', 'couplet'), ('bennett', 'bennet'), ('warm', 'chaude'), ('dynamic', 'dynamique'), ('shaw', 'shaw'), ('breaks', 'pauses'), ('monuments', 'monuments'), ('lying', 'menteur'), ('lords', 'seigneurs'), ('michel', 'michel'), ('treat', 'traiter'), ('raid', 'raids'), ('congregation', 'congrégation'), ('temperatures', 'température'), ('testament', 'testament'), ('drinking', 'potable'), ('companion', 'compagne'), ('manila', 'manille'), ('km²', 'km²'), ('punjab', 'pendjab'), ('imagine', 'imagine'), ('consideration', 'considération'), ('veteran', 'vétéran'), ('doctors', 'médecins'), ('eldest', 'aîné'), ('ruler', 'souverain'), ('wise', 'wise'), ('shipping', 'envoi'), ('afc', 'afc'), ('worthy', 'digne'), ('registration', 'immatriculation'), ('directory', 'répertoire'), ('wyoming', 'wyoming'), ('manitoba', 'manitoba'), ('vietnamese', 'vietnamiennes'), ('ronald', 'ronald'), ('cuban', 'cubaines'), ('burns', 'brûlés'), ('justify', 'justifient'), ('divine', 'divins'), ('suppose', 'supposons'), ('fate', 'destin'), ('rovers', 'rovers'), ('cole', 'cole'), ('oral', 'oraux'), ('trans', 'trans'), ('boards', 'planches'), ('bryan', 'bryan'), ('santiago', 'santiago'), ('episcopal', 'épiscopale'), ('terrorist', 'terroristes'), ('okay', 'ok'), ('waves', 'vagues'), ('invented', 'inventé'), ('landed', 'débarqués'), ('sandy', 'sandy'), ('acres', 'acres'), ('paint', 'peindre'), ('actively', 'activement'), ('indication', 'indication'), ('stops', 'arrêts'), ('excellence', 'excellence'), ('integration', 'intégration'), ('bibliography', 'bibliographie'), ('nonsense', 'sottises'), ('marathon', 'marathon'), ('beliefs', 'croyance'), ('redundant', 'superflu'), ('freestyle', 'acrobatique'), ('aerial', 'aérienne'), ('preservation', 'conservation'), ('altitude', 'altitude'), ('freely', 'librement'), ('simultaneously', 'simultané'), ('psychological', 'psychologique'), ('fernando', 'fernando'), ('cultures', 'cultures'), ('taxes', 'fiscalité'), ('marcus', 'marcus'), ('stakes', 'piquets'), ('dominican', 'dominicain'), ('franz', 'franz'), ('coins', 'monnaies'), ('oxygen', 'oxygène'), ('civic', 'civiques'), ('isaac', 'isaac'), ('spell', 'orthographe'), ('inspiration', 'inspiration'), ('pairs', 'paires'), ('vector', 'vecteur'), ('arc', 'arc'), ('professionals', 'professionnels'), ('vii', 'vii'), ('contrary', 'contraire'), ('accusations', 'accusations'), ('approaches', 'approches'), ('slaves', 'esclaves'), ('mad', 'folle'), ('spectrum', 'spectre'), ('client', 'client'), ('dozen', 'douzaine'), ('travels', 'voyages'), ('symbols', 'symboles'), ('plaza', 'plaza'), ('banking', 'bancaire'), ('inherited', 'héritées'), ('legion', 'légion'), ('symptoms', 'symptôme'), ('mosque', 'mosquée'), ('guys', 'gars'), ('lab', 'lab'), ('sailing', 'voile'), ('orientation', 'orientation'), ('virtually', 'pratiquement'), ('generic', 'générique'), ('reasoning', 'raisonnements'), ('stroke', 'avc'), ('unions', 'syndicats'), ('efficient', 'efficaces'), ('opens', 'ouvre'), ('impression', 'impression'), ('discover', 'découvrir'), ('relocated', 'réinstallés'), ('roosevelt', 'roosevelt'), ('dancer', 'dancer'), ('phenomenon', 'phénomène'), ('preliminary', 'préliminaire'), ('recognize', 'reconnais'), ('anchor', 'ancrer'), ('arguing', 'argumenter'), ('abilities', 'aptitudes'), ('procedures', 'procédures'), ('emotional', 'émotionnel'), ('timber', 'bois'), ('fisher', 'pêcheur'), ('prod', 'prod'), ('cartoon', 'cartoon'), ('disorder', 'trouble'), ('fled', 'fui'), ('demands', 'exigences'), ('lithuania', 'lituanie'), ('continent', 'continent'), ('fellowship', 'camaraderie'), ('lock', 'verrou'), ('relegated', 'relégués'), ('warrant', 'mandat'), ('pictured', 'imaginais'), ('recurring', 'récurrent'), ('overview', 'aperçu'), ('wealthy', 'riche'), ('acquisition', 'acquisition'), ('eve', 'eve'), ('filter', 'filtrant'), ('addresses', 'allocutions'), ('independently', 'indépendamment'), ('slovenia', 'slovénie'), ('observation', 'observation'), ('challenged', 'contestée'), ('threats', 'menace'), ('fallen', 'tombé'), ('protocol', 'protocol'), ('judgment', 'jugement'), ('grammy', 'grammy'), ('colours', 'teintes'), ('distinctive', 'distinctif'), ('opposing', 'opposés'), ('landmark', 'repère'), ('package', 'colis'), ('controls', 'commandes'), ('completing', 'achèvement'), ('sabha', 'sabha'), ('prisoner', 'détenu'), ('signals', 'signaux'), ('owen', 'fabien'), ('inaugural', 'inaugurale'), ('intervention', 'intervention'), ('arriving', 'arrivant'), ('cylinder', 'vérin'), ('tenth', 'tenth'), ('liu', 'liu'), ('tested', 'testées'), ('renowned', 'renommé'), ('shops', 'boutiques'), ('dome', 'dome'), ('philosopher', 'philosophe'), ('epic', 'épopée'), ('stem', 'potence'), ('specified', 'spécifié'), ('davies', 'davies'), ('collapse', 'effondrement'), ('allan', 'allan'), ('albanian', 'albanais'), ('canyon', 'canyon'), ('samples', 'échantillons'), ('perceived', 'perçues'), ('celebrity', 'célébrité'), ('priests', 'prêtres'), ('louise', 'louise'), ('workshop', 'ateliers'), ('claude', 'claude'), ('fortune', 'fortune'), ('bars', 'barres'), ('cornwall', 'cornwall'), ('palmer', 'palmer'), ('presidency', 'présidence'), ('tiny', 'tiny'), ('appeals', 'appels'), ('istanbul', 'istanbul'), ('rookie', 'rookie'), ('expanding', 'expansion'), ('calgary', 'calgary'), ('shock', 'choquer'), ('stevens', 'stevens'), ('employee', 'employé'), ('yang', 'yang'), ('housed', 'logés'), ('tomb', 'caveau'), ('earning', 'gagner'), ('innovation', 'innovation'), ('streams', 'ruisseaux'), ('unity', 'unity'), ('lucas', 'lucas'), ('grows', 'croît'), ('armenia', 'arménie'), ('interchange', 'échangeur'), ('proteins', 'protéines'), ('proposals', 'propositions'), ('swimmers', 'nageurs'), ('mainland', 'continentale'), ('seminary', 'séminaire'), ('hamlet', 'hamlet'), ('timeline', 'journal'), ('realize', 'réalise'), ('newport', 'newport'), ('negotiations', 'négociations'), ('exhibitions', 'expositions'), ('malta', 'malte'), ('hate', 'haïr'), ('westminster', 'westminster'), ('installation', 'installation'), ('enters', 'pénètre'), ('goalkeeper', 'gardien'), ('julian', 'julien'), ('morocco', 'maroc'), ('efficiency', 'rendement'), ('chapters', 'chapitres'), ('helicopter', 'hélicoptères'), ('fortress', 'forteresse'), ('ani', 'ani'), ('burned', 'brûlé'), ('displays', 'affichages'), ('compiled', 'compilées'), ('ips', 'ips'), ('contributors', 'contributeurs')])"
      ]
     },
     "execution_count": 12,
     "metadata": {},
     "output_type": "execute_result"
    }
   ],
   "source": [
    "en_fr_train.items()"
   ]
  },
  {
   "cell_type": "markdown",
   "metadata": {},
   "source": [
    "#### Looking at the English French dictionary\n",
    "\n",
    "* `en_fr_train` is a dictionary where the key is the English word and the value\n",
    "is the French translation of that English word.\n",
    "```\n",
    "{'the': 'la',\n",
    " 'and': 'et',\n",
    " 'was': 'était',\n",
    " 'for': 'pour',\n",
    "```\n",
    "\n",
    "* `en_fr_test` is similar to `en_fr_train`, but is a test set.  We won't look at it\n",
    "until we get to testing."
   ]
  },
  {
   "cell_type": "markdown",
   "metadata": {},
   "source": [
    "<a name=\"1-1\"></a>\n",
    "\n",
    "## 1.1 Generate embedding and transform matrices\n",
    "\n",
    "<a name=\"ex-01\"></a>\n",
    "#### Exercise 01: Translating English dictionary to French by using embeddings\n",
    "\n",
    "You will now implement a function `get_matrices`, which takes the loaded data\n",
    "and returns matrices `X` and `Y`.\n",
    "\n",
    "Inputs:\n",
    "- `en_fr` : English to French dictionary\n",
    "- `en_embeddings` : English to embeddings dictionary\n",
    "- `fr_embeddings` : French to embeddings dictionary\n",
    "\n",
    "Returns:\n",
    "- Matrix `X` and matrix `Y`, where each row in X is the word embedding for an\n",
    "english word, and the same row in Y is the word embedding for the French\n",
    "version of that English word.\n",
    "\n",
    "<div style=\"width:image width px; font-size:100%; text-align:center;\">\n",
    "<img src='X_to_Y.jpg' alt=\"alternate text\" width=\"width\" height=\"height\" style=\"width:800px;height:200px;\" /> Figure 2 </div>\n",
    "\n",
    "Use the `en_fr` dictionary to ensure that the ith row in the `X` matrix\n",
    "corresponds to the ith row in the `Y` matrix."
   ]
  },
  {
   "cell_type": "markdown",
   "metadata": {},
   "source": [
    "**Instructions**: Complete the function `get_matrices()`:\n",
    "* Iterate over English words in `en_fr` dictionary.\n",
    "* Check if the word have both English and French embedding."
   ]
  },
  {
   "cell_type": "markdown",
   "metadata": {},
   "source": [
    "<details>\n",
    "<summary>\n",
    "    <font size=\"3\" color=\"darkgreen\"><b>Hints</b></font>\n",
    "</summary>\n",
    "    <p>\n",
    "        <ul>\n",
    "            <li><a href=\"https://realpython.com/python-sets/#set-size-and-membership\" >Sets</a> are useful data structures that can be used to check if an item is a member of a group.</li>\n",
    "            <li>You can get words which are embedded into the language by using <a href=\"https://www.w3schools.com/python/ref_dictionary_keys.asp\"> keys</a> method.</li>\n",
    "            <li>Keep vectors in `X` and `Y` sorted in list. You can use <a href=\"https://docs.scipy.org/doc/numpy-1.13.0/reference/generated/numpy.ma.vstack.html\"> np.vstack()</a> to merge them into the numpy matrix. </li>\n",
    "            <li><a href=\"https://docs.scipy.org/doc/numpy/reference/generated/numpy.vstack.html\">numpy.vstack</a> stacks the items in a list as rows in a matrix.</li>\n",
    "        </ul>\n",
    "    </p>"
   ]
  },
  {
   "cell_type": "code",
   "execution_count": 13,
   "metadata": {},
   "outputs": [],
   "source": [
    "# UNQ_C1 (UNIQUE CELL IDENTIFIER, DO NOT EDIT)\n",
    "def get_matrices(en_fr, french_vecs, english_vecs):\n",
    "    \"\"\"\n",
    "    Input:\n",
    "        en_fr: English to French dictionary\n",
    "        french_vecs: French words to their corresponding word embeddings.\n",
    "        english_vecs: English words to their corresponding word embeddings.\n",
    "    Output: \n",
    "        X: a matrix where the columns are the English embeddings.\n",
    "        Y: a matrix where the columns correspong to the French embeddings.\n",
    "        R: the projection matrix that minimizes the F norm ||X R -Y||^2.\n",
    "    \"\"\"\n",
    "\n",
    "    ### START CODE HERE (REPLACE INSTANCES OF 'None' with your code) ###\n",
    "\n",
    "    # X_l and Y_l are lists of the english and french word embeddings\n",
    "    X_l = list()\n",
    "    Y_l = list()\n",
    "\n",
    "    # get the english words (the keys in the dictionary) and store in a set()\n",
    "    english_set = set(english_vecs.keys())\n",
    "\n",
    "    # get the french words (keys in the dictionary) and store in a set()\n",
    "    french_set = set(french_vecs.keys())\n",
    "\n",
    "    # store the french words that are part of the english-french dictionary (these are the values of the dictionary)\n",
    "    french_words = set(en_fr.values())\n",
    "\n",
    "    # loop through all english, french word pairs in the english french dictionary\n",
    "    for en_word, fr_word in en_fr.items():\n",
    "\n",
    "        # check that the french word has an embedding and that the english word has an embedding\n",
    "        if fr_word in french_set and en_word in english_set:\n",
    "\n",
    "            # get the english embedding\n",
    "            en_vec = english_vecs[en_word]\n",
    "\n",
    "            # get the french embedding\n",
    "            fr_vec = french_vecs[fr_word]\n",
    "\n",
    "            # add the english embedding to the list\n",
    "            X_l.append(en_vec)\n",
    "\n",
    "            # add the french embedding to the list\n",
    "            Y_l.append(fr_vec)\n",
    "\n",
    "    # stack the vectors of X_l into a matrix X\n",
    "    X = np.vstack(X_l)\n",
    "\n",
    "    # stack the vectors of Y_l into a matrix Y\n",
    "    Y = np.vstack(Y_l)\n",
    "    ### END CODE HERE ###\n",
    "\n",
    "    return X, Y\n"
   ]
  },
  {
   "cell_type": "markdown",
   "metadata": {},
   "source": [
    "Now we will use function `get_matrices()` to obtain sets `X_train` and `Y_train`\n",
    "of English and French word embeddings into the corresponding vector space models."
   ]
  },
  {
   "cell_type": "code",
   "execution_count": 14,
   "metadata": {},
   "outputs": [],
   "source": [
    "# UNQ_C2 (UNIQUE CELL IDENTIFIER, DO NOT EDIT)\n",
    "# You do not have to input any code in this cell, but it is relevant to grading, so please do not change anything\n",
    "\n",
    "# getting the training set:\n",
    "X_train, Y_train = get_matrices(\n",
    "    en_fr_train, fr_embeddings_subset, en_embeddings_subset)"
   ]
  },
  {
   "cell_type": "code",
   "execution_count": 15,
   "metadata": {},
   "outputs": [
    {
     "name": "stdout",
     "output_type": "stream",
     "text": [
      "(4932, 300)\n",
      "(4932, 300)\n"
     ]
    }
   ],
   "source": [
    "print(X_train.shape)\n",
    "print(Y_train.shape)"
   ]
  },
  {
   "cell_type": "markdown",
   "metadata": {},
   "source": [
    "<a name=\"2\"></a>\n",
    "\n",
    "# 2. Translations\n",
    "\n",
    "<div style=\"width:image width px; font-size:100%; text-align:center;\"><img src='e_to_f.jpg' alt=\"alternate text\" width=\"width\" height=\"height\" style=\"width:700px;height:200px;\" /> Figure 1 </div>\n",
    "\n",
    "Write a program that translates English words to French words using word embeddings and vector space models. \n",
    "\n",
    "<a name=\"2-1\"></a>\n",
    "## 2.1 Translation as linear transformation of embeddings\n",
    "\n",
    "Given dictionaries of English and French word embeddings you will create a transformation matrix `R`\n",
    "* Given an English word embedding, $\\mathbf{e}$, you can multiply $\\mathbf{eR}$ to get a new word embedding $\\mathbf{f}$.\n",
    "    * Both $\\mathbf{e}$ and $\\mathbf{f}$ are [row vectors](https://en.wikipedia.org/wiki/Row_and_column_vectors).\n",
    "* You can then compute the nearest neighbors to `f` in the french embeddings and recommend the word that is most similar to the transformed word embedding."
   ]
  },
  {
   "cell_type": "markdown",
   "metadata": {},
   "source": [
    "### Describing translation as the minimization problem\n",
    "\n",
    "Find a matrix `R` that minimizes the following equation. \n",
    "\n",
    "$$\\arg \\min _{\\mathbf{R}}\\| \\mathbf{X R} - \\mathbf{Y}\\|_{F}\\tag{1} $$\n",
    "\n",
    "### Frobenius norm\n",
    "\n",
    "The Frobenius norm of a matrix $A$ (assuming it is of dimension $m,n$) is defined as the square root of the sum of the absolute squares of its elements:\n",
    "\n",
    "$$\\|\\mathbf{A}\\|_{F} \\equiv \\sqrt{\\sum_{i=1}^{m} \\sum_{j=1}^{n}\\left|a_{i j}\\right|^{2}}\\tag{2}$$"
   ]
  },
  {
   "cell_type": "markdown",
   "metadata": {},
   "source": [
    "### Actual loss function\n",
    "In the real world applications, the Frobenius norm loss:\n",
    "\n",
    "$$\\| \\mathbf{XR} - \\mathbf{Y}\\|_{F}$$\n",
    "\n",
    "is often replaced by it's squared value divided by $m$:\n",
    "\n",
    "$$ \\frac{1}{m} \\|  \\mathbf{X R} - \\mathbf{Y} \\|_{F}^{2}$$\n",
    "\n",
    "where $m$ is the number of examples (rows in $\\mathbf{X}$).\n",
    "\n",
    "* The same R is found when using this loss function versus the original Frobenius norm.\n",
    "* The reason for taking the square is that it's easier to compute the gradient of the squared Frobenius.\n",
    "* The reason for dividing by $m$ is that we're more interested in the average loss per embedding than the  loss for the entire training set.\n",
    "    * The loss for all training set increases with more words (training examples),\n",
    "    so taking the average helps us to track the average loss regardless of the size of the training set."
   ]
  },
  {
   "cell_type": "markdown",
   "metadata": {},
   "source": [
    "##### [Optional] Detailed explanation why we use norm squared instead of the norm:\n",
    "<details>\n",
    "<summary>\n",
    "    Click for optional details\n",
    "</summary>\n",
    "    <p>\n",
    "        <ul>\n",
    "            <li>The norm is always nonnegative (we're summing up absolute values), and so is the square. \n",
    "            <li> When we take the square of all non-negative (positive or zero) numbers, the order of the data is preserved.  \n",
    "            <li> For example, if 3 > 2, 3^2 > 2^2\n",
    "            <li> Using the norm or squared norm in gradient descent results in the same <i>location</i> of the minimum.\n",
    "            <li> Squaring cancels the square root in the Frobenius norm formula. Because of the <a href=\"https://en.wikipedia.org/wiki/Chain_rule\"> chain rule</a>, we would have to do more calculations if we had a square root in our expression for summation.\n",
    "            <li> Dividing the function value by the positive number doesn't change the optimum of the function, for the same reason as described above.\n",
    "            <li> We're interested in transforming English embedding into the French. Thus, it is more important to measure average loss per embedding than the loss for the entire dictionary (which increases as the number of words in the dictionary increases).\n",
    "        </ul>\n",
    "    </p>\n",
    "    "
   ]
  },
  {
   "cell_type": "markdown",
   "metadata": {},
   "source": [
    "<a name=\"ex-02\"></a>\n",
    "\n",
    "### Exercise 02: Implementing translation mechanism described in this section.\n",
    "\n",
    "#### Step 1: Computing the loss\n",
    "* The loss function will be squared Frobenoius norm of the difference between\n",
    "matrix and its approximation, divided by the number of training examples $m$.\n",
    "* Its formula is:\n",
    "$$ L(X, Y, R)=\\frac{1}{m}\\sum_{i=1}^{m} \\sum_{j=1}^{n}\\left( a_{i j} \\right)^{2}$$\n",
    "\n",
    "where $a_{i j}$ is value in $i$th row and $j$th column of the matrix $\\mathbf{XR}-\\mathbf{Y}$."
   ]
  },
  {
   "cell_type": "markdown",
   "metadata": {},
   "source": [
    "#### Instructions: complete the `compute_loss()` function\n",
    "\n",
    "* Compute the approximation of `Y` by matrix multiplying `X` and `R`\n",
    "* Compute difference `XR - Y`\n",
    "* Compute the squared Frobenius norm of the difference and divide it by $m$."
   ]
  },
  {
   "cell_type": "markdown",
   "metadata": {},
   "source": [
    "<details>    \n",
    "<summary>\n",
    "    <font size=\"3\" color=\"darkgreen\"><b>Hints</b></font>\n",
    "</summary>\n",
    "<p>\n",
    "<ul>\n",
    "   <li> Useful functions:\n",
    "       <a href=\"https://docs.scipy.org/doc/numpy/reference/generated/numpy.dot.html\">Numpy dot </a>,\n",
    "       <a href=\"https://docs.scipy.org/doc/numpy/reference/generated/numpy.sum.html\">Numpy sum</a>,\n",
    "       <a href=\"https://docs.scipy.org/doc/numpy/reference/generated/numpy.square.html\">Numpy square</a>,\n",
    "       <a href=\"https://docs.scipy.org/doc/numpy/reference/generated/numpy.linalg.norm.html\">Numpy norm</a>\n",
    "    </li>\n",
    "   <li> Be careful about which operation is elementwise and which operation is a matrix multiplication.</li>\n",
    "   <li> Try to use matrix operations instead of the numpy norm function.  If you choose to use norm function, take care of extra arguments and that it's returning loss squared, and not the loss itself.</li>\n",
    "\n",
    "</ul>\n",
    "</p>"
   ]
  },
  {
   "cell_type": "code",
   "execution_count": 16,
   "metadata": {},
   "outputs": [],
   "source": [
    "# UNQ_C3 (UNIQUE CELL IDENTIFIER, DO NOT EDIT)\n",
    "def compute_loss(X, Y, R):\n",
    "    '''\n",
    "    Inputs: \n",
    "        X: a matrix of dimension (m,n) where the columns are the English embeddings.\n",
    "        Y: a matrix of dimension (m,n) where the columns correspong to the French embeddings.\n",
    "        R: a matrix of dimension (n,n) - transformation matrix from English to French vector space embeddings.\n",
    "    Outputs:\n",
    "        L: a matrix of dimension (m,n) - the value of the loss function for given X, Y and R.\n",
    "    '''\n",
    "    ### START CODE HERE (REPLACE INSTANCES OF 'None' with your code) ###\n",
    "    # m is the number of rows in X\n",
    "    m = len(X)\n",
    "    \n",
    "    # diff is XR - Y\n",
    "    diff = np.dot(X,R) - Y\n",
    "\n",
    "    # diff_squared is the element-wise square of the difference\n",
    "    diff_squared = diff**2\n",
    "\n",
    "    # sum_diff_squared is the sum of the squared elements\n",
    "    sum_diff_squared = np.sum(diff_squared)\n",
    "\n",
    "    # loss i the sum_diff_squard divided by the number of examples (m)\n",
    "    loss = sum_diff_squared/m\n",
    "    ### END CODE HERE ###\n",
    "    return loss\n"
   ]
  },
  {
   "cell_type": "markdown",
   "metadata": {},
   "source": [
    "<a name=\"ex-03\"></a>\n",
    "\n",
    "### Exercise 03\n",
    "\n",
    "### Step 2: Computing the gradient of loss in respect to transform matrix R\n",
    "\n",
    "* Calculate the gradient of the loss with respect to transform matrix `R`.\n",
    "* The gradient is a matrix that encodes how much a small change in `R`\n",
    "affect the change in the loss function.\n",
    "* The gradient gives us the direction in which we should decrease `R`\n",
    "to minimize the loss.\n",
    "* $m$ is the number of training examples (number of rows in $X$).\n",
    "* The formula for the gradient of the loss function $𝐿(𝑋,𝑌,𝑅)$ is:\n",
    "\n",
    "$$\\frac{d}{dR}𝐿(𝑋,𝑌,𝑅)=\\frac{d}{dR}\\Big(\\frac{1}{m}\\| X R -Y\\|_{F}^{2}\\Big) = \\frac{2}{m}X^{T} (X R - Y)$$\n",
    "\n",
    "**Instructions**: Complete the `compute_gradient` function below."
   ]
  },
  {
   "cell_type": "markdown",
   "metadata": {},
   "source": [
    "<details>\n",
    "<summary>\n",
    "    <font size=\"3\" color=\"darkgreen\"><b>Hints</b></font>\n",
    "</summary>\n",
    "<p>\n",
    "    <ul>\n",
    "    <li><a href=\"https://docs.scipy.org/doc/numpy/reference/generated/numpy.matrix.T.html\" > Transposing in numpy </a></li>\n",
    "    <li><a href=\"https://docs.scipy.org/doc/numpy/reference/generated/numpy.ndarray.shape.html\" > Finding out the dimensions</a> of matrices in numpy </li>\n",
    "    <li>Remember to use numpy.dot for matrix multiplication </li>\n",
    "    </ul>\n",
    "</p>\n",
    " "
   ]
  },
  {
   "cell_type": "code",
   "execution_count": 17,
   "metadata": {},
   "outputs": [],
   "source": [
    "# UNQ_C4 (UNIQUE CELL IDENTIFIER, DO NOT EDIT)\n",
    "def compute_gradient(X, Y, R):\n",
    "    '''\n",
    "    Inputs: \n",
    "        X: a matrix of dimension (m,n) where the columns are the English embeddings.\n",
    "        Y: a matrix of dimension (m,n) where the columns correspong to the French embeddings.\n",
    "        R: a matrix of dimension (n,n) - transformation matrix from English to French vector space embeddings.\n",
    "    Outputs:\n",
    "        g: a scalar value - gradient of the loss function L for given X, Y and R.\n",
    "    '''\n",
    "    ### START CODE HERE (REPLACE INSTANCES OF 'None' with your code) ###\n",
    "    # m is the number of rows in X\n",
    "    m = len(X)\n",
    "\n",
    "    # gradient is X^T(XR - Y) * 2/m\n",
    "    gradient = np.dot(X.T,(np.dot(X,R)-Y))*2/m\n",
    "    ### END CODE HERE ###\n",
    "    return gradient\n"
   ]
  },
  {
   "cell_type": "markdown",
   "metadata": {},
   "source": [
    "### Step 3: Finding the optimal R with gradient descent algorithm\n",
    "\n",
    "#### Gradient descent\n",
    "\n",
    "[Gradient descent](https://ml-cheatsheet.readthedocs.io/en/latest/gradient_descent.html) is an iterative algorithm which is used in searching for the optimum of the function. \n",
    "* Earlier, we've mentioned that the gradient of the loss with respect to the matrix encodes how much a tiny change in some coordinate of that matrix affect the change of loss function.\n",
    "* Gradient descent uses that information to iteratively change matrix `R` until we reach a point where the loss is minimized. "
   ]
  },
  {
   "cell_type": "markdown",
   "metadata": {},
   "source": [
    "#### Training with a fixed number of iterations\n",
    "\n",
    "Most of the time we iterate for a fixed number of training steps rather than iterating until the loss falls below a threshold.\n",
    "\n",
    "##### OPTIONAL: explanation for fixed number of iterations\n",
    "<details>\n",
    "<summary>\n",
    "    <font size=\"3\" color=\"darkgreen\"><b>click here for detailed discussion</b></font>\n",
    "</summary>\n",
    "<p>\n",
    "<ul>\n",
    "    <li> You cannot rely on training loss getting low -- what you really want is the validation loss to go down, or validation accuracy to go up. And indeed - in some cases people train until validation accuracy reaches a threshold, or -- commonly known as \"early stopping\" -- until the validation accuracy starts to go down, which is a sign of over-fitting.\n",
    "    </li>\n",
    "    <li>\n",
    "    Why not always do \"early stopping\"? Well, mostly because well-regularized models on larger data-sets never stop improving. Especially in NLP, you can often continue training for months and the model will continue getting slightly and slightly better. This is also the reason why it's hard to just stop at a threshold -- unless there's an external customer setting the threshold, why stop, where do you put the threshold?\n",
    "    </li>\n",
    "    <li>Stopping after a certain number of steps has the advantage that you know how long your training will take - so you can keep some sanity and not train for months. You can then try to get the best performance within this time budget. Another advantage is that you can fix your learning rate schedule -- e.g., lower the learning rate at 10% before finish, and then again more at 1% before finishing. Such learning rate schedules help a lot, but are harder to do if you don't know how long you're training.\n",
    "    </li>\n",
    "</ul>\n",
    "</p>"
   ]
  },
  {
   "cell_type": "markdown",
   "metadata": {},
   "source": [
    "Pseudocode:\n",
    "1. Calculate gradient $g$ of the loss with respect to the matrix $R$.\n",
    "2. Update $R$ with the formula:\n",
    "$$R_{\\text{new}}= R_{\\text{old}}-\\alpha g$$\n",
    "\n",
    "Where $\\alpha$ is the learning rate, which is a scalar."
   ]
  },
  {
   "cell_type": "markdown",
   "metadata": {},
   "source": [
    "#### Learning rate\n",
    "\n",
    "* The learning rate or \"step size\" $\\alpha$ is a coefficient which decides how much we want to change $R$ in each step.\n",
    "* If we change $R$ too much, we could skip the optimum by taking too large of a step.\n",
    "* If we make only small changes to $R$, we will need many steps to reach the optimum.\n",
    "* Learning rate $\\alpha$ is used to control those changes.\n",
    "* Values of $\\alpha$ are chosen depending on the problem, and we'll use `learning_rate`$=0.0003$ as the default value for our algorithm."
   ]
  },
  {
   "cell_type": "markdown",
   "metadata": {},
   "source": [
    "<a name=\"ex-04\"></a>\n",
    "\n",
    "### Exercise 04\n",
    "\n",
    "#### Instructions: Implement `align_embeddings()`"
   ]
  },
  {
   "cell_type": "markdown",
   "metadata": {},
   "source": [
    "<details>\n",
    "<summary>\n",
    "    <font size=\"3\" color=\"darkgreen\"><b>Hints</b></font>\n",
    "</summary>\n",
    "<p>\n",
    "<ul>\n",
    "    <li>Use the 'compute_gradient()' function to get the gradient in each step</li>\n",
    "\n",
    "</ul>\n",
    "</p>"
   ]
  },
  {
   "cell_type": "code",
   "execution_count": 18,
   "metadata": {},
   "outputs": [],
   "source": [
    "# UNQ_C5 (UNIQUE CELL IDENTIFIER, DO NOT EDIT)\n",
    "def align_embeddings(X, Y, train_steps=100, learning_rate=0.0003):\n",
    "    '''\n",
    "    Inputs:\n",
    "        X: a matrix of dimension (m,n) where the columns are the English embeddings.\n",
    "        Y: a matrix of dimension (m,n) where the columns correspong to the French embeddings.\n",
    "        train_steps: positive int - describes how many steps will gradient descent algorithm do.\n",
    "        learning_rate: positive float - describes how big steps will  gradient descent algorithm do.\n",
    "    Outputs:\n",
    "        R: a matrix of dimension (n,n) - the projection matrix that minimizes the F norm ||X R -Y||^2\n",
    "    '''\n",
    "    np.random.seed(129)\n",
    "\n",
    "    # the number of columns in X is the number of dimensions for a word vector (e.g. 300)\n",
    "    # R is a square matrix with length equal to the number of dimensions in th  word embedding\n",
    "    R = np.random.rand(X.shape[1], X.shape[1])\n",
    "\n",
    "    for i in range(train_steps):\n",
    "        if i % 25 == 0:\n",
    "            print(f\"loss at iteration {i} is: {compute_loss(X, Y, R):.4f}\")\n",
    "        ### START CODE HERE (REPLACE INSTANCES OF 'None' with your code) ###\n",
    "        # use the function that you defined to compute the gradient\n",
    "        gradient = compute_gradient(X, Y, R)\n",
    "\n",
    "        # update R by subtracting the learning rate times gradient\n",
    "        R -= learning_rate*gradient\n",
    "        ### END CODE HERE ###\n",
    "    return R\n"
   ]
  },
  {
   "cell_type": "code",
   "execution_count": 19,
   "metadata": {},
   "outputs": [
    {
     "name": "stdout",
     "output_type": "stream",
     "text": [
      "loss at iteration 0 is: 3.7242\n",
      "loss at iteration 25 is: 3.6283\n",
      "loss at iteration 50 is: 3.5350\n",
      "loss at iteration 75 is: 3.4442\n"
     ]
    }
   ],
   "source": [
    "# UNQ_C6 (UNIQUE CELL IDENTIFIER, DO NOT EDIT)\n",
    "# You do not have to input any code in this cell, but it is relevant to grading, so please do not change anything\n",
    "\n",
    "# Testing your implementation.\n",
    "np.random.seed(129)\n",
    "m = 10\n",
    "n = 5\n",
    "X = np.random.rand(m, n)\n",
    "Y = np.random.rand(m, n) * .1\n",
    "R = align_embeddings(X, Y)"
   ]
  },
  {
   "cell_type": "markdown",
   "metadata": {},
   "source": [
    "**Expected Output:**\n",
    "```\n",
    "loss at iteration 0 is: 3.7242\n",
    "loss at iteration 25 is: 3.6283\n",
    "loss at iteration 50 is: 3.5350\n",
    "loss at iteration 75 is: 3.4442\n",
    "```"
   ]
  },
  {
   "cell_type": "markdown",
   "metadata": {},
   "source": [
    "## Calculate transformation matrix R\n",
    "\n",
    "Using those the training set, find the transformation matrix $\\mathbf{R}$ by calling the function `align_embeddings()`.\n",
    "\n",
    "**NOTE:** The code cell below will take a few minutes to fully execute (~3 mins)"
   ]
  },
  {
   "cell_type": "code",
   "execution_count": 20,
   "metadata": {},
   "outputs": [
    {
     "name": "stdout",
     "output_type": "stream",
     "text": [
      "loss at iteration 0 is: 963.0146\n",
      "loss at iteration 25 is: 97.8292\n",
      "loss at iteration 50 is: 26.8329\n",
      "loss at iteration 75 is: 9.7893\n",
      "loss at iteration 100 is: 4.3776\n",
      "loss at iteration 125 is: 2.3281\n",
      "loss at iteration 150 is: 1.4480\n",
      "loss at iteration 175 is: 1.0338\n",
      "loss at iteration 200 is: 0.8251\n",
      "loss at iteration 225 is: 0.7145\n",
      "loss at iteration 250 is: 0.6534\n",
      "loss at iteration 275 is: 0.6185\n",
      "loss at iteration 300 is: 0.5981\n",
      "loss at iteration 325 is: 0.5858\n",
      "loss at iteration 350 is: 0.5782\n",
      "loss at iteration 375 is: 0.5735\n"
     ]
    }
   ],
   "source": [
    "# UNQ_C7 (UNIQUE CELL IDENTIFIER, DO NOT EDIT)\n",
    "# You do not have to input any code in this cell, but it is relevant to grading, so please do not change anything\n",
    "R_train = align_embeddings(X_train, Y_train, train_steps=400, learning_rate=0.8)"
   ]
  },
  {
   "cell_type": "markdown",
   "metadata": {},
   "source": [
    "##### Expected Output\n",
    "\n",
    "```\n",
    "loss at iteration 0 is: 963.0146\n",
    "loss at iteration 25 is: 97.8292\n",
    "loss at iteration 50 is: 26.8329\n",
    "loss at iteration 75 is: 9.7893\n",
    "loss at iteration 100 is: 4.3776\n",
    "loss at iteration 125 is: 2.3281\n",
    "loss at iteration 150 is: 1.4480\n",
    "loss at iteration 175 is: 1.0338\n",
    "loss at iteration 200 is: 0.8251\n",
    "loss at iteration 225 is: 0.7145\n",
    "loss at iteration 250 is: 0.6534\n",
    "loss at iteration 275 is: 0.6185\n",
    "loss at iteration 300 is: 0.5981\n",
    "loss at iteration 325 is: 0.5858\n",
    "loss at iteration 350 is: 0.5782\n",
    "loss at iteration 375 is: 0.5735\n",
    "```"
   ]
  },
  {
   "cell_type": "markdown",
   "metadata": {},
   "source": [
    "<a name=\"2-2\"></a>\n",
    "\n",
    "## 2.2 Testing the translation\n",
    "\n",
    "### k-Nearest neighbors algorithm\n",
    "\n",
    "[k-Nearest neighbors algorithm](https://en.wikipedia.org/wiki/K-nearest_neighbors_algorithm) \n",
    "* k-NN is a method which takes a vector as input and finds the other vectors in the dataset that are closest to it. \n",
    "* The 'k' is the number of \"nearest neighbors\" to find (e.g. k=2 finds the closest two neighbors).\n",
    "\n",
    "### Searching for the translation embedding\n",
    "Since we're approximating the translation function from English to French embeddings by a linear transformation matrix $\\mathbf{R}$, most of the time we won't get the exact embedding of a French word when we transform embedding $\\mathbf{e}$ of some particular English word into the French embedding space. \n",
    "* This is where $k$-NN becomes really useful! By using $1$-NN with $\\mathbf{eR}$ as input, we can search for an embedding $\\mathbf{f}$ (as a row) in the matrix $\\mathbf{Y}$ which is the closest to the transformed vector $\\mathbf{eR}$"
   ]
  },
  {
   "cell_type": "markdown",
   "metadata": {},
   "source": [
    "### Cosine similarity\n",
    "Cosine similarity between vectors $u$ and $v$ calculated as the cosine of the angle between them.\n",
    "The formula is \n",
    "\n",
    "$$\\cos(u,v)=\\frac{u\\cdot v}{\\left\\|u\\right\\|\\left\\|v\\right\\|}$$\n",
    "\n",
    "* $\\cos(u,v)$ = $1$ when $u$ and $v$ lie on the same line and have the same direction.\n",
    "* $\\cos(u,v)$ is $-1$ when they have exactly opposite directions.\n",
    "* $\\cos(u,v)$ is $0$ when the vectors are orthogonal (perpendicular) to each other."
   ]
  },
  {
   "cell_type": "markdown",
   "metadata": {},
   "source": [
    "#### Note: Distance and similarity are pretty much opposite things.\n",
    "* We can obtain distance metric from cosine similarity, but the cosine similarity can't be used directly as the distance metric. \n",
    "* When the cosine similarity increases (towards $1$), the \"distance\" between the two vectors decreases (towards $0$). \n",
    "* We can define the cosine distance between $u$ and $v$ as\n",
    "$$d_{\\text{cos}}(u,v)=1-\\cos(u,v)$$"
   ]
  },
  {
   "cell_type": "markdown",
   "metadata": {},
   "source": [
    "<a name=\"ex-05\"></a>\n",
    "\n",
    "**Exercise 05**: Complete the function `nearest_neighbor()`\n",
    "\n",
    "Inputs:\n",
    "* Vector `v`,\n",
    "* A set of possible nearest neighbors `candidates`\n",
    "* `k` nearest neighbors to find.\n",
    "* The distance metric should be based on cosine similarity.\n",
    "* `cosine_similarity` function is already implemented and imported for you. It's arguments are two vectors and it returns the cosine of the angle between them.\n",
    "* Iterate over rows in `candidates`, and save the result of similarities between current row and vector `v` in a python list. Take care that similarities are in the same order as row vectors of `candidates`.\n",
    "* Now you can use [numpy argsort]( https://docs.scipy.org/doc/numpy/reference/generated/numpy.argsort.html#numpy.argsort) to sort the indices for the rows of `candidates`."
   ]
  },
  {
   "cell_type": "markdown",
   "metadata": {},
   "source": [
    "<details>\n",
    "<summary>\n",
    "    <font size=\"3\" color=\"darkgreen\"><b>Hints</b></font>\n",
    "</summary>\n",
    "<p>\n",
    "<ul>\n",
    "    <li> numpy.argsort sorts values from most negative to most positive (smallest to largest) </li>\n",
    "    <li> The candidates that are nearest to 'v' should have the highest cosine similarity </li>\n",
    "    <li> To get the last element of a list 'tmp', the notation is tmp[-1:] </li>\n",
    "</ul>\n",
    "</p>"
   ]
  },
  {
   "cell_type": "code",
   "execution_count": 21,
   "metadata": {},
   "outputs": [],
   "source": [
    "# UNQ_C8 (UNIQUE CELL IDENTIFIER, DO NOT EDIT)\n",
    "def nearest_neighbor(v, candidates, k=1):\n",
    "    \"\"\"\n",
    "    Input:\n",
    "      - v, the vector you are going find the nearest neighbor for\n",
    "      - candidates: a set of vectors where we will find the neighbors\n",
    "      - k: top k nearest neighbors to find\n",
    "    Output:\n",
    "      - k_idx: the indices of the top k closest vectors in sorted form\n",
    "    \"\"\"\n",
    "    ### START CODE HERE (REPLACE INSTANCES OF 'None' with your code) ###\n",
    "    similarity_l = []\n",
    "\n",
    "    # for each candidate vector...\n",
    "    for row in candidates:\n",
    "        # get the cosine similarity\n",
    "        cos_similarity = cosine_similarity(v,row)\n",
    "\n",
    "        # append the similarity to the list\n",
    "        similarity_l.append(cos_similarity)\n",
    "        \n",
    "    # sort the similarity list and get the indices of the sorted list\n",
    "    sorted_ids = np.argsort(similarity_l)\n",
    "    # 按照值从小到大的位置输出，也就是sorted_ids越往右，对应的值越大\n",
    "\n",
    "    # get the indices of the k most similar candidate vectors\n",
    "    k_idx = sorted_ids[-k:]\n",
    "    ### END CODE HERE ###\n",
    "    return k_idx\n"
   ]
  },
  {
   "cell_type": "code",
   "execution_count": 22,
   "metadata": {},
   "outputs": [
    {
     "name": "stdout",
     "output_type": "stream",
     "text": [
      "[[9 9 9]\n",
      " [1 0 5]\n",
      " [2 0 1]]\n"
     ]
    }
   ],
   "source": [
    "# UNQ_C9 (UNIQUE CELL IDENTIFIER, DO NOT EDIT)\n",
    "# You do not have to input any code in this cell, but it is relevant to grading, so please do not change anything\n",
    "\n",
    "# Test your implementation:\n",
    "v = np.array([1, 0, 1])\n",
    "candidates = np.array([[1, 0, 5], [-2, 5, 3], [2, 0, 1], [6, -9, 5], [9, 9, 9]])\n",
    "print(candidates[nearest_neighbor(v, candidates, 3)])"
   ]
  },
  {
   "cell_type": "markdown",
   "metadata": {},
   "source": [
    "**Expected Output**:\n",
    "\n",
    "`[[9 9 9]\n",
    " [1 0 5]\n",
    " [2 0 1]]`"
   ]
  },
  {
   "cell_type": "markdown",
   "metadata": {},
   "source": [
    "### Test your translation and compute its accuracy\n",
    "\n",
    "<a name=\"ex-06\"></a>\n",
    "**Exercise 06**:\n",
    "Complete the function `test_vocabulary` which takes in English\n",
    "embedding matrix $X$, French embedding matrix $Y$ and the $R$\n",
    "matrix and returns the accuracy of translations from $X$ to $Y$ by $R$.\n",
    "\n",
    "* Iterate over transformed English word embeddings and check if the\n",
    "closest French word vector belongs to French word that is the actual\n",
    "translation.\n",
    "* Obtain an index of the closest French embedding by using\n",
    "`nearest_neighbor` (with argument `k=1`), and compare it to the index\n",
    "of the English embedding you have just transformed.\n",
    "* Keep track of the number of times you get the correct translation.\n",
    "* Calculate accuracy as $$\\text{accuracy}=\\frac{\\#(\\text{correct predictions})}{\\#(\\text{total predictions})}$$"
   ]
  },
  {
   "cell_type": "code",
   "execution_count": 23,
   "metadata": {},
   "outputs": [],
   "source": [
    "# UNQ_C10 (UNIQUE CELL IDENTIFIER, DO NOT EDIT)\n",
    "def test_vocabulary(X, Y, R):\n",
    "    '''\n",
    "    Input:\n",
    "        X: a matrix where the columns are the English embeddings.\n",
    "        Y: a matrix where the columns correspong to the French embeddings.\n",
    "        R: the transform matrix which translates word embeddings from\n",
    "        English to French word vector space.\n",
    "    Output:\n",
    "        accuracy: for the English to French capitals\n",
    "    '''\n",
    "\n",
    "    ### START CODE HERE (REPLACE INSTANCES OF 'None' with your code) ###\n",
    "    # The prediction is X times R\n",
    "    pred = np.dot(X,R)\n",
    "\n",
    "    # initialize the number correct to zero\n",
    "    num_correct = 0\n",
    "\n",
    "    # loop through each row in pred (each transformed embedding)\n",
    "    for i in range(len(pred)):\n",
    "        # get the index of the nearest neighbor of pred at row 'i'; also pass in the candidates in Y\n",
    "        pred_idx = nearest_neighbor(pred[i], Y, 1)\n",
    "\n",
    "        # if the index of the nearest neighbor equals the row of i... \\\n",
    "        if pred_idx == i:\n",
    "            # increment the number correct by 1.\n",
    "            num_correct += 1\n",
    "\n",
    "    # accuracy is the number correct divided by the number of rows in 'pred' (also number of rows in X)\n",
    "    accuracy = num_correct/len(pred)\n",
    "\n",
    "    ### END CODE HERE ###\n",
    "\n",
    "    return accuracy\n"
   ]
  },
  {
   "cell_type": "markdown",
   "metadata": {},
   "source": [
    "Let's see how is your translation mechanism working on the unseen data:"
   ]
  },
  {
   "cell_type": "code",
   "execution_count": 24,
   "metadata": {},
   "outputs": [],
   "source": [
    "X_val, Y_val = get_matrices(en_fr_test, fr_embeddings_subset, en_embeddings_subset)"
   ]
  },
  {
   "cell_type": "code",
   "execution_count": 25,
   "metadata": {},
   "outputs": [
    {
     "name": "stdout",
     "output_type": "stream",
     "text": [
      "accuracy on test set is 0.557\n"
     ]
    }
   ],
   "source": [
    "# UNQ_C11 (UNIQUE CELL IDENTIFIER, DO NOT EDIT)\n",
    "# You do not have to input any code in this cell, but it is relevant to grading, so please do not change anything\n",
    "\n",
    "acc = test_vocabulary(X_val, Y_val, R_train)  # this might take a minute or two\n",
    "print(f\"accuracy on test set is {acc:.3f}\")"
   ]
  },
  {
   "cell_type": "markdown",
   "metadata": {},
   "source": [
    "**Expected Output**:\n",
    "\n",
    "```\n",
    "0.557\n",
    "```\n",
    "\n",
    "You managed to translate words from one language to another language\n",
    "without ever seing them with almost 56% accuracy by using some basic\n",
    "linear algebra and learning a mapping of words from one language to another!"
   ]
  },
  {
   "cell_type": "markdown",
   "metadata": {},
   "source": [
    "<a name=\"3\"></a>\n",
    "\n",
    "# 3. LSH and document search\n",
    "\n",
    "In this part of the assignment, you will implement a more efficient version\n",
    "of k-nearest neighbors using locality sensitive hashing.\n",
    "You will then apply this to document search.\n",
    "\n",
    "* Process the tweets and represent each tweet as a vector (represent a\n",
    "document with a vector embedding).\n",
    "* Use locality sensitive hashing and k nearest neighbors to find tweets\n",
    "that are similar to a given tweet."
   ]
  },
  {
   "cell_type": "code",
   "execution_count": 26,
   "metadata": {},
   "outputs": [],
   "source": [
    "# get the positive and negative tweets\n",
    "all_positive_tweets = twitter_samples.strings('positive_tweets.json')\n",
    "all_negative_tweets = twitter_samples.strings('negative_tweets.json')\n",
    "all_tweets = all_positive_tweets + all_negative_tweets"
   ]
  },
  {
   "cell_type": "markdown",
   "metadata": {},
   "source": [
    "<a name=\"3-1\"></a>\n",
    "\n",
    "### 3.1 Getting the document embeddings\n",
    "\n",
    "#### Bag-of-words (BOW) document models\n",
    "Text documents are sequences of words.\n",
    "* The ordering of words makes a difference. For example, sentences \"Apple pie is\n",
    "better than pepperoni pizza.\" and \"Pepperoni pizza is better than apple pie\"\n",
    "have opposite meanings due to the word ordering.\n",
    "* However, for some applications, ignoring the order of words can allow\n",
    "us to train an efficient and still effective model.\n",
    "* This approach is called Bag-of-words document model.\n",
    "\n",
    "#### Document embeddings\n",
    "* Document embedding is created by summing up the embeddings of all words\n",
    "in the document.\n",
    "* If we don't know the embedding of some word, we can ignore that word."
   ]
  },
  {
   "cell_type": "markdown",
   "metadata": {},
   "source": [
    "<a name=\"ex-07\"></a>\n",
    "\n",
    "**Exercise 07**:\n",
    "Complete the `get_document_embedding()` function.\n",
    "* The function `get_document_embedding()` encodes entire document as a \"document\" embedding.\n",
    "* It takes in a docoument (as a string) and a dictionary, `en_embeddings`\n",
    "* It processes the document, and looks up the corresponding embedding of each word.\n",
    "* It then sums them up and returns the sum of all word vectors of that processed tweet."
   ]
  },
  {
   "cell_type": "markdown",
   "metadata": {},
   "source": [
    "<details>\n",
    "<summary>\n",
    "    <font size=\"3\" color=\"darkgreen\"><b>Hints</b></font>\n",
    "</summary>\n",
    "<p>\n",
    "<ul>\n",
    "    <li> You can handle missing words easier by using the `get()` method of the python dictionary instead of the bracket notation (i.e. \"[ ]\"). See more about it <a href=\"https://stackoverflow.com/a/11041421/12816433\" >here</a> </li>\n",
    "    <li> The default value for missing word should be the zero vector. Numpy will <a href=\"https://docs.scipy.org/doc/numpy/user/basics.broadcasting.html\" > broadcast </a> simple 0 scalar into a vector of zeros during the summation.</li>\n",
    "    <li>Alternatively, skip the addition if a word is not in the dictonary. </li>\n",
    "    <li>  You can use your `process_tweet()` function which allows you to process the tweet. The function just takes in a tweet and returns a list of words.</li>\n",
    "</ul>\n",
    "</p>"
   ]
  },
  {
   "cell_type": "code",
   "execution_count": 27,
   "metadata": {},
   "outputs": [],
   "source": [
    "# UNQ_C12 (UNIQUE CELL IDENTIFIER, DO NOT EDIT)\n",
    "def get_document_embedding(tweet, en_embeddings): \n",
    "    '''\n",
    "    Input:\n",
    "        - tweet: a string\n",
    "        - en_embeddings: a dictionary of word embeddings\n",
    "    Output:\n",
    "        - doc_embedding: sum of all word embeddings in the tweet\n",
    "    '''\n",
    "    doc_embedding = np.zeros(300)\n",
    "\n",
    "    ### START CODE HERE (REPLACE INSTANCES OF 'None' with your code) ###\n",
    "    # process the document into a list of words (process the tweet)\n",
    "    processed_doc = process_tweet(tweet)\n",
    "    for word in processed_doc:\n",
    "        # add the word embedding to the running total for the document embedding\n",
    "        doc_embedding +=  en_embeddings.get(word,0)\n",
    "    ### END CODE HERE ###\n",
    "    return doc_embedding\n"
   ]
  },
  {
   "cell_type": "code",
   "execution_count": 28,
   "metadata": {},
   "outputs": [
    {
     "data": {
      "text/plain": [
       "array([-0.00268555, -0.15378189, -0.55761719, -0.07216644, -0.32263184])"
      ]
     },
     "execution_count": 28,
     "metadata": {},
     "output_type": "execute_result"
    }
   ],
   "source": [
    "# UNQ_C13 (UNIQUE CELL IDENTIFIER, DO NOT EDIT)\n",
    "# You do not have to input any code in this cell, but it is relevant to grading, so please do not change anything\n",
    "\n",
    "# testing your function\n",
    "custom_tweet = \"RT @Twitter @chapagain Hello There! Have a great day. :) #good #morning http://chapagain.com.np\"\n",
    "tweet_embedding = get_document_embedding(custom_tweet, en_embeddings_subset)\n",
    "tweet_embedding[-5:]"
   ]
  },
  {
   "cell_type": "markdown",
   "metadata": {},
   "source": [
    "**Expected output**:\n",
    "\n",
    "```\n",
    "array([-0.00268555, -0.15378189, -0.55761719, -0.07216644, -0.32263184])\n",
    "```"
   ]
  },
  {
   "cell_type": "markdown",
   "metadata": {},
   "source": [
    "<a name=\"ex-08\"></a>\n",
    "\n",
    "### Exercise 08\n",
    "\n",
    "#### Store all document vectors into a dictionary\n",
    "Now, let's store all the tweet embeddings into a dictionary.\n",
    "Implement `get_document_vecs()`"
   ]
  },
  {
   "cell_type": "code",
   "execution_count": 29,
   "metadata": {},
   "outputs": [],
   "source": [
    "# UNQ_C14 (UNIQUE CELL IDENTIFIER, DO NOT EDIT)\n",
    "def get_document_vecs(all_docs, en_embeddings):\n",
    "    '''\n",
    "    Input:\n",
    "        - all_docs: list of strings - all tweets in our dataset.\n",
    "        - en_embeddings: dictionary with words as the keys and their embeddings as the values.\n",
    "    Output:\n",
    "        - document_vec_matrix: matrix of tweet embeddings.\n",
    "        - ind2Doc_dict: dictionary with indices of tweets in vecs as keys and their embeddings as the values.\n",
    "    '''\n",
    "\n",
    "    # the dictionary's key is an index (integer) that identifies a specific tweet\n",
    "    # the value is the document embedding for that document\n",
    "    ind2Doc_dict = {}\n",
    "\n",
    "    # this is list that will store the document vectors\n",
    "    document_vec_l = []\n",
    "\n",
    "    for i, doc in enumerate(all_docs):\n",
    "\n",
    "        ### START CODE HERE (REPLACE INSTANCES OF 'None' with your code) ###\n",
    "        # get the document embedding of the tweet\n",
    "        doc_embedding = get_document_embedding(doc, en_embeddings)\n",
    "\n",
    "        # save the document embedding into the ind2Tweet dictionary at index i\n",
    "        ind2Doc_dict[i] = doc_embedding\n",
    "\n",
    "        # append the document embedding to the list of document vectors\n",
    "        document_vec_l.append(doc_embedding)\n",
    "\n",
    "        ### END CODE HERE ###\n",
    "\n",
    "    # convert the list of document vectors into a 2D array (each row is a document vector)\n",
    "    document_vec_matrix = np.vstack(document_vec_l)\n",
    "\n",
    "    return document_vec_matrix, ind2Doc_dict\n"
   ]
  },
  {
   "cell_type": "code",
   "execution_count": 30,
   "metadata": {},
   "outputs": [],
   "source": [
    "document_vecs, ind2Tweet = get_document_vecs(all_tweets, en_embeddings_subset)"
   ]
  },
  {
   "cell_type": "code",
   "execution_count": 31,
   "metadata": {},
   "outputs": [
    {
     "name": "stdout",
     "output_type": "stream",
     "text": [
      "length of dictionary 10000\n",
      "shape of document_vecs (10000, 300)\n"
     ]
    }
   ],
   "source": [
    "# UNQ_C15 (UNIQUE CELL IDENTIFIER, DO NOT EDIT)\n",
    "# You do not have to input any code in this cell, but it is relevant to grading, so please do not change anything\n",
    "\n",
    "print(f\"length of dictionary {len(ind2Tweet)}\")\n",
    "print(f\"shape of document_vecs {document_vecs.shape}\")"
   ]
  },
  {
   "cell_type": "code",
   "execution_count": 32,
   "metadata": {},
   "outputs": [],
   "source": [
    "#document_vecs"
   ]
  },
  {
   "cell_type": "code",
   "execution_count": 33,
   "metadata": {},
   "outputs": [],
   "source": [
    "#ind2Tweet"
   ]
  },
  {
   "cell_type": "markdown",
   "metadata": {},
   "source": [
    "##### Expected Output\n",
    "```\n",
    "length of dictionary 10000\n",
    "shape of document_vecs (10000, 300)\n",
    "```"
   ]
  },
  {
   "cell_type": "markdown",
   "metadata": {},
   "source": [
    "<a name=\"3-2\"></a>\n",
    "\n",
    "## 3.2 Looking up the tweets\n",
    "\n",
    "Now you have a vector of dimension (m,d) where `m` is the number of tweets\n",
    "(10,000) and `d` is the dimension of the embeddings (300).  Now you\n",
    "will input a tweet, and use cosine similarity to see which tweet in our\n",
    "corpus is similar to your tweet."
   ]
  },
  {
   "cell_type": "code",
   "execution_count": 34,
   "metadata": {},
   "outputs": [],
   "source": [
    "my_tweet = 'i am sad'\n",
    "process_tweet(my_tweet)\n",
    "tweet_embedding = get_document_embedding(my_tweet, en_embeddings_subset)"
   ]
  },
  {
   "cell_type": "code",
   "execution_count": 35,
   "metadata": {},
   "outputs": [
    {
     "name": "stdout",
     "output_type": "stream",
     "text": [
      "@zoeeylim sad sad sad kid :( it's ok I help you watch the match HAHAHAHAHA\n"
     ]
    }
   ],
   "source": [
    "# UNQ_C16 (UNIQUE CELL IDENTIFIER, DO NOT EDIT)\n",
    "# You do not have to input any code in this cell, but it is relevant to grading, so please do not change anything\n",
    "\n",
    "# this gives you a similar tweet as your input.\n",
    "# this implementation is vectorized...\n",
    "idx = np.argmax(cosine_similarity(document_vecs, tweet_embedding))\n",
    "print(all_tweets[idx])"
   ]
  },
  {
   "cell_type": "markdown",
   "metadata": {},
   "source": [
    "##### Expected Output\n",
    "\n",
    "```\n",
    "@zoeeylim sad sad sad kid :( it's ok I help you watch the match HAHAHAHAHA\n",
    "```"
   ]
  },
  {
   "cell_type": "markdown",
   "metadata": {},
   "source": [
    "<a name=\"3-3\"></a>\n",
    "\n",
    "## 3.3 Finding the most similar tweets with LSH\n",
    "\n",
    "You will now implement locality sensitive hashing (LSH) to identify the most similar tweet.\n",
    "* Instead of looking at all 10,000 vectors, you can just search a subset to find\n",
    "its nearest neighbors.\n",
    "\n",
    "Let's say your data points are plotted like this:\n",
    "\n",
    "\n",
    "<div style=\"width:image width px; font-size:100%; text-align:center;\"><img src='one.png' alt=\"alternate text\" width=\"width\" height=\"height\" style=\"width:400px;height:200px;\" /> Figure 3 </div>\n",
    "\n",
    "You can divide the vector space into regions and search within one region for nearest neighbors of a given vector.\n",
    "\n",
    "<div style=\"width:image width px; font-size:100%; text-align:center;\"><img src='four.png' alt=\"alternate text\" width=\"width\" height=\"height\" style=\"width:400px;height:200px;\" /> Figure 4 </div>"
   ]
  },
  {
   "cell_type": "code",
   "execution_count": 36,
   "metadata": {},
   "outputs": [
    {
     "name": "stdout",
     "output_type": "stream",
     "text": [
      "Number of vectors is 10000 and each has 300 dimensions.\n"
     ]
    }
   ],
   "source": [
    "N_VECS = len(all_tweets)       # This many vectors.\n",
    "N_DIMS = len(ind2Tweet[1])     # Vector dimensionality.\n",
    "print(f\"Number of vectors is {N_VECS} and each has {N_DIMS} dimensions.\")"
   ]
  },
  {
   "cell_type": "markdown",
   "metadata": {},
   "source": [
    "#### Choosing the number of planes\n",
    "\n",
    "* Each plane divides the space to $2$ parts.\n",
    "* So $n$ planes divide the space into $2^{n}$ hash buckets.\n",
    "* We want to organize 10,000 document vectors into buckets so that every bucket has about $~16$ vectors.\n",
    "* For that we need $\\frac{10000}{16}=625$ buckets.\n",
    "* We're interested in $n$, number of planes, so that $2^{n}= 625$. Now, we can calculate $n=\\log_{2}625 = 9.29 \\approx 10$."
   ]
  },
  {
   "cell_type": "code",
   "execution_count": 37,
   "metadata": {},
   "outputs": [],
   "source": [
    "# The number of planes. We use log2(625) to have ~16 vectors/bucket.\n",
    "N_PLANES = 10\n",
    "# Number of times to repeat the hashing to improve the search.\n",
    "N_UNIVERSES = 25"
   ]
  },
  {
   "cell_type": "markdown",
   "metadata": {},
   "source": [
    "<a name=\"3-4\"></a>\n",
    "\n",
    "## 3.4 Getting the hash number for a vector\n",
    "\n",
    "For each vector, we need to get a unique number associated to that vector in order to assign it to a \"hash bucket\".\n",
    "\n",
    "### Hyperlanes in vector spaces\n",
    "* In $3$-dimensional vector space, the hyperplane is a regular plane. In $2$ dimensional vector space, the hyperplane is a line.\n",
    "* Generally, the hyperplane is subspace which has dimension $1$ lower than the original vector space has.\n",
    "* A hyperplane is uniquely defined by its normal vector.\n",
    "* Normal vector $n$ of the plane $\\pi$ is the vector to which all vectors in the plane $\\pi$ are orthogonal (perpendicular in $3$ dimensional case).\n",
    "\n",
    "### Using Hyperplanes to split the vector space\n",
    "We can use a hyperplane to split the vector space into $2$ parts.\n",
    "* All vectors whose dot product with a plane's normal vector is positive are on one side of the plane.\n",
    "* All vectors whose dot product with the plane's normal vector is negative are on the other side of the plane.\n",
    "\n",
    "### Encoding hash buckets\n",
    "* For a vector, we can take its dot product with all the planes, then encode this information to assign the vector to a single hash bucket.\n",
    "* When the vector is pointing to the opposite side of the hyperplane than normal, encode it by 0.\n",
    "* Otherwise, if the vector is on the same side as the normal vector, encode it by 1.\n",
    "* If you calculate the dot product with each plane in the same order for every vector, you've encoded each vector's unique hash ID as a binary number, like [0, 1, 1, ... 0]."
   ]
  },
  {
   "cell_type": "markdown",
   "metadata": {},
   "source": [
    "<a name=\"ex-09\"></a>\n",
    "\n",
    "### Exercise 09: Implementing hash buckets\n",
    "\n",
    "We've initialized hash table `hashes` for you. It is list of `N_UNIVERSES` matrices, each describes its own hash table. Each matrix has `N_DIMS` rows and `N_PLANES` columns. Every column of that matrix is a `N_DIMS`-dimensional normal vector for each of `N_PLANES` hyperplanes which are used for creating buckets of the particular hash table.\n",
    "\n",
    "*Exercise*: Your task is to complete the function `hash_value_of_vector` which places vector `v` in the correct hash bucket.\n",
    "\n",
    "* First multiply your vector `v`, with a corresponding plane. This will give you a vector of dimension $(1,\\text{N_planes})$.\n",
    "* You will then convert every element in that vector to 0 or 1.\n",
    "* You create a hash vector by doing the following: if the element is negative, it becomes a 0, otherwise you change it to a 1.\n",
    "* You then compute the unique number for the vector by iterating over `N_PLANES`\n",
    "* Then you multiply $2^i$ times the corresponding bit (0 or 1).\n",
    "* You will then store that sum in the variable `hash_value`.\n",
    "\n",
    "**Intructions:** Create a hash for the vector in the function below.\n",
    "Use this formula:\n",
    "\n",
    "$$ hash = \\sum_{i=0}^{N-1} \\left( 2^{i} \\times h_{i} \\right) $$"
   ]
  },
  {
   "cell_type": "markdown",
   "metadata": {},
   "source": [
    "#### Create the sets of planes\n",
    "* Create multiple (25) sets of planes (the planes that divide up the region).\n",
    "* You can think of these as 25 separate ways of dividing up the vector space with a different set of planes.\n",
    "* Each element of this list contains a matrix with 300 rows (the word vector have 300 dimensions), and 10 columns (there are 10 planes in each \"universe\")."
   ]
  },
  {
   "cell_type": "code",
   "execution_count": 38,
   "metadata": {},
   "outputs": [],
   "source": [
    "np.random.seed(0)\n",
    "planes_l = [np.random.normal(size=(N_DIMS, N_PLANES))\n",
    "            for _ in range(N_UNIVERSES)]"
   ]
  },
  {
   "cell_type": "code",
   "execution_count": 39,
   "metadata": {},
   "outputs": [
    {
     "data": {
      "text/plain": [
       "25"
      ]
     },
     "execution_count": 39,
     "metadata": {},
     "output_type": "execute_result"
    }
   ],
   "source": [
    "len(planes_l)"
   ]
  },
  {
   "cell_type": "code",
   "execution_count": 40,
   "metadata": {},
   "outputs": [
    {
     "data": {
      "text/plain": [
       "(300, 10)"
      ]
     },
     "execution_count": 40,
     "metadata": {},
     "output_type": "execute_result"
    }
   ],
   "source": [
    "planes_l[0].shape"
   ]
  },
  {
   "cell_type": "markdown",
   "metadata": {},
   "source": [
    "<details>\n",
    "<summary>\n",
    "    <font size=\"3\" color=\"darkgreen\"><b>Hints</b></font>\n",
    "</summary>\n",
    "<p>\n",
    "<ul>\n",
    "    <li> numpy.squeeze() removes unused dimensions from an array; for instance, it converts a (10,1) 2D array into a (10,) 1D array</li>\n",
    "</ul>\n",
    "</p>"
   ]
  },
  {
   "cell_type": "code",
   "execution_count": 58,
   "metadata": {},
   "outputs": [],
   "source": [
    "# UNQ_C17 (UNIQUE CELL IDENTIFIER, DO NOT EDIT)\n",
    "def hash_value_of_vector(v, planes):\n",
    "    \"\"\"Create a hash for a vector; hash_id says which random hash to use.\n",
    "    Input:\n",
    "        - v:  vector of tweet. It's dimension is (1, N_DIMS)\n",
    "        - planes: matrix of dimension (N_DIMS, N_PLANES) - the set of planes that divide up the region\n",
    "    Output:\n",
    "        - res: a number which is used as a hash for your vector\n",
    "\n",
    "    \"\"\"\n",
    "    ### START CODE HERE (REPLACE INSTANCES OF 'None' with your code) ###\n",
    "    # for the set of planes,\n",
    "    # calculate the dot product between the vector and the matrix containing the planes\n",
    "    # remember that planes has shape (300, 10)\n",
    "    # The dot product will have the shape (1,10)\n",
    "    dot_product = np.dot(v,planes)\n",
    "\n",
    "    # get the sign of the dot product (1,10) shaped vector\n",
    "    sign_of_dot_product = np.sign(dot_product)\n",
    "\n",
    "    # set h to be false (eqivalent to 0 when used in operations) if the sign is negative,\n",
    "    # and true (equivalent to 1) if the sign is positive (1,10) shaped vector\n",
    "    # if the sign is 0, i.e. the vector is in the plane, consider the sign to be positive\n",
    "    h = (sign_of_dot_product>=0).astype(int)\n",
    "\n",
    "    # remove extra un-used dimensions (convert this from a 2D to a 1D array)\n",
    "    h = np.squeeze(h)\n",
    "\n",
    "    # initialize the hash value to 0\n",
    "    hash_value = 0\n",
    "\n",
    "    n_planes = planes.shape[1]\n",
    "    for i in range(n_planes):\n",
    "        # increment the hash value by 2^i * h_i\n",
    "        hash_value += 2**i*h[i]\n",
    "    ### END CODE HERE ###\n",
    "\n",
    "    # cast hash_value as an integer\n",
    "    hash_value = int(hash_value)\n",
    "\n",
    "    return hash_value\n"
   ]
  },
  {
   "cell_type": "code",
   "execution_count": 59,
   "metadata": {},
   "outputs": [
    {
     "name": "stdout",
     "output_type": "stream",
     "text": [
      " The hash value for this vector, and the set of planes at index 0, is 768\n"
     ]
    }
   ],
   "source": [
    "# UNQ_C18 (UNIQUE CELL IDENTIFIER, DO NOT EDIT)\n",
    "# You do not have to input any code in this cell, but it is relevant to grading, so please do not change anything\n",
    "\n",
    "np.random.seed(0)\n",
    "idx = 0\n",
    "planes = planes_l[idx]  # get one 'universe' of planes to test the function\n",
    "vec = np.random.rand(1, 300)\n",
    "print(f\" The hash value for this vector,\",\n",
    "      f\"and the set of planes at index {idx},\",\n",
    "      f\"is {hash_value_of_vector(vec, planes)}\")"
   ]
  },
  {
   "cell_type": "markdown",
   "metadata": {},
   "source": [
    "##### Expected Output\n",
    "\n",
    "```\n",
    "The hash value for this vector, and the set of planes at index 0, is 768\n",
    "```"
   ]
  },
  {
   "cell_type": "markdown",
   "metadata": {},
   "source": [
    "<a name=\"3-5\"></a>\n",
    "\n",
    "## 3.5 Creating a hash table\n",
    "\n",
    "<a name=\"ex-10\"></a>\n",
    "\n",
    "### Exercise 10\n",
    "\n",
    "Given that you have a unique number for each vector (or tweet), You now want to create a hash table. You need a hash table, so that given a hash_id, you can quickly look up the corresponding vectors. This allows you to reduce your search by a significant amount of time.\n",
    "\n",
    "<div style=\"width:image width px; font-size:100%; text-align:center;\"><img src='table.png' alt=\"alternate text\" width=\"width\" height=\"height\" style=\"width:500px;height:200px;\" />  </div>\n",
    "\n",
    "We have given you the `make_hash_table` function, which maps the tweet vectors to a bucket and stores the vector there. It returns the `hash_table` and the `id_table`. The `id_table` allows you know which vector in a certain bucket corresponds to what tweet."
   ]
  },
  {
   "cell_type": "markdown",
   "metadata": {},
   "source": [
    "<details>    \n",
    "<summary>\n",
    "    <font size=\"3\" color=\"darkgreen\"><b>Hints</b></font>\n",
    "</summary>\n",
    "<p>\n",
    "<ul>\n",
    "    <li> a dictionary comprehension, similar to a list comprehension, looks like this: `{i:0 for i in range(10)}`, where the key is 'i' and the value is zero for all key-value pairs. </li>\n",
    "</ul>\n",
    "</p>"
   ]
  },
  {
   "cell_type": "code",
   "execution_count": 60,
   "metadata": {},
   "outputs": [],
   "source": [
    "# UNQ_C19 (UNIQUE CELL IDENTIFIER, DO NOT EDIT)\n",
    "# This is the code used to create a hash table: feel free to read over it\n",
    "def make_hash_table(vecs, planes):\n",
    "    \"\"\"\n",
    "    Input:\n",
    "        - vecs: list of vectors to be hashed.\n",
    "        - planes: the matrix of planes in a single \"universe\", with shape (embedding dimensions, number of planes).\n",
    "    Output:\n",
    "        - hash_table: dictionary - keys are hashes, values are lists of vectors (hash buckets)\n",
    "        - id_table: dictionary - keys are hashes, values are list of vectors id's\n",
    "                            (it's used to know which tweet corresponds to the hashed vector)\n",
    "    \"\"\"\n",
    "    ### START CODE HERE (REPLACE INSTANCES OF 'None' with your code) ###\n",
    "\n",
    "    # number of planes is the number of columns in the planes matrix\n",
    "    num_of_planes = planes.shape[1]\n",
    "\n",
    "    # number of buckets is 2^(number of planes)\n",
    "    num_buckets = 2**num_of_planes\n",
    "\n",
    "    # create the hash table as a dictionary.\n",
    "    # Keys are integers (0,1,2.. number of buckets)\n",
    "    # Values are empty lists\n",
    "    hash_table = {i:[] for i in range(num_buckets)}\n",
    "\n",
    "    # create the id table as a dictionary.\n",
    "    # Keys are integers (0,1,2... number of buckets)\n",
    "    # Values are empty lists\n",
    "    id_table = {i:[] for i in range(num_buckets)}\n",
    "\n",
    "    # for each vector in 'vecs'\n",
    "    for i, v in enumerate(vecs):\n",
    "        # calculate the hash value for the vector\n",
    "        h = hash_value_of_vector(v, planes)\n",
    "\n",
    "        # store the vector into hash_table at key h,\n",
    "        # by appending the vector v to the list at key h\n",
    "        hash_table[h].append(v)\n",
    "\n",
    "        # store the vector's index 'i' (each document is given a unique integer 0,1,2...)\n",
    "        # the key is the h, and the 'i' is appended to the list at key h\n",
    "        id_table[h].append(i)\n",
    "\n",
    "    ### END CODE HERE ###\n",
    "\n",
    "    return hash_table, id_table\n"
   ]
  },
  {
   "cell_type": "code",
   "execution_count": 61,
   "metadata": {},
   "outputs": [
    {
     "name": "stdout",
     "output_type": "stream",
     "text": [
      "The hash table at key 0 has 3 document vectors\n",
      "The id table at key 0 has 3\n",
      "The first 5 document indices stored at key 0 of are [3276, 3281, 3282]\n"
     ]
    }
   ],
   "source": [
    "# UNQ_C20 (UNIQUE CELL IDENTIFIER, DO NOT EDIT)\n",
    "# You do not have to input any code in this cell, but it is relevant to grading, so please do not change anything\n",
    "\n",
    "np.random.seed(0)\n",
    "planes = planes_l[0]  # get one 'universe' of planes to test the function\n",
    "vec = np.random.rand(1, 300)\n",
    "tmp_hash_table, tmp_id_table = make_hash_table(document_vecs, planes)\n",
    "\n",
    "print(f\"The hash table at key 0 has {len(tmp_hash_table[0])} document vectors\")\n",
    "print(f\"The id table at key 0 has {len(tmp_id_table[0])}\")\n",
    "print(f\"The first 5 document indices stored at key 0 of are {tmp_id_table[0][0:5]}\")"
   ]
  },
  {
   "cell_type": "markdown",
   "metadata": {},
   "source": [
    "##### Expected output\n",
    "```\n",
    "The hash table at key 0 has 3 document vectors\n",
    "The id table at key 0 has 3\n",
    "The first 5 document indices stored at key 0 of are [3276, 3281, 3282]\n",
    "```"
   ]
  },
  {
   "cell_type": "markdown",
   "metadata": {},
   "source": [
    "<a name=\"3-6\"></a>\n",
    "\n",
    "### 3.6 Creating all hash tables\n",
    "\n",
    "You can now hash your vectors and store them in a hash table that\n",
    "would allow you to quickly look up and search for similar vectors.\n",
    "Run the cell below to create the hashes. By doing so, you end up having\n",
    "several tables which have all the vectors. Given a vector, you then\n",
    "identify the buckets in all the tables.  You can then iterate over the\n",
    "buckets and consider much fewer vectors. The more buckets you use, the\n",
    "more accurate your lookup will be, but also the longer it will take."
   ]
  },
  {
   "cell_type": "code",
   "execution_count": 45,
   "metadata": {},
   "outputs": [
    {
     "name": "stdout",
     "output_type": "stream",
     "text": [
      "working on hash universe #: 0\n",
      "working on hash universe #: 1\n",
      "working on hash universe #: 2\n",
      "working on hash universe #: 3\n",
      "working on hash universe #: 4\n",
      "working on hash universe #: 5\n",
      "working on hash universe #: 6\n",
      "working on hash universe #: 7\n",
      "working on hash universe #: 8\n",
      "working on hash universe #: 9\n",
      "working on hash universe #: 10\n",
      "working on hash universe #: 11\n",
      "working on hash universe #: 12\n",
      "working on hash universe #: 13\n",
      "working on hash universe #: 14\n",
      "working on hash universe #: 15\n",
      "working on hash universe #: 16\n",
      "working on hash universe #: 17\n",
      "working on hash universe #: 18\n",
      "working on hash universe #: 19\n",
      "working on hash universe #: 20\n",
      "working on hash universe #: 21\n",
      "working on hash universe #: 22\n",
      "working on hash universe #: 23\n",
      "working on hash universe #: 24\n"
     ]
    }
   ],
   "source": [
    "# Creating the hashtables\n",
    "hash_tables = []\n",
    "id_tables = []\n",
    "for universe_id in range(N_UNIVERSES):  # there are 25 hashes\n",
    "    print('working on hash universe #:', universe_id)\n",
    "    planes = planes_l[universe_id]\n",
    "    hash_table, id_table = make_hash_table(document_vecs, planes)\n",
    "    hash_tables.append(hash_table)\n",
    "    id_tables.append(id_table)"
   ]
  },
  {
   "cell_type": "markdown",
   "metadata": {},
   "source": [
    "### Approximate K-NN\n",
    "\n",
    "<a name=\"ex-11\"></a>\n",
    "\n",
    "### Exercise 11\n",
    "\n",
    "Implement approximate K nearest neighbors using locality sensitive hashing,\n",
    "to search for documents that are similar to a given document at the\n",
    "index `doc_id`.\n",
    "\n",
    "##### Inputs\n",
    "* `doc_id` is the index into the document list `all_tweets`.\n",
    "* `v` is the document vector for the tweet in `all_tweets` at index `doc_id`.\n",
    "* `planes_l` is the list of planes (the global variable created earlier).\n",
    "* `k` is the number of nearest neighbors to search for.\n",
    "* `num_universes_to_use`: to save time, we can use fewer than the total\n",
    "number of available universes.  By default, it's set to `N_UNIVERSES`,\n",
    "which is $25$ for this assignment.\n",
    "\n",
    "The `approximate_knn` function finds a subset of candidate vectors that\n",
    "are in the same \"hash bucket\" as the input vector 'v'.  Then it performs\n",
    "the usual k-nearest neighbors search on this subset (instead of searching\n",
    "through all 10,000 tweets)."
   ]
  },
  {
   "cell_type": "markdown",
   "metadata": {},
   "source": [
    "<details>\n",
    "<summary>\n",
    "    <font size=\"3\" color=\"darkgreen\"><b>Hints</b></font>\n",
    "</summary>\n",
    "<p>\n",
    "<ul>\n",
    "    <li> There are many dictionaries used in this function.  Try to print out planes_l, hash_tables, id_tables to understand how they are structured, what the keys represent, and what the values contain.</li>\n",
    "    <li> To remove an item from a list, use `.remove()` </li>\n",
    "    <li> To append to a list, use `.append()` </li>\n",
    "    <li> To add to a set, use `.add()` </li>\n",
    "</ul>\n",
    "</p>"
   ]
  },
  {
   "cell_type": "code",
   "execution_count": 46,
   "metadata": {},
   "outputs": [],
   "source": [
    "# UNQ_C21 (UNIQUE CELL IDENTIFIER, DO NOT EDIT)\n",
    "# This is the code used to do the fast nearest neighbor search. Feel free to go over it\n",
    "def approximate_knn(doc_id, v, planes_l, k=1, num_universes_to_use=N_UNIVERSES):\n",
    "    \"\"\"Search for k-NN using hashes.\"\"\"\n",
    "    assert num_universes_to_use <= N_UNIVERSES\n",
    "\n",
    "    # Vectors that will be checked as possible nearest neighbor\n",
    "    vecs_to_consider_l = list()\n",
    "\n",
    "    # list of document IDs\n",
    "    ids_to_consider_l = list()\n",
    "\n",
    "    # create a set for ids to consider, for faster checking if a document ID already exists in the set\n",
    "    ids_to_consider_set = set()\n",
    "\n",
    "    # loop through the universes of planes\n",
    "    for universe_id in range(num_universes_to_use):\n",
    "\n",
    "        # get the set of planes from the planes_l list, for this particular universe_id\n",
    "        planes = planes_l[universe_id]\n",
    "\n",
    "        # get the hash value of the vector for this set of planes\n",
    "        hash_value = hash_value_of_vector(v, planes)\n",
    "\n",
    "        # get the hash table for this particular universe_id\n",
    "        hash_table = hash_tables[universe_id]\n",
    "\n",
    "        # get the list of document vectors for this hash table, where the key is the hash_value\n",
    "        document_vectors_l = hash_table[hash_value]\n",
    "\n",
    "        # get the id_table for this particular universe_id\n",
    "        id_table = id_tables[universe_id]\n",
    "\n",
    "        # get the subset of documents to consider as nearest neighbors from this id_table dictionary\n",
    "        new_ids_to_consider = id_table[hash_value]\n",
    "\n",
    "        ### START CODE HERE (REPLACE INSTANCES OF 'None' with your code) ###\n",
    "\n",
    "        # remove the id of the document that we're searching\n",
    "        if doc_id in new_ids_to_consider:\n",
    "            new_ids_to_consider.remove(doc_id)\n",
    "            print(f\"removed doc_id {doc_id} of input vector from new_ids_to_search\")\n",
    "\n",
    "        # loop through the subset of document vectors to consider\n",
    "        for i, new_id in enumerate(new_ids_to_consider):\n",
    "\n",
    "            # if the document ID is not yet in the set ids_to_consider...\n",
    "            if new_id not in ids_to_consider_set:\n",
    "                # access document_vectors_l list at index i to get the embedding\n",
    "                # then append it to the list of vectors to consider as possible nearest neighbors\n",
    "                document_vector_at_i = document_vectors_l[i]\n",
    "                vecs_to_consider_l.append(document_vector_at_i)\n",
    "\n",
    "                # append the new_id (the index for the document) to the list of ids to consider\n",
    "                ids_to_consider_l.append(new_id)\n",
    "\n",
    "                # also add the new_id to the set of ids to consider\n",
    "                # (use this to check if new_id is not already in the IDs to consider)\n",
    "                ids_to_consider_set.add(new_id)\n",
    "\n",
    "        ### END CODE HERE ###\n",
    "\n",
    "    # Now run k-NN on the smaller set of vecs-to-consider.\n",
    "    print(\"Fast considering %d vecs\" % len(vecs_to_consider_l))\n",
    "\n",
    "    # convert the vecs to consider set to a list, then to a numpy array\n",
    "    vecs_to_consider_arr = np.array(vecs_to_consider_l)\n",
    "\n",
    "    # call nearest neighbors on the reduced list of candidate vectors\n",
    "    nearest_neighbor_idx_l = nearest_neighbor(v, vecs_to_consider_arr, k=k)\n",
    "\n",
    "    # Use the nearest neighbor index list as indices into the ids to consider\n",
    "    # create a list of nearest neighbors by the document ids\n",
    "    nearest_neighbor_ids = [ids_to_consider_l[idx]\n",
    "                            for idx in nearest_neighbor_idx_l]\n",
    "\n",
    "    return nearest_neighbor_ids\n"
   ]
  },
  {
   "cell_type": "code",
   "execution_count": 47,
   "metadata": {},
   "outputs": [],
   "source": [
    "#document_vecs, ind2Tweet\n",
    "doc_id = 0\n",
    "doc_to_search = all_tweets[doc_id]\n",
    "vec_to_search = document_vecs[doc_id]"
   ]
  },
  {
   "cell_type": "code",
   "execution_count": 48,
   "metadata": {},
   "outputs": [
    {
     "data": {
      "text/plain": [
       "'#FollowFriday @France_Inte @PKuchly57 @Milipol_Paris for being top engaged members in my community this week :)'"
      ]
     },
     "execution_count": 48,
     "metadata": {},
     "output_type": "execute_result"
    }
   ],
   "source": [
    "doc_to_search"
   ]
  },
  {
   "cell_type": "code",
   "execution_count": 49,
   "metadata": {},
   "outputs": [
    {
     "name": "stdout",
     "output_type": "stream",
     "text": [
      "removed doc_id 0 of input vector from new_ids_to_search\n",
      "removed doc_id 0 of input vector from new_ids_to_search\n",
      "removed doc_id 0 of input vector from new_ids_to_search\n",
      "removed doc_id 0 of input vector from new_ids_to_search\n",
      "removed doc_id 0 of input vector from new_ids_to_search\n",
      "Fast considering 77 vecs\n"
     ]
    }
   ],
   "source": [
    "# UNQ_C22 (UNIQUE CELL IDENTIFIER, DO NOT EDIT)\n",
    "# You do not have to input any code in this cell, but it is relevant to grading, so please do not change anything\n",
    "\n",
    "# Sample\n",
    "nearest_neighbor_ids = approximate_knn(\n",
    "    doc_id, vec_to_search, planes_l, k=3, num_universes_to_use=5)"
   ]
  },
  {
   "cell_type": "code",
   "execution_count": 50,
   "metadata": {},
   "outputs": [
    {
     "data": {
      "text/plain": [
       "[2140, 701, 51]"
      ]
     },
     "execution_count": 50,
     "metadata": {},
     "output_type": "execute_result"
    }
   ],
   "source": [
    "nearest_neighbor_ids"
   ]
  },
  {
   "cell_type": "code",
   "execution_count": 51,
   "metadata": {},
   "outputs": [
    {
     "name": "stdout",
     "output_type": "stream",
     "text": [
      "Nearest neighbors for document 0\n",
      "Document contents: #FollowFriday @France_Inte @PKuchly57 @Milipol_Paris for being top engaged members in my community this week :)\n",
      "\n",
      "Nearest neighbor at document id 2140\n",
      "document contents: @PopsRamjet come one, every now and then is not so bad :)\n",
      "Nearest neighbor at document id 701\n",
      "document contents: With the top cutie of Bohol :) https://t.co/Jh7F6U46UB\n",
      "Nearest neighbor at document id 51\n",
      "document contents: #FollowFriday @France_Espana @reglisse_menthe @CCI_inter for being top engaged members in my community this week :)\n"
     ]
    }
   ],
   "source": [
    "print(f\"Nearest neighbors for document {doc_id}\")\n",
    "print(f\"Document contents: {doc_to_search}\")\n",
    "print(\"\")\n",
    "\n",
    "for neighbor_id in nearest_neighbor_ids:\n",
    "    print(f\"Nearest neighbor at document id {neighbor_id}\")\n",
    "    print(f\"document contents: {all_tweets[neighbor_id]}\")"
   ]
  },
  {
   "cell_type": "markdown",
   "metadata": {},
   "source": [
    "# 4 Conclusion\n",
    "Congratulations - Now you can look up vectors that are similar to the\n",
    "encoding of your tweet using LSH!"
   ]
  }
 ],
 "metadata": {
  "coursera": {
   "schema_names": [
    "NLPC1-4"
   ]
  },
  "kernelspec": {
   "display_name": "Python 3",
   "language": "python",
   "name": "python3"
  },
  "language_info": {
   "codemirror_mode": {
    "name": "ipython",
    "version": 3
   },
   "file_extension": ".py",
   "mimetype": "text/x-python",
   "name": "python",
   "nbconvert_exporter": "python",
   "pygments_lexer": "ipython3",
   "version": "3.7.1"
  }
 },
 "nbformat": 4,
 "nbformat_minor": 1
}
