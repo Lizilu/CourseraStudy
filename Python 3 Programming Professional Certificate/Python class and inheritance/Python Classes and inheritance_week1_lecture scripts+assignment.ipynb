{
 "cells": [
  {
   "cell_type": "markdown",
   "metadata": {},
   "source": [
    "# User Defined Classes"
   ]
  },
  {
   "cell_type": "code",
   "execution_count": 2,
   "metadata": {},
   "outputs": [
    {
     "name": "stdout",
     "output_type": "stream",
     "text": [
      "<__main__.Point object at 0x00000187ABAFAEB8>\n",
      "<__main__.Point object at 0x00000187ABAFAE48>\n",
      "False\n"
     ]
    }
   ],
   "source": [
    "class Point:\n",
    "    \"\"\" Point class for representing and manipulating x,y coordinates. \"\"\"\n",
    "\n",
    "    def __init__(self):\n",
    "\n",
    "        self.x = 0\n",
    "        self.y = 0\n",
    "\n",
    "p = Point()         # Instantiate an object of type Point\n",
    "q = Point()         # and make a second point\n",
    "\n",
    "print(p)\n",
    "print(q)\n",
    "\n",
    "print(p is q)\n"
   ]
  },
  {
   "cell_type": "markdown",
   "metadata": {},
   "source": [
    "# Adding Parameters to the Constructor"
   ]
  },
  {
   "cell_type": "code",
   "execution_count": 3,
   "metadata": {},
   "outputs": [],
   "source": [
    "class Point:\n",
    "    \"\"\" Point class for representing and manipulating x,y coordinates. \"\"\"\n",
    "\n",
    "    def __init__(self, initX, initY):\n",
    "\n",
    "        self.x = initX\n",
    "        self.y = initY\n",
    "\n",
    "p = Point(7,6)"
   ]
  },
  {
   "cell_type": "markdown",
   "metadata": {},
   "source": [
    "# Adding Other Methods to a Class"
   ]
  },
  {
   "cell_type": "code",
   "execution_count": 4,
   "metadata": {},
   "outputs": [
    {
     "name": "stdout",
     "output_type": "stream",
     "text": [
      "9.219544457292887\n"
     ]
    }
   ],
   "source": [
    "class Point:\n",
    "    \"\"\" Point class for representing and manipulating x,y coordinates. \"\"\"\n",
    "\n",
    "    def __init__(self, initX, initY):\n",
    "\n",
    "        self.x = initX\n",
    "        self.y = initY\n",
    "\n",
    "    def getX(self):\n",
    "        return self.x\n",
    "\n",
    "    def getY(self):\n",
    "        return self.y\n",
    "\n",
    "    def distanceFromOrigin(self):\n",
    "        return ((self.x ** 2) + (self.y ** 2)) ** 0.5\n",
    "\n",
    "\n",
    "p = Point(7,6)\n",
    "print(p.distanceFromOrigin())\n"
   ]
  },
  {
   "cell_type": "markdown",
   "metadata": {},
   "source": [
    "# Objects as Arguments and Parameters"
   ]
  },
  {
   "cell_type": "code",
   "execution_count": 5,
   "metadata": {},
   "outputs": [
    {
     "name": "stdout",
     "output_type": "stream",
     "text": [
      "5.0\n"
     ]
    }
   ],
   "source": [
    "import math\n",
    "\n",
    "class Point:\n",
    "    \"\"\" Point class for representing and manipulating x,y coordinates. \"\"\"\n",
    "\n",
    "    def __init__(self, initX, initY):\n",
    "\n",
    "        self.x = initX\n",
    "        self.y = initY\n",
    "\n",
    "    def getX(self):\n",
    "        return self.x\n",
    "\n",
    "    def getY(self):\n",
    "        return self.y\n",
    "\n",
    "    def distanceFromOrigin(self):\n",
    "        return ((self.x ** 2) + (self.y ** 2)) ** 0.5\n",
    "\n",
    "    def distance(self, point2):\n",
    "        xdiff = point2.getX()-self.getX()\n",
    "        ydiff = point2.getY()-self.getY()\n",
    "\n",
    "        dist = math.sqrt(xdiff**2 + ydiff**2)\n",
    "        return dist\n",
    "\n",
    "p = Point(4,3)\n",
    "q = Point(0,0)\n",
    "print(p.distance(q))"
   ]
  },
  {
   "cell_type": "markdown",
   "metadata": {},
   "source": [
    "# Converting an Object to a String"
   ]
  },
  {
   "cell_type": "markdown",
   "metadata": {},
   "source": [
    "__str__的作用是：运行时展示该class的input"
   ]
  },
  {
   "cell_type": "code",
   "execution_count": 6,
   "metadata": {},
   "outputs": [
    {
     "name": "stdout",
     "output_type": "stream",
     "text": [
      "x = 7, y = 6\n"
     ]
    }
   ],
   "source": [
    "class Point:\n",
    "    \"\"\" Point class for representing and manipulating x,y coordinates. \"\"\"\n",
    "\n",
    "    def __init__(self, initX, initY):\n",
    "\n",
    "        self.x = initX\n",
    "        self.y = initY\n",
    "\n",
    "    def getX(self):\n",
    "        return self.x\n",
    "\n",
    "    def getY(self):\n",
    "        return self.y\n",
    "\n",
    "    def distanceFromOrigin(self):\n",
    "        return ((self.x ** 2) + (self.y ** 2)) ** 0.5\n",
    "\n",
    "    def __str__(self):\n",
    "        return \"x = {}, y = {}\".format(self.x, self.y)\n",
    "\n",
    "p = Point(7,6)\n",
    "print(p)"
   ]
  },
  {
   "cell_type": "markdown",
   "metadata": {},
   "source": [
    "# Instances as Return Values"
   ]
  },
  {
   "cell_type": "code",
   "execution_count": 7,
   "metadata": {},
   "outputs": [
    {
     "name": "stdout",
     "output_type": "stream",
     "text": [
      "x = 4.0, y = 8.0\n",
      "4.0\n",
      "8.0\n"
     ]
    }
   ],
   "source": [
    "class Point:\n",
    "\n",
    "    def __init__(self, initX, initY):\n",
    "\n",
    "        self.x = initX\n",
    "        self.y = initY\n",
    "\n",
    "    def getX(self):\n",
    "        return self.x\n",
    "\n",
    "    def getY(self):\n",
    "        return self.y\n",
    "\n",
    "    def distanceFromOrigin(self):\n",
    "        return ((self.x ** 2) + (self.y ** 2)) ** 0.5\n",
    "\n",
    "    def __str__(self):\n",
    "        return \"x = {}, y = {}\".format(self.x, self.y)\n",
    "\n",
    "    def halfway(self, target):\n",
    "        mx = (self.x + target.x)/2\n",
    "        my = (self.y + target.y)/2\n",
    "        return Point(mx, my)\n",
    "\n",
    "p = Point(3,4)\n",
    "q = Point(5,12)\n",
    "mid = p.halfway(q)\n",
    "# note that you would have exactly the same result if you instead wrote\n",
    "# mid = q.halfway(p)\n",
    "# because they are both Point objects, and the middle is the same no matter what\n",
    "\n",
    "print(mid)\n",
    "print(mid.getX())\n",
    "print(mid.getY())"
   ]
  },
  {
   "cell_type": "markdown",
   "metadata": {},
   "source": [
    "# Sorting Lists of Instances"
   ]
  },
  {
   "cell_type": "code",
   "execution_count": 8,
   "metadata": {},
   "outputs": [
    {
     "name": "stdout",
     "output_type": "stream",
     "text": [
      "['Apple', 'Cherry', 'Blueberry']\n",
      "['Apple', 'Cherry', 'Blueberry']\n"
     ]
    }
   ],
   "source": [
    "L = [\"Cherry\", \"Apple\", \"Blueberry\"]\n",
    "\n",
    "print(sorted(L, key=len))\n",
    "#alternative form using lambda, if you find that easier to understand\n",
    "print(sorted(L, key= lambda x: len(x)))\n"
   ]
  },
  {
   "cell_type": "code",
   "execution_count": 9,
   "metadata": {},
   "outputs": [
    {
     "name": "stdout",
     "output_type": "stream",
     "text": [
      "Apple\n",
      "Cherry\n",
      "Blueberry\n"
     ]
    }
   ],
   "source": [
    "class Fruit():\n",
    "    def __init__(self, name, price):\n",
    "        self.name = name\n",
    "        self.price = price\n",
    "\n",
    "L = [Fruit(\"Cherry\", 10), Fruit(\"Apple\", 5), Fruit(\"Blueberry\", 20)]\n",
    "for f in sorted(L, key=lambda x: x.price):\n",
    "    print(f.name)"
   ]
  },
  {
   "cell_type": "code",
   "execution_count": 10,
   "metadata": {},
   "outputs": [
    {
     "name": "stdout",
     "output_type": "stream",
     "text": [
      "-----sorted by price, referencing a class method-----\n",
      "Apple\n",
      "Cherry\n",
      "Blueberry\n",
      "---- one more way to do the same thing-----\n",
      "Apple\n",
      "Cherry\n",
      "Blueberry\n"
     ]
    }
   ],
   "source": [
    "class Fruit():\n",
    "    def __init__(self, name, price):\n",
    "        self.name = name\n",
    "        self.price = price\n",
    "\n",
    "    def sort_priority(self):\n",
    "        return self.price\n",
    "\n",
    "L = [Fruit(\"Cherry\", 10), Fruit(\"Apple\", 5), Fruit(\"Blueberry\", 20)]\n",
    "print(\"-----sorted by price, referencing a class method-----\")\n",
    "for f in sorted(L, key=Fruit.sort_priority):\n",
    "    print(f.name)\n",
    "\n",
    "print(\"---- one more way to do the same thing-----\")\n",
    "for f in sorted(L, key=lambda x: x.sort_priority()):\n",
    "    print(f.name)"
   ]
  },
  {
   "cell_type": "markdown",
   "metadata": {},
   "source": [
    "# Class Variables and Instance Variables"
   ]
  },
  {
   "cell_type": "code",
   "execution_count": 11,
   "metadata": {},
   "outputs": [
    {
     "name": "stdout",
     "output_type": "stream",
     "text": [
      "4\n",
      "3 *\n",
      "2\n",
      "1\n",
      "01234\n",
      "\n",
      "3\n",
      "2  *\n",
      "1\n",
      "0\n",
      "9\n",
      "8\n",
      "7\n",
      "6\n",
      "5\n",
      "4\n",
      "3\n",
      "2\n",
      "1\n",
      "01234567890123\n"
     ]
    }
   ],
   "source": [
    "    class Point:\n",
    "        \"\"\" Point class for representing and manipulating x,y coordinates. \"\"\"\n",
    "\n",
    "        printed_rep = \"*\"\n",
    "\n",
    "        def __init__(self, initX, initY):\n",
    "\n",
    "            self.x = initX\n",
    "            self.y = initY\n",
    "\n",
    "        def graph(self):\n",
    "            rows = []\n",
    "            size = max(int(self.x), int(self.y)) + 2\n",
    "            for j in range(size-1) :\n",
    "                if (j+1) == int(self.y):\n",
    "                    special_row = str((j+1) % 10) + (\" \"*(int(self.x) -1)) + self.printed_rep\n",
    "                    rows.append(special_row)\n",
    "                else:\n",
    "                    rows.append(str((j+1) % 10))\n",
    "            rows.reverse()  # put higher values of y first\n",
    "            x_axis = \"\"\n",
    "            for i in range(size):\n",
    "                x_axis += str(i % 10)\n",
    "            rows.append(x_axis)\n",
    "\n",
    "            return \"\\n\".join(rows)\n",
    "\n",
    "\n",
    "    p1 = Point(2, 3)\n",
    "    p2 = Point(3, 12)\n",
    "    print(p1.graph())\n",
    "    print()\n",
    "    print(p2.graph())\n"
   ]
  },
  {
   "cell_type": "markdown",
   "metadata": {},
   "source": [
    "# A Tamagotchi Game"
   ]
  },
  {
   "cell_type": "markdown",
   "metadata": {},
   "source": [
    "There are also a lot of interesting ways to put user-defined classes to use that don’t involve data from the internet. Let’s pull all these mechanics together in a slightly more interesting way than we got with the Point class. Remember Tamagotchis, the little electronic pets? As time passed, they would get hungry or bored. You had to clean up after them or they would get sick. And you did it all with a few buttons on the device.\n",
    "\n",
    "We are going to make a simplified, text-based version of that. In your problem set and in the chapter on Inheritance we will extend this further.\n",
    "\n",
    "First, let’s start with a class Pet. Each instance of the class will be one electronic pet for the user to take care of. Each instance will have a current state, consisting of three instance variables:\n",
    "\n",
    "        hunger, an integer\n",
    "\n",
    "        boredom, an integer\n",
    "\n",
    "        sounds, a list of strings, each a word that the pet has been taught to say\n",
    "\n",
    "In the __init__ method, hunger and boredom are initialized to random values between 0 and the threshold for being hungry or bored. The sounds instance variable is initialized to be a copy of the class variable with the same name. The reason we make a copy of the list is that we will perform destructive operations (appending new sounds to the list). If we didn’t make a copy, then those destructive operations would affect the list that the class variable points to, and thus teaching a sound to any of the pets would teach it to all instances of the class!\n",
    "\n",
    "There is a clock_tick method which just increments the boredom and hunger instance variables, simulating the idea that as time passes, the pet gets more bored and hungry.\n",
    "\n",
    "The __str__ method produces a string representation of the pet’s current state, notably whether it is bored or hungry or whether it is happy. It’s bored if the boredom instance variable is larger than the threshold, which is set as a class variable.\n",
    "\n",
    "To relieve boredom, the pet owner can either teach the pet a new word, using the teach() method, or interact with the pet, using the hi() method. In response to teach(), the pet adds the new word to its list of words. In response to the hi() method, it prints out one of the words it knows, randomly picking one from its list of known words. Both hi() and teach() cause an invocation of the reduce_boredom() method. It decrements the boredom state by an amount that it reads from the class variable boredom_decrement. The boredom state can never go below 0.\n",
    "\n",
    "To relieve hunger, we call the feed() method."
   ]
  },
  {
   "cell_type": "markdown",
   "metadata": {},
   "source": [
    "## A list of major destructive methods (overwriting the original data).\n",
    "\n",
    "** **\n",
    "\n",
    "    [insert](#insert method)\n",
    "    [append](#append method)\n",
    "    [extend](#extend method)\n",
    "    [Add by slice](#Add by slice)\n",
    "    [Add element](#Add element)\n",
    "    Replace\n",
    "\n",
    "** ** 5. [remove](#remove method) 6. [pop](#pop method) 7. [clear](#clear method) 8. [del statement](#del statement)\n",
    "\n",
    "    [Delete by specifying index number](#Delete by specifying index number)\n",
    "    [Delete by specifying a range](#Delete by specifying a range)\n",
    "    [Delete All](#Delete All)\n",
    "\n",
    "** ** 9. [sort](#sort method)\n",
    "\n",
    "    [Ascending sort](# Ascending sort)\n",
    "    [Descending Sort](#Descending Sort)\n",
    "    [reverse](#reverse method)\n",
    "\n",
    "** ** 11. [Notes on destructive methods](#Notes on destructive methods) 12. [Destructive method example](# Destructive method example)\n"
   ]
  },
  {
   "cell_type": "code",
   "execution_count": 8,
   "metadata": {},
   "outputs": [],
   "source": [
    "from random import randrange\n",
    "\n",
    "class Pet():\n",
    "    boredom_decrement = 4\n",
    "    hunger_decrement = 6\n",
    "    boredom_threshold = 5\n",
    "    hunger_threshold = 10\n",
    "    sounds = ['Mrrp']\n",
    "    def __init__(self, name = \"Kitty\"):\n",
    "        self.name = name\n",
    "        self.hunger = randrange(self.hunger_threshold)\n",
    "        self.boredom = randrange(self.boredom_threshold)\n",
    "        self.sounds = self.sounds[:]  \n",
    "        # copy the class attribute, so that when we make changes to it, we won't affect the other Pets in the class\n",
    "\n",
    "    def clock_tick(self):\n",
    "        self.boredom += 1\n",
    "        self.hunger += 1\n",
    "\n",
    "    def mood(self):\n",
    "        if self.hunger <= self.hunger_threshold and self.boredom <= self.boredom_threshold:\n",
    "            return \"happy\"\n",
    "        elif self.hunger > self.hunger_threshold:\n",
    "            return \"hungry\"\n",
    "        else:\n",
    "            return \"bored\"\n",
    "\n",
    "    def __str__(self):\n",
    "        state = \"     I'm \" + self.name + \". \"\n",
    "        state += \" I feel \" + self.mood() + \". \"\n",
    "        # state += \"Hunger {} Boredom {} Words {}\".format(self.hunger, self.boredom, self.sounds)\n",
    "        return state\n",
    "\n",
    "    def hi(self):\n",
    "        print(self.sounds[randrange(len(self.sounds))])\n",
    "        self.reduce_boredom()\n",
    "\n",
    "    def teach(self, word):\n",
    "        self.sounds.append(word)\n",
    "        self.reduce_boredom()\n",
    "\n",
    "    def feed(self):\n",
    "        self.reduce_hunger()\n",
    "\n",
    "    def reduce_hunger(self):\n",
    "        self.hunger = max(0, self.hunger - self.hunger_decrement)\n",
    "\n",
    "    def reduce_boredom(self):\n",
    "        self.boredom = max(0, self.boredom - self.boredom_decrement)\n"
   ]
  },
  {
   "cell_type": "code",
   "execution_count": 21,
   "metadata": {},
   "outputs": [
    {
     "name": "stdout",
     "output_type": "stream",
     "text": [
      "     I'm Fido.  I feel happy. \n",
      "9\n",
      "None\n",
      "['Mrrp', 'ah']\n",
      "9\n",
      "None\n",
      "3\n"
     ]
    }
   ],
   "source": [
    "p1 = Pet(\"Fido\")\n",
    "print(p1)\n",
    "print(p1.hunger)\n",
    "print(p1.teach('ah'))\n",
    "print(p1.sounds)\n",
    "print(p1.hunger)\n",
    "print(p1.reduce_hunger())\n",
    "print(p1.hunger)"
   ]
  },
  {
   "cell_type": "code",
   "execution_count": 25,
   "metadata": {},
   "outputs": [
    {
     "name": "stdout",
     "output_type": "stream",
     "text": [
      "     I'm Fido.  I feel happy. \n",
      "-------------------------------\n",
      "     I'm Fido.  I feel happy. \n",
      "     I'm Fido.  I feel happy. \n",
      "     I'm Fido.  I feel bored. \n",
      "     I'm Fido.  I feel bored. \n",
      "     I'm Fido.  I feel bored. \n",
      "     I'm Fido.  I feel bored. \n",
      "     I'm Fido.  I feel bored. \n",
      "     I'm Fido.  I feel bored. \n",
      "     I'm Fido.  I feel bored. \n",
      "     I'm Fido.  I feel bored. \n"
     ]
    }
   ],
   "source": [
    "\n",
    "print(\"-------------------------------\")\n",
    "for i in range(10):\n",
    "    p1.clock_tick()\n",
    "    print(p1)"
   ]
  },
  {
   "cell_type": "code",
   "execution_count": 29,
   "metadata": {},
   "outputs": [
    {
     "name": "stdout",
     "output_type": "stream",
     "text": [
      "Mrrp\n"
     ]
    }
   ],
   "source": [
    "p1.feed()\n",
    "p1.hi()\n",
    "p1.teach(\"Boo\")"
   ]
  },
  {
   "cell_type": "code",
   "execution_count": 30,
   "metadata": {},
   "outputs": [
    {
     "name": "stdout",
     "output_type": "stream",
     "text": [
      "Mrrp\n",
      "Mrrp\n",
      "Boo\n",
      "Boo\n",
      "Boo\n",
      "Boo\n",
      "Boo\n",
      "Mrrp\n",
      "Mrrp\n",
      "Boo\n",
      "     I'm Fido.  I feel happy. \n"
     ]
    }
   ],
   "source": [
    "for i in range(10):\n",
    "    p1.hi()\n",
    "print(p1)"
   ]
  },
  {
   "cell_type": "code",
   "execution_count": 32,
   "metadata": {},
   "outputs": [
    {
     "name": "stdout",
     "output_type": "stream",
     "text": [
      "\n",
      "\n",
      "        Quit\n",
      "        Adopt <petname_with_no_spaces_please>\n",
      "        Greet <petname>\n",
      "        Teach <petname> <word>\n",
      "        Feed <petname>\n",
      "\n",
      "        Choice: Adopt\n",
      "I didn't understand that. Please try again.\n",
      "\n",
      "        Quit\n",
      "        Adopt <petname_with_no_spaces_please>\n",
      "        Greet <petname>\n",
      "        Teach <petname> <word>\n",
      "        Feed <petname>\n",
      "\n",
      "        Choice: Adopt Fido\n",
      "\n",
      "     I'm Fido.  I feel happy. \n",
      "\n",
      "        Quit\n",
      "        Adopt <petname_with_no_spaces_please>\n",
      "        Greet <petname>\n",
      "        Teach <petname> <word>\n",
      "        Feed <petname>\n",
      "\n",
      "        Choice: Greet Fido\n",
      "Mrrp\n",
      "\n",
      "     I'm Fido.  I feel happy. \n",
      "\n",
      "        Quit\n",
      "        Adopt <petname_with_no_spaces_please>\n",
      "        Greet <petname>\n",
      "        Teach <petname> <word>\n",
      "        Feed <petname>\n",
      "\n",
      "        Choice: Teach Fido \"GAGA\"\n",
      "\n",
      "     I'm Fido.  I feel happy. \n",
      "\n",
      "        Quit\n",
      "        Adopt <petname_with_no_spaces_please>\n",
      "        Greet <petname>\n",
      "        Teach <petname> <word>\n",
      "        Feed <petname>\n",
      "\n",
      "        Choice: Feed Fido\n",
      "\n",
      "     I'm Fido.  I feel happy. \n",
      "\n",
      "        Quit\n",
      "        Adopt <petname_with_no_spaces_please>\n",
      "        Greet <petname>\n",
      "        Teach <petname> <word>\n",
      "        Feed <petname>\n",
      "\n",
      "        Choice: Quit\n",
      "Exiting...\n"
     ]
    }
   ],
   "source": [
    "import sys\n",
    "# sys.setExecutionLimit(60000)\n",
    "\n",
    "def whichone(petlist, name):\n",
    "    for pet in petlist:\n",
    "        if pet.name == name:\n",
    "            return pet\n",
    "    return None # no pet matched\n",
    "\n",
    "def play():\n",
    "    animals = []\n",
    "\n",
    "    option = \"\"\n",
    "    base_prompt = \"\"\"\n",
    "        Quit\n",
    "        Adopt <petname_with_no_spaces_please>\n",
    "        Greet <petname>\n",
    "        Teach <petname> <word>\n",
    "        Feed <petname>\n",
    "\n",
    "        Choice: \"\"\"\n",
    "    feedback = \"\"\n",
    "    while True:\n",
    "        action = input(feedback + \"\\n\" + base_prompt)\n",
    "        feedback = \"\"\n",
    "        words = action.split()\n",
    "        if len(words) > 0:\n",
    "            command = words[0]\n",
    "        else:\n",
    "            command = None\n",
    "        if command == \"Quit\":\n",
    "            print(\"Exiting...\")\n",
    "            return\n",
    "        elif command == \"Adopt\" and len(words) > 1:\n",
    "            if whichone(animals, words[1]):\n",
    "                feedback += \"You already have a pet with that name\\n\"\n",
    "            else:\n",
    "                animals.append(Pet(words[1]))\n",
    "        elif command == \"Greet\" and len(words) > 1:\n",
    "            pet = whichone(animals, words[1])\n",
    "            if not pet:\n",
    "                feedback += \"I didn't recognize that pet name. Please try again.\\n\"\n",
    "                print()\n",
    "            else:\n",
    "                pet.hi()\n",
    "        elif command == \"Teach\" and len(words) > 2:\n",
    "            pet = whichone(animals, words[1])\n",
    "            if not pet:\n",
    "                feedback += \"I didn't recognize that pet name. Please try again.\"\n",
    "            else:\n",
    "                pet.teach(words[2])\n",
    "        elif command == \"Feed\" and len(words) > 1:\n",
    "            pet = whichone(animals, words[1])\n",
    "            if not pet:\n",
    "                feedback += \"I didn't recognize that pet name. Please try again.\"\n",
    "            else:\n",
    "                pet.feed()\n",
    "        else:\n",
    "            feedback+= \"I didn't understand that. Please try again.\"\n",
    "\n",
    "        for pet in animals:\n",
    "            pet.clock_tick()\n",
    "            feedback += \"\\n\" + pet.__str__()\n",
    "\n",
    "\n",
    "\n",
    "play()\n"
   ]
  },
  {
   "cell_type": "code",
   "execution_count": 33,
   "metadata": {},
   "outputs": [],
   "source": [
    "base_prompt = \"\"\"\n",
    "    Quit\n",
    "    Adopt <petname_with_no_spaces_please>\n",
    "    Greet <petname>\n",
    "    Teach <petname> <word>\n",
    "    Feed <petname>\n",
    "\n",
    "    Choice: \"\"\"\n",
    "action = \"\" + \"\\n\" + base_prompt"
   ]
  },
  {
   "cell_type": "code",
   "execution_count": 34,
   "metadata": {},
   "outputs": [
    {
     "data": {
      "text/plain": [
       "'\\n\\n    Quit\\n    Adopt <petname_with_no_spaces_please>\\n    Greet <petname>\\n    Teach <petname> <word>\\n    Feed <petname>\\n\\n    Choice: '"
      ]
     },
     "execution_count": 34,
     "metadata": {},
     "output_type": "execute_result"
    }
   ],
   "source": [
    "action"
   ]
  },
  {
   "cell_type": "code",
   "execution_count": 35,
   "metadata": {},
   "outputs": [
    {
     "data": {
      "text/plain": [
       "['Quit',\n",
       " 'Adopt',\n",
       " '<petname_with_no_spaces_please>',\n",
       " 'Greet',\n",
       " '<petname>',\n",
       " 'Teach',\n",
       " '<petname>',\n",
       " '<word>',\n",
       " 'Feed',\n",
       " '<petname>',\n",
       " 'Choice:']"
      ]
     },
     "execution_count": 35,
     "metadata": {},
     "output_type": "execute_result"
    }
   ],
   "source": [
    "action.split()"
   ]
  },
  {
   "cell_type": "code",
   "execution_count": null,
   "metadata": {},
   "outputs": [],
   "source": []
  },
  {
   "cell_type": "markdown",
   "metadata": {},
   "source": [
    "# Assignments"
   ]
  },
  {
   "cell_type": "markdown",
   "metadata": {},
   "source": [
    "Define a class called Bike that accepts a string and a float as input, and assigns those inputs respectively to two instance variables, color and price. Assign to the variable testOne an instance of Bike whose color is blue and whose price is 89.99. Assign to the variable testTwo an instance of Bike whose color is purple and whose price is 25.0."
   ]
  },
  {
   "cell_type": "code",
   "execution_count": 36,
   "metadata": {},
   "outputs": [],
   "source": [
    "class Bike:\n",
    "    def __init__(self, color, price):\n",
    "        self.color = color\n",
    "        self.price = price\n",
    "\n",
    "testOne = Bike('blue',89.99)\n",
    "testTwo = Bike('purple',25.0)"
   ]
  },
  {
   "cell_type": "markdown",
   "metadata": {},
   "source": [
    "Create a class called AppleBasket whose constructor accepts two inputs: a string representing a color, and a number representing a quantity of apples. The constructor should initialize two instance variables: apple_color and apple_quantity. Write a class method called increase that increases the quantity by 1 each time it is invoked. You should also write a __str__ method for this class that returns a string of the format: \"A basket of [quantity goes here] [color goes here] apples.\" e.g. \"A basket of 4 red apples.\" or \"A basket of 50 blue apples.\" (Writing some test code that creates instances and assigns values to variables may help you solve this problem!)"
   ]
  },
  {
   "cell_type": "code",
   "execution_count": 37,
   "metadata": {},
   "outputs": [],
   "source": [
    "class AppleBasket:\n",
    "    def __init__(self, c, q):\n",
    "        self.apple_color = c\n",
    "        self.apple_quantity = q\n",
    "        \n",
    "    def __str__(self):\n",
    "        return \"A basket of {} {} apples.\".format(self.apple_quantity,self.apple_color)\n",
    "    \n",
    "    def increase(self):\n",
    "        self.apple_quantity += 1"
   ]
  },
  {
   "cell_type": "markdown",
   "metadata": {},
   "source": [
    "Define a class called BankAccount that accepts the name you want associated with your bank account in a string, and an integer that represents the amount of money in the account. The constructor should initialize two instance variables from those inputs: name and amt. Add a string method so that when you print an instance of BankAccount, you see \"Your account, [name goes here], has [start_amt goes here] dollars.\" Create an instance of this class with \"Bob\" as the name and 100 as the amount. Save this to the variable t1."
   ]
  },
  {
   "cell_type": "code",
   "execution_count": 38,
   "metadata": {},
   "outputs": [],
   "source": [
    "class BankAccount:\n",
    "    def __init__(self, name, amt):\n",
    "        self.name = name\n",
    "        self.amt = amt\n",
    "        \n",
    "    def __str__(self):\n",
    "        return \"Your account, {}, has {} dollars.\".format(self.name,self.amt)\n",
    "    \n",
    "t1 = BankAccount(\"Bob\",100)\n"
   ]
  },
  {
   "cell_type": "code",
   "execution_count": null,
   "metadata": {},
   "outputs": [],
   "source": []
  }
 ],
 "metadata": {
  "kernelspec": {
   "display_name": "Python 3",
   "language": "python",
   "name": "python3"
  },
  "language_info": {
   "codemirror_mode": {
    "name": "ipython",
    "version": 3
   },
   "file_extension": ".py",
   "mimetype": "text/x-python",
   "name": "python",
   "nbconvert_exporter": "python",
   "pygments_lexer": "ipython3",
   "version": "3.7.0"
  }
 },
 "nbformat": 4,
 "nbformat_minor": 2
}
