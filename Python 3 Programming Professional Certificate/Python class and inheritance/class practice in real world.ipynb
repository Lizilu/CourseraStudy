{
 "cells": [
  {
   "cell_type": "markdown",
   "metadata": {},
   "source": [
    "# 实现python中的map function"
   ]
  },
  {
   "cell_type": "markdown",
   "metadata": {},
   "source": [
    "## 直接实现"
   ]
  },
  {
   "cell_type": "code",
   "execution_count": 1,
   "metadata": {},
   "outputs": [],
   "source": [
    "def my_map(fun,*iterations):\n",
    "    print(iterations)\n",
    "    for items in zip(*iterations):\n",
    "        print(items)\n",
    "        yield fun(*items)"
   ]
  },
  {
   "cell_type": "raw",
   "metadata": {},
   "source": [
    "python函数参数前面单星号（*）和双星号（**）的区别\n",
    "\n",
    "在python的函数中经常能看到输入的参数前面有一个或者两个星号：例如\n",
    "\n",
    "def foo(param1, *param2):\n",
    "def bar(param1, **param2):\n",
    "\n",
    "这两种用法其实都是用来将任意个数的参数导入到python函数中。\n",
    "\n",
    "单星号（*）：*agrs\n",
    "将所以参数以元组(tuple)的形式导入：\n",
    "例如：\n",
    "\n",
    ">>> def foo(param1, *param2):\n",
    "        print param1\n",
    "        print param2\n",
    ">>> foo(1,2,3,4,5)\n",
    "1\n",
    "(2, 3, 4, 5)\n",
    "\n",
    "双星号（**）：**kwargs\n",
    "将参数以字典的形式导入\n",
    "\n",
    ">>> def bar(param1, **param2):\n",
    "        print param1\n",
    "        print param2\n",
    ">>> bar(1,a=2,b=3)\n",
    "1\n",
    "{'a': 2, 'b': 3}\n",
    "\n",
    "此外，单星号的另一个用法是解压参数列表：\n",
    "\n",
    ">>> def foo(bar, lee):\n",
    "        print bar, lee\n",
    ">>> l = [1, 2]\n",
    ">>> foo(*l)\n",
    "1 2\n",
    "\n",
    "当然这两个用法可以同时出现在一个函数中：例如\n",
    "\n",
    ">>> def foo(a, b=10, *args, **kwargs):\n",
    "        print a\n",
    "        print b\n",
    "        print args\n",
    "        print kwargs\n",
    ">>> foo(1, 2, 3, 4, e=5, f=6, g=7)\n",
    "1\n",
    "2\n",
    "3 4\n",
    "{'e': 5, 'g': 7, 'f': 6}"
   ]
  },
  {
   "cell_type": "code",
   "execution_count": 8,
   "metadata": {},
   "outputs": [
    {
     "data": {
      "text/plain": [
       "[2, 6, 9, 16]"
      ]
     },
     "execution_count": 8,
     "metadata": {},
     "output_type": "execute_result"
    }
   ],
   "source": [
    "##利用map实现\n",
    "f = lambda a,b: a*b\n",
    "a = [1,2,3,4,5]\n",
    "b = [2,3,3,4]\n",
    "list(map(f,a,b))"
   ]
  },
  {
   "cell_type": "code",
   "execution_count": 10,
   "metadata": {},
   "outputs": [
    {
     "name": "stdout",
     "output_type": "stream",
     "text": [
      "([1, 2, 3, 4, 5], [2, 3, 3, 4])\n",
      "(1, 2)\n",
      "(2, 3)\n",
      "(3, 3)\n",
      "(4, 4)\n"
     ]
    },
    {
     "data": {
      "text/plain": [
       "[2, 6, 9, 16]"
      ]
     },
     "execution_count": 10,
     "metadata": {},
     "output_type": "execute_result"
    }
   ],
   "source": [
    "##利用自己的函数实现\n",
    "list(my_map(lambda a,b: a*b,a,b))"
   ]
  },
  {
   "cell_type": "markdown",
   "metadata": {},
   "source": [
    "## python中自带map函数的实现方式"
   ]
  },
  {
   "cell_type": "code",
   "execution_count": 11,
   "metadata": {},
   "outputs": [],
   "source": [
    "class map_p:\n",
    "    \n",
    "    def __init__(self,func,*args):\n",
    "        self.iterators=args\n",
    "        self.func=func\n",
    " \n",
    "    def __iter__(self):\n",
    "        return self.generator()\n",
    " \n",
    "    def generator(self):\n",
    "        iterators,func=self.iterators,self.func\n",
    "        try:\n",
    "            i = 0\n",
    "            while 1:\n",
    "                yield func(*[j[i] for j in iterators])\n",
    "                i += 1\n",
    "        except IndexError:\n",
    "            pass\n"
   ]
  },
  {
   "cell_type": "code",
   "execution_count": 12,
   "metadata": {},
   "outputs": [
    {
     "data": {
      "text/plain": [
       "[2, 6, 9, 16]"
      ]
     },
     "execution_count": 12,
     "metadata": {},
     "output_type": "execute_result"
    }
   ],
   "source": [
    "list(map_p(lambda a,b: a*b,a,b))"
   ]
  },
  {
   "cell_type": "markdown",
   "metadata": {},
   "source": [
    "## 自己实现的map的class"
   ]
  },
  {
   "cell_type": "code",
   "execution_count": 14,
   "metadata": {},
   "outputs": [],
   "source": [
    "class my_map2:\n",
    "    def __init__(self,func,*iteration):\n",
    "        self.func = func\n",
    "        self.iteration = iteration\n",
    "        \n",
    "    def __str__(self):\n",
    "        return \"This is to bulid map function in python\"\n",
    "        \n",
    "    def __iter__(self):  ## This is for generating iteration\n",
    "        return self.my_map()\n",
    "    \n",
    "    def my_map(self):\n",
    "        for item in zip(*self.iteration):\n",
    "            yield(self.func(*item))"
   ]
  },
  {
   "cell_type": "code",
   "execution_count": 15,
   "metadata": {},
   "outputs": [
    {
     "data": {
      "text/plain": [
       "[2, 6, 9, 16]"
      ]
     },
     "execution_count": 15,
     "metadata": {},
     "output_type": "execute_result"
    }
   ],
   "source": [
    "list(my_map2(lambda a,b: a*b,a,b))"
   ]
  },
  {
   "cell_type": "markdown",
   "metadata": {},
   "source": [
    "# 自己实现filter"
   ]
  },
  {
   "cell_type": "code",
   "execution_count": 17,
   "metadata": {},
   "outputs": [
    {
     "data": {
      "text/plain": [
       "[1, 3, 5, 7, 9]"
      ]
     },
     "execution_count": 17,
     "metadata": {},
     "output_type": "execute_result"
    }
   ],
   "source": [
    "def is_odd(n):\n",
    "    return n % 2 == 1\n",
    " \n",
    "newlist = filter(is_odd, [1, 2, 3, 4, 5, 6, 7, 8, 9, 10])\n",
    "list(newlist)"
   ]
  },
  {
   "cell_type": "code",
   "execution_count": 19,
   "metadata": {},
   "outputs": [
    {
     "name": "stdout",
     "output_type": "stream",
     "text": [
      "Help on class filter in module builtins:\n",
      "\n",
      "class filter(object)\n",
      " |  filter(function or None, iterable) --> filter object\n",
      " |  \n",
      " |  Return an iterator yielding those items of iterable for which function(item)\n",
      " |  is true. If function is None, return the items that are true.\n",
      " |  \n",
      " |  Methods defined here:\n",
      " |  \n",
      " |  __getattribute__(self, name, /)\n",
      " |      Return getattr(self, name).\n",
      " |  \n",
      " |  __iter__(self, /)\n",
      " |      Implement iter(self).\n",
      " |  \n",
      " |  __next__(self, /)\n",
      " |      Implement next(self).\n",
      " |  \n",
      " |  __reduce__(...)\n",
      " |      Return state information for pickling.\n",
      " |  \n",
      " |  ----------------------------------------------------------------------\n",
      " |  Static methods defined here:\n",
      " |  \n",
      " |  __new__(*args, **kwargs) from builtins.type\n",
      " |      Create and return a new object.  See help(type) for accurate signature.\n",
      "\n"
     ]
    }
   ],
   "source": [
    "help(filter)"
   ]
  },
  {
   "cell_type": "code",
   "execution_count": 38,
   "metadata": {},
   "outputs": [],
   "source": [
    "def my_filter(fun,ls):\n",
    "    for item in ls:\n",
    "        if fun(item):\n",
    "            yield item"
   ]
  },
  {
   "cell_type": "code",
   "execution_count": 39,
   "metadata": {},
   "outputs": [
    {
     "data": {
      "text/plain": [
       "[1, 3, 5]"
      ]
     },
     "execution_count": 39,
     "metadata": {},
     "output_type": "execute_result"
    }
   ],
   "source": [
    "list(my_filter(lambda value: value%2==1,[1,2,3,4,5]))"
   ]
  },
  {
   "cell_type": "code",
   "execution_count": null,
   "metadata": {},
   "outputs": [],
   "source": []
  }
 ],
 "metadata": {
  "kernelspec": {
   "display_name": "Python 3",
   "language": "python",
   "name": "python3"
  },
  "language_info": {
   "codemirror_mode": {
    "name": "ipython",
    "version": 3
   },
   "file_extension": ".py",
   "mimetype": "text/x-python",
   "name": "python",
   "nbconvert_exporter": "python",
   "pygments_lexer": "ipython3",
   "version": "3.7.0"
  }
 },
 "nbformat": 4,
 "nbformat_minor": 2
}
