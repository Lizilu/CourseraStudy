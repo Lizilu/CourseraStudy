{
 "cells": [
  {
   "cell_type": "markdown",
   "metadata": {},
   "source": [
    "# Reading in data from a CSV File"
   ]
  },
  {
   "cell_type": "code",
   "execution_count": null,
   "metadata": {},
   "outputs": [],
   "source": [
    "fileconnection = open(\"olympics.txt\", 'r')\n",
    "lines = fileconnection.readlines()\n",
    "print(type(lines))\n",
    "header = lines[0]\n",
    "field_names = header.strip().split(',')\n",
    "print(field_names)\n",
    "for row in lines[1:]:\n",
    "    vals = row.strip().split(',')\n",
    "    if vals[5] != \"NA\":\n",
    "        print(\"{}: {}; {}\".format(\n",
    "                vals[0],\n",
    "                vals[4],\n",
    "                vals[5]))"
   ]
  },
  {
   "cell_type": "raw",
   "metadata": {},
   "source": [
    "<class 'list'>\n",
    "['Name', 'Sex', 'Age', 'Team', 'Event', 'Medal']\n",
    "Edgar Lindenau Aabye: Tug-Of-War; Gold\n",
    "Arvo Ossian Aaltonen: Swimming; Bronze\n",
    "Arvo Ossian Aaltonen: Swimming; Bronze\n",
    "Juhamatti Tapio Aaltonen: Ice Hockey; Bronze\n",
    "Paavo Johannes Aaltonen: Gymnastics; Bronze\n",
    "Paavo Johannes Aaltonen: Gymnastics; Gold\n",
    "Paavo Johannes Aaltonen: Gymnastics; Gold\n",
    "Paavo Johannes Aaltonen: Gymnastics; Gold\n",
    "Paavo Johannes Aaltonen: Gymnastics; Bronze"
   ]
  },
  {
   "cell_type": "markdown",
   "metadata": {},
   "source": [
    "# Writing data to a CSV File"
   ]
  },
  {
   "cell_type": "code",
   "execution_count": null,
   "metadata": {},
   "outputs": [],
   "source": [
    "n = [0] * 12\n",
    "for i in range(1,13):\n",
    "    n[i-1] = i *12\n",
    "outfile = open(\"Multiples of 12\", \"w\")\n",
    "for j in range(0, len(n)):\n",
    "    outfile.write(str(j+1) + ',' + str(n[j]))\n",
    "    # +1 to j since the array starts at 0 and we start counting at 1\n",
    "    outfile.write('\\n')\n",
    "outfile.close()"
   ]
  },
  {
   "cell_type": "raw",
   "metadata": {},
   "source": [
    "1,12\n",
    "2,24\n",
    "3,36\n",
    "4,48\n",
    "5,60\n",
    "6,72\n",
    "7,84\n",
    "8,96\n",
    "9,108\n",
    "10,120\n",
    "11,132"
   ]
  },
  {
   "cell_type": "code",
   "execution_count": null,
   "metadata": {},
   "outputs": [],
   "source": [
    "olympians = [(\"John Aalberg\", 31, \"Cross Country Skiing\"),\n",
    "             (\"Minna Maarit Aalto\", 30, \"Sailing\"),\n",
    "             (\"Win Valdemar Aaltonen\", 54, \"Art Competitions\"),\n",
    "             (\"Wakako Abe\", 18, \"Cycling\")]\n",
    "\n",
    "outfile = open(\"reduced_olympics.csv\", \"w\")\n",
    "# output the header row\n",
    "outfile.write('Name,Age,Sport')\n",
    "outfile.write('\\n')\n",
    "# output each of the rows:\n",
    "for olympian in olympians:\n",
    "    row_string = '{},{},{}'.format(olympian[0], olympian[1], olympian[2])  ##可换成.format(*olympian)\n",
    "    #An alternative, also clear way to do it would be with \n",
    "    #the .join method: row_string = ','.join([olympian[0], str(olympian[1]), olympian[2]]).\n",
    "    outfile.write(row_string)\n",
    "    outfile.write('\\n')\n",
    "outfile.close()"
   ]
  },
  {
   "cell_type": "raw",
   "metadata": {},
   "source": [
    "Name,Age,Sport\n",
    "John Aalberg,31,Cross Country Skiing\n",
    "Minna Maarit Aalto,30,Sailing\n",
    "Win Valdemar Aaltonen,54,Art Competitions\n",
    "Wakako Abe,18,Cycling"
   ]
  },
  {
   "cell_type": "code",
   "execution_count": 3,
   "metadata": {},
   "outputs": [],
   "source": [
    "##注意str中有逗号的情况\n",
    "olympians = [(\"John Aalberg\", 31, \"Cross Country Skiing, 15KM\"),\n",
    "             (\"Minna Maarit Aalto\", 30, \"Sailing\"),\n",
    "             (\"Win Valdemar Aaltonen\", 54, \"Art Competitions\"),\n",
    "             (\"Wakako Abe\", 18, \"Cycling\")]\n",
    "\n",
    "outfile = open(\"reduced_olympics2.csv\", \"w\")\n",
    "# output the header row\n",
    "outfile.write('\"Name\",\"Age\",\"Sport\"')\n",
    "outfile.write('\\n')\n",
    "# output each of the rows:\n",
    "for olympian in olympians:\n",
    "    row_string = '\"{}\", \"{}\", \"{}\"'.format(olympian[0], olympian[1], olympian[2])\n",
    "    outfile.write(row_string)\n",
    "    outfile.write('\\n')\n",
    "outfile.close()"
   ]
  },
  {
   "cell_type": "markdown",
   "metadata": {},
   "source": [
    "#Output\n",
    "\"Name\",\"Age\",\"Sport\"\n",
    "\"John Aalberg\", \"31\", \"Cross Country Skiing, 15KM\"\n",
    "\"Minna Maarit Aalto\", \"30\", \"Sailing\"\n",
    "\"Win Valdemar Aaltonen\", \"54\", \"Art Competitions\"\n",
    "\"Wakako Abe\", \"18\", \"Cycling\"\n",
    "\n",
    "##如果用'Name,Age,Sport'及'{},{},{}'，则会出现以下情况，那后续处理会比较麻烦，不好进行分割\n",
    "Name,Age,Sport\n",
    "John Aalberg,31,Cross Country Skiing, 15KM\n",
    "Minna Maarit Aalto,30,Sailing\n",
    "Win Valdemar Aaltonen,54,Art Competitions\n",
    "Wakako Abe,18,Cycling"
   ]
  },
  {
   "cell_type": "markdown",
   "metadata": {},
   "source": [
    "# Tips on Handling Files"
   ]
  },
  {
   "cell_type": "markdown",
   "metadata": {},
   "source": [
    "When working with files, there are a few things to keep in mind. When naming files, it’s best to **not include spaces**. While most operating systems can handle files with spaces in their names, not all can.\n",
    "\n",
    "Additionally, suffixes in files names, for example the .txt in FileNameExample.txt, are not magic. Instead, these suffixes are a convention. For some operating systems the suffixes have no special significance, and only have meaning when used in a program. Other operating systems infer information from the suffixes - for example, .EXE is a suffix that means a file is executable.\n",
    "\n",
    "It’s a good idea to follow the conventions. If a file contains CSV formatted data, name it with the extension .csv, not .txt. A Python program will be able to read it either way, but if you follow the convention you will help other people guess what’s in the file. And you will also help the computer’s operating system to guess what application program it should open when you double-click on the file."
   ]
  },
  {
   "cell_type": "markdown",
   "metadata": {},
   "source": [
    "# Assignment"
   ]
  },
  {
   "cell_type": "markdown",
   "metadata": {},
   "source": [
    "The textfile, travel_plans.txt, contains the summer travel plans for someone with some commentary. Find the total number of characters in the file and save to the variable num."
   ]
  },
  {
   "cell_type": "code",
   "execution_count": null,
   "metadata": {},
   "outputs": [],
   "source": [
    "fileread = open(\"travel_plans.txt\",\"r\")\n",
    "lines = fileread.read()\n",
    "print(type(lines))\n",
    "num = 0\n",
    "for i in lines:\n",
    "    num += 1"
   ]
  },
  {
   "cell_type": "markdown",
   "metadata": {},
   "source": [
    "We have provided a file called emotion_words.txt that contains lines of words that describe emotions. Find the total number of words in the file and assign this value to the variable num_words."
   ]
  },
  {
   "cell_type": "code",
   "execution_count": null,
   "metadata": {},
   "outputs": [],
   "source": [
    "fileread = open(\"emotion_words.txt\",\"r\")\n",
    "lines = fileread.read()\n",
    "print(lines)\n",
    "print(lines.split())\n",
    "print(lines.split(\" \"))\n",
    "num_words = len(lines.split())\n",
    "print(num_words)"
   ]
  },
  {
   "cell_type": "raw",
   "metadata": {},
   "source": [
    "Sad upset blue down melancholy somber bitter troubled\n",
    "Angry mad enraged irate irritable wrathful outraged infuriated\n",
    "Happy cheerful content elated joyous delighted lively glad\n",
    "Confused disoriented puzzled perplexed dazed befuddled\n",
    "Excited eager thrilled delighted\n",
    "Scared afraid fearful panicked terrified petrified startled\n",
    "Nervous anxious jittery jumpy tense uneasy apprehensive\n",
    "\n",
    "['Sad', 'upset', 'blue', 'down', 'melancholy', 'somber', 'bitter', 'troubled', 'Angry', 'mad', 'enraged', 'irate', 'irritable', 'wrathful', 'outraged', 'infuriated', 'Happy', 'cheerful', 'content', 'elated', 'joyous', 'delighted', 'lively', 'glad', 'Confused', 'disoriented', 'puzzled', 'perplexed', 'dazed', 'befuddled', 'Excited', 'eager', 'thrilled', 'delighted', 'Scared', 'afraid', 'fearful', 'panicked', 'terrified', 'petrified', 'startled', 'Nervous', 'anxious', 'jittery', 'jumpy', 'tense', 'uneasy', 'apprehensive']\n",
    "['Sad', 'upset', 'blue', 'down', 'melancholy', 'somber', 'bitter', 'troubled\\nAngry', 'mad', 'enraged', 'irate', 'irritable', 'wrathful', 'outraged', 'infuriated\\nHappy', 'cheerful', 'content', 'elated', 'joyous', 'delighted', 'lively', 'glad\\nConfused', 'disoriented', 'puzzled', 'perplexed', 'dazed', 'befuddled\\nExcited', 'eager', 'thrilled', 'delighted\\nScared', 'afraid', 'fearful', 'panicked', 'terrified', 'petrified', 'startled\\nNervous', 'anxious', 'jittery', 'jumpy', 'tense', 'uneasy', 'apprehensive\\n']\n",
    "48"
   ]
  },
  {
   "cell_type": "markdown",
   "metadata": {},
   "source": [
    "Assign to the variable num_lines the number of lines in the file school_prompt.txt."
   ]
  },
  {
   "cell_type": "code",
   "execution_count": null,
   "metadata": {},
   "outputs": [],
   "source": [
    "filecon = open(\"school_prompt.txt\",\"r\")\n",
    "lines = filecon.readlines(filecon)\n",
    "num_lines = len(lines)"
   ]
  },
  {
   "cell_type": "markdown",
   "metadata": {},
   "source": [
    "Assign the first 30 characters of school_prompt.txt as a string to the variable beginning_chars."
   ]
  },
  {
   "cell_type": "code",
   "execution_count": null,
   "metadata": {},
   "outputs": [],
   "source": [
    "filecon = open(\"school_prompt.txt\",\"r\")\n",
    "lines = filecon.read()\n",
    "beginning_chars = lines[:30]"
   ]
  },
  {
   "cell_type": "markdown",
   "metadata": {},
   "source": [
    "Challenge: Using the file school_prompt.txt, assign the third word of every line to a list called three."
   ]
  },
  {
   "cell_type": "code",
   "execution_count": null,
   "metadata": {},
   "outputs": [],
   "source": [
    "filecon = open(\"school_prompt.txt\",\"r\")\n",
    "lines = filecon.readlines()\n",
    "three = []\n",
    "for line in lines:\n",
    "    three.append(line.split()[2])"
   ]
  },
  {
   "cell_type": "markdown",
   "metadata": {},
   "source": [
    "Challenge: Create a list called emotions that contains the first word of every line in emotion_words.txt."
   ]
  },
  {
   "cell_type": "code",
   "execution_count": null,
   "metadata": {},
   "outputs": [],
   "source": [
    "filecon = open(\"emotion_words.txt\",\"r\")\n",
    "lines = filecon.readlines()\n",
    "emotions = []\n",
    "for line in lines:\n",
    "    emotions.append(line.split()[0])\n",
    "filecon.close()"
   ]
  },
  {
   "cell_type": "markdown",
   "metadata": {},
   "source": [
    "Assign the first 33 characters from the textfile, travel_plans.txt to the variable first_chars."
   ]
  },
  {
   "cell_type": "code",
   "execution_count": null,
   "metadata": {},
   "outputs": [],
   "source": [
    "filecon = open(\"travel_plans.txt\",\"r\")\n",
    "lines = filecon.read()\n",
    "first_chars = lines[:33]\n",
    "filecon.close()"
   ]
  },
  {
   "cell_type": "markdown",
   "metadata": {},
   "source": [
    "Challenge: Using the file school_prompt.txt, if the character ‘p’ is in a word, then add the word to a list called p_words"
   ]
  },
  {
   "cell_type": "code",
   "execution_count": null,
   "metadata": {},
   "outputs": [],
   "source": [
    "filecon = open(\"school_prompt.txt\",\"r\")\n",
    "line = filecon.read().split()\n",
    "p_words = []\n",
    "for word in line:\n",
    "    if 'p' in word:\n",
    "        p_words.append(word)"
   ]
  },
  {
   "cell_type": "code",
   "execution_count": null,
   "metadata": {},
   "outputs": [],
   "source": []
  }
 ],
 "metadata": {
  "kernelspec": {
   "display_name": "Python 3",
   "language": "python",
   "name": "python3"
  },
  "language_info": {
   "codemirror_mode": {
    "name": "ipython",
    "version": 3
   },
   "file_extension": ".py",
   "mimetype": "text/x-python",
   "name": "python",
   "nbconvert_exporter": "python",
   "pygments_lexer": "ipython3",
   "version": "3.7.0"
  }
 },
 "nbformat": 4,
 "nbformat_minor": 2
}
